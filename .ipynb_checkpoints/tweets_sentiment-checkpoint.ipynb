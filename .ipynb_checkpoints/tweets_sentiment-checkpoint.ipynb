{
 "cells": [
  {
   "cell_type": "code",
   "execution_count": 68,
   "id": "918d74be-94ab-4034-bb7f-2ce5afa2fffa",
   "metadata": {},
   "outputs": [],
   "source": [
    "import pandas as pd\n",
    "import matplotlib.pyplot as plt\n",
    "from sklearn.feature_extraction.text import CountVectorizer\n",
    "from sklearn.decomposition import LatentDirichletAllocation\n",
    "import nltk\n",
    "from nltk.sentiment.vader import SentimentIntensityAnalyzer\n",
    "from tqdm import tqdm"
   ]
  },
  {
   "cell_type": "markdown",
   "id": "19fd5664-170e-4890-85b1-1bdfa5ab7949",
   "metadata": {},
   "source": [
    "# Introduction"
   ]
  },
  {
   "cell_type": "markdown",
   "id": "70361c67-3e87-4f96-aedd-cc6a241a5687",
   "metadata": {},
   "source": [
    "This notebook is essential in guiding my decision-making process for a game theory task that involves the EU and Russia. The task requires two key parameters: an economic parameter and a public perception parameter. The public perception parameter's weight, represented as \"alpha,\" needs to be determined to calculate the utility gained by each country in every node accurately. Similarly, we need a \"beta\" value to assist us in determining the economic parameter.\n"
   ]
  },
  {
   "cell_type": "markdown",
   "id": "04abd933-2a1e-4e51-aeff-eb989e2c6b9e",
   "metadata": {},
   "source": [
    "The alpha and beta constants are explicitly mentioned at the end of the very end of the notebook."
   ]
  },
  {
   "cell_type": "markdown",
   "id": "8cfe5567-6d3e-46ab-816f-4605657ec2fa",
   "metadata": {},
   "source": [
    "# Part 0"
   ]
  },
  {
   "cell_type": "markdown",
   "id": "41074e26-82fe-4069-bde8-c616643a71f3",
   "metadata": {},
   "source": [
    "In Part 0 I did sentiment analysis on our Ukraine-Russia conflict tweets dataset. However, I realized that this wasn't very helpful towards the goal at hand. Sentiment simply provides how positive or negative the tweet is, it doesn't provide how positive or negative the tweet is towards Ukraine, which is what we need to guage public perception. However, I will still show you the work I did for sentiment analysis..."
   ]
  },
  {
   "cell_type": "code",
   "execution_count": 1,
   "id": "0f554b38-78e5-4ee9-a2bd-3a941700f64c",
   "metadata": {},
   "outputs": [
    {
     "name": "stderr",
     "output_type": "stream",
     "text": [
      "[nltk_data] Downloading package vader_lexicon to\n",
      "[nltk_data]     C:\\Users\\alexk\\AppData\\Roaming\\nltk_data...\n"
     ]
    },
    {
     "data": {
      "text/plain": [
       "True"
      ]
     },
     "execution_count": 1,
     "metadata": {},
     "output_type": "execute_result"
    }
   ],
   "source": [
    "import nltk\n",
    "nltk.download('vader_lexicon')\n"
   ]
  },
  {
   "cell_type": "code",
   "execution_count": 6,
   "id": "bb958a0b-884e-4966-86d2-312d4c514a1f",
   "metadata": {},
   "outputs": [
    {
     "data": {
      "text/html": [
       "<div>\n",
       "<style scoped>\n",
       "    .dataframe tbody tr th:only-of-type {\n",
       "        vertical-align: middle;\n",
       "    }\n",
       "\n",
       "    .dataframe tbody tr th {\n",
       "        vertical-align: top;\n",
       "    }\n",
       "\n",
       "    .dataframe thead th {\n",
       "        text-align: right;\n",
       "    }\n",
       "</style>\n",
       "<table border=\"1\" class=\"dataframe\">\n",
       "  <thead>\n",
       "    <tr style=\"text-align: right;\">\n",
       "      <th></th>\n",
       "      <th>Datetime</th>\n",
       "      <th>Tweet Id</th>\n",
       "      <th>Text</th>\n",
       "      <th>Username</th>\n",
       "      <th>Permalink</th>\n",
       "      <th>User</th>\n",
       "      <th>Outlinks</th>\n",
       "      <th>CountLinks</th>\n",
       "      <th>ReplyCount</th>\n",
       "      <th>RetweetCount</th>\n",
       "      <th>LikeCount</th>\n",
       "      <th>QuoteCount</th>\n",
       "      <th>ConversationId</th>\n",
       "      <th>Language</th>\n",
       "      <th>Source</th>\n",
       "      <th>Media</th>\n",
       "      <th>QuotedTweet</th>\n",
       "      <th>MentionedUsers</th>\n",
       "      <th>hashtag</th>\n",
       "      <th>hastag_counts</th>\n",
       "    </tr>\n",
       "  </thead>\n",
       "  <tbody>\n",
       "    <tr>\n",
       "      <th>0</th>\n",
       "      <td>2022-02-24 03:12:47+00:00</td>\n",
       "      <td>1.49668E+18</td>\n",
       "      <td>🇺🇦 Massive explosions rocks #Kharkiv. #Russia ...</td>\n",
       "      <td>IdeologyWars</td>\n",
       "      <td>https://twitter.com/IdeologyWars/status/149668...</td>\n",
       "      <td>https://twitter.com/IdeologyWars</td>\n",
       "      <td>NaN</td>\n",
       "      <td>NaN</td>\n",
       "      <td>2.0</td>\n",
       "      <td>17.0</td>\n",
       "      <td>47.0</td>\n",
       "      <td>1</td>\n",
       "      <td>1.49649E+18</td>\n",
       "      <td>en</td>\n",
       "      <td>&lt;a href=\"https://mobile.twitter.com\" rel=\"nofo...</td>\n",
       "      <td>[Photo(previewUrl='https://pbs.twimg.com/media...</td>\n",
       "      <td>NaN</td>\n",
       "      <td>NaN</td>\n",
       "      <td>['#Kharkiv.', '#Russia', '#Ukraine', '#Ukraine...</td>\n",
       "      <td>9.0</td>\n",
       "    </tr>\n",
       "    <tr>\n",
       "      <th>1</th>\n",
       "      <td>2022-02-24 03:18:54+00:00</td>\n",
       "      <td>1.49669E+18</td>\n",
       "      <td>🇺🇦 Kharkiv is officially being struck by major...</td>\n",
       "      <td>IdeologyWars</td>\n",
       "      <td>https://twitter.com/IdeologyWars/status/149668...</td>\n",
       "      <td>https://twitter.com/IdeologyWars</td>\n",
       "      <td>NaN</td>\n",
       "      <td>NaN</td>\n",
       "      <td>2.0</td>\n",
       "      <td>104.0</td>\n",
       "      <td>188.0</td>\n",
       "      <td>8</td>\n",
       "      <td>1.49649E+18</td>\n",
       "      <td>en</td>\n",
       "      <td>&lt;a href=\"https://mobile.twitter.com\" rel=\"nofo...</td>\n",
       "      <td>[Video(thumbnailUrl='https://pbs.twimg.com/ext...</td>\n",
       "      <td>NaN</td>\n",
       "      <td>NaN</td>\n",
       "      <td>['#Russia', '#Ukraine', '#UkraineWar', '#Russi...</td>\n",
       "      <td>8.0</td>\n",
       "    </tr>\n",
       "    <tr>\n",
       "      <th>2</th>\n",
       "      <td>2022-02-24 03:22:42+00:00</td>\n",
       "      <td>1.49669E+18</td>\n",
       "      <td>🇺🇦 More angles on that strike in Kharkiv. #Rus...</td>\n",
       "      <td>IdeologyWars</td>\n",
       "      <td>https://twitter.com/IdeologyWars/status/149668...</td>\n",
       "      <td>https://twitter.com/IdeologyWars</td>\n",
       "      <td>NaN</td>\n",
       "      <td>NaN</td>\n",
       "      <td>1.0</td>\n",
       "      <td>41.0</td>\n",
       "      <td>75.0</td>\n",
       "      <td>5</td>\n",
       "      <td>1.49649E+18</td>\n",
       "      <td>en</td>\n",
       "      <td>&lt;a href=\"https://mobile.twitter.com\" rel=\"nofo...</td>\n",
       "      <td>[Video(thumbnailUrl='https://pbs.twimg.com/ext...</td>\n",
       "      <td>NaN</td>\n",
       "      <td>NaN</td>\n",
       "      <td>['#Russia', '#Ukraine', '#UkraineWar', '#Russi...</td>\n",
       "      <td>8.0</td>\n",
       "    </tr>\n",
       "    <tr>\n",
       "      <th>3</th>\n",
       "      <td>2022-02-24 03:25:36+00:00</td>\n",
       "      <td>1.49669E+18</td>\n",
       "      <td>🇺🇦 BM-21 Grad strikes opening on #Mariupol cit...</td>\n",
       "      <td>IdeologyWars</td>\n",
       "      <td>https://twitter.com/IdeologyWars/status/149668...</td>\n",
       "      <td>https://twitter.com/IdeologyWars</td>\n",
       "      <td>NaN</td>\n",
       "      <td>NaN</td>\n",
       "      <td>21.0</td>\n",
       "      <td>407.0</td>\n",
       "      <td>1099.0</td>\n",
       "      <td>149</td>\n",
       "      <td>1.49649E+18</td>\n",
       "      <td>en</td>\n",
       "      <td>&lt;a href=\"https://mobile.twitter.com\" rel=\"nofo...</td>\n",
       "      <td>[Video(thumbnailUrl='https://pbs.twimg.com/ext...</td>\n",
       "      <td>NaN</td>\n",
       "      <td>NaN</td>\n",
       "      <td>['#Mariupol', '#Russia', '#Ukraine', '#Ukraine...</td>\n",
       "      <td>9.0</td>\n",
       "    </tr>\n",
       "    <tr>\n",
       "      <th>4</th>\n",
       "      <td>2022-02-24 03:27:28+00:00</td>\n",
       "      <td>1.49669E+18</td>\n",
       "      <td>🇺🇦 Damage caused by strike in Kharkiv... #Russ...</td>\n",
       "      <td>IdeologyWars</td>\n",
       "      <td>https://twitter.com/IdeologyWars/status/149668...</td>\n",
       "      <td>https://twitter.com/IdeologyWars</td>\n",
       "      <td>NaN</td>\n",
       "      <td>NaN</td>\n",
       "      <td>7.0</td>\n",
       "      <td>152.0</td>\n",
       "      <td>207.0</td>\n",
       "      <td>22</td>\n",
       "      <td>1.49649E+18</td>\n",
       "      <td>en</td>\n",
       "      <td>&lt;a href=\"https://mobile.twitter.com\" rel=\"nofo...</td>\n",
       "      <td>[Video(thumbnailUrl='https://pbs.twimg.com/ext...</td>\n",
       "      <td>NaN</td>\n",
       "      <td>NaN</td>\n",
       "      <td>['#Russia', '#Ukraine', '#UkraineWar', '#Russi...</td>\n",
       "      <td>8.0</td>\n",
       "    </tr>\n",
       "    <tr>\n",
       "      <th>...</th>\n",
       "      <td>...</td>\n",
       "      <td>...</td>\n",
       "      <td>...</td>\n",
       "      <td>...</td>\n",
       "      <td>...</td>\n",
       "      <td>...</td>\n",
       "      <td>...</td>\n",
       "      <td>...</td>\n",
       "      <td>...</td>\n",
       "      <td>...</td>\n",
       "      <td>...</td>\n",
       "      <td>...</td>\n",
       "      <td>...</td>\n",
       "      <td>...</td>\n",
       "      <td>...</td>\n",
       "      <td>...</td>\n",
       "      <td>...</td>\n",
       "      <td>...</td>\n",
       "      <td>...</td>\n",
       "      <td>...</td>\n",
       "    </tr>\n",
       "    <tr>\n",
       "      <th>44081</th>\n",
       "      <td>2022-03-27 23:59:26+00:00</td>\n",
       "      <td>1.50823E+18</td>\n",
       "      <td>Russia’s mass media and telecommunications wat...</td>\n",
       "      <td>RenKeNews</td>\n",
       "      <td>https://twitter.com/RenKeNews/status/150823225...</td>\n",
       "      <td>https://twitter.com/RenKeNews</td>\n",
       "      <td>['https://tass.com/world/1428013']</td>\n",
       "      <td>['https://t.co/6Ukollhqfj']</td>\n",
       "      <td>1.0</td>\n",
       "      <td>0.0</td>\n",
       "      <td>6.0</td>\n",
       "      <td>0</td>\n",
       "      <td>1.50823E+18</td>\n",
       "      <td>en</td>\n",
       "      <td>&lt;a href=\"https://mobile.twitter.com\" rel=\"nofo...</td>\n",
       "      <td>NaN</td>\n",
       "      <td>NaN</td>\n",
       "      <td>NaN</td>\n",
       "      <td>['#RussiaUkraineWar', '#Russia', '#Ukraine']</td>\n",
       "      <td>3.0</td>\n",
       "    </tr>\n",
       "    <tr>\n",
       "      <th>44082</th>\n",
       "      <td>2022-03-27 23:59:27+00:00</td>\n",
       "      <td>1.50823E+18</td>\n",
       "      <td>@tony07653102 @CNEWS Pour comprendre un confli...</td>\n",
       "      <td>philmarso</td>\n",
       "      <td>https://twitter.com/philmarso/status/150823226...</td>\n",
       "      <td>https://twitter.com/philmarso</td>\n",
       "      <td>NaN</td>\n",
       "      <td>NaN</td>\n",
       "      <td>0.0</td>\n",
       "      <td>0.0</td>\n",
       "      <td>1.0</td>\n",
       "      <td>0</td>\n",
       "      <td>1.50814E+18</td>\n",
       "      <td>fr</td>\n",
       "      <td>&lt;a href=\"https://mobile.twitter.com\" rel=\"nofo...</td>\n",
       "      <td>NaN</td>\n",
       "      <td>NaN</td>\n",
       "      <td>[User(username='CNEWS', id=18396319, displayna...</td>\n",
       "      <td>['#Ukraine']</td>\n",
       "      <td>1.0</td>\n",
       "    </tr>\n",
       "    <tr>\n",
       "      <th>44083</th>\n",
       "      <td>2022-03-27 23:59:34+00:00</td>\n",
       "      <td>1.50823E+18</td>\n",
       "      <td>Putin ukrajinske vojnike naziva neonacizmom, a...</td>\n",
       "      <td>dicke5</td>\n",
       "      <td>https://twitter.com/dicke5/status/150823229041...</td>\n",
       "      <td>https://twitter.com/dicke5</td>\n",
       "      <td>NaN</td>\n",
       "      <td>NaN</td>\n",
       "      <td>0.0</td>\n",
       "      <td>0.0</td>\n",
       "      <td>0.0</td>\n",
       "      <td>0</td>\n",
       "      <td>1.50823E+18</td>\n",
       "      <td>und</td>\n",
       "      <td>&lt;a href=\"http://twitter.com/download/android\" ...</td>\n",
       "      <td>NaN</td>\n",
       "      <td>NaN</td>\n",
       "      <td>NaN</td>\n",
       "      <td>['#Putin,', '#Ukrajina,', '#Zelenskij']</td>\n",
       "      <td>3.0</td>\n",
       "    </tr>\n",
       "    <tr>\n",
       "      <th>44084</th>\n",
       "      <td>2022-03-27 23:59:44+00:00</td>\n",
       "      <td>1.50823E+18</td>\n",
       "      <td>Watch: amid war ruins in #Ukraine, unbowed cla...</td>\n",
       "      <td>vsdawson_MUFC</td>\n",
       "      <td>https://twitter.com/vsdawson_MUFC/status/15082...</td>\n",
       "      <td>https://twitter.com/vsdawson_MUFC</td>\n",
       "      <td>['https://www.thestar.com.my/lifestyle/culture...</td>\n",
       "      <td>['https://t.co/qPGVgr6li1']</td>\n",
       "      <td>0.0</td>\n",
       "      <td>0.0</td>\n",
       "      <td>0.0</td>\n",
       "      <td>0</td>\n",
       "      <td>1.50823E+18</td>\n",
       "      <td>en</td>\n",
       "      <td>&lt;a href=\"http://twitter.com/download/android\" ...</td>\n",
       "      <td>NaN</td>\n",
       "      <td>NaN</td>\n",
       "      <td>NaN</td>\n",
       "      <td>['#Ukraine,']</td>\n",
       "      <td>1.0</td>\n",
       "    </tr>\n",
       "    <tr>\n",
       "      <th>44085</th>\n",
       "      <td>2022-03-27 23:59:45+00:00</td>\n",
       "      <td>1.50823E+18</td>\n",
       "      <td>#britishsummertime started on Sunday 27th.\\n\\n...</td>\n",
       "      <td>satillus</td>\n",
       "      <td>https://twitter.com/satillus/status/1508232337...</td>\n",
       "      <td>https://twitter.com/satillus</td>\n",
       "      <td>['https://www.instagram.com/p/CboGg_GIcYI/?utm...</td>\n",
       "      <td>['https://t.co/HJfZUrhOMl']</td>\n",
       "      <td>0.0</td>\n",
       "      <td>0.0</td>\n",
       "      <td>0.0</td>\n",
       "      <td>0</td>\n",
       "      <td>1.50823E+18</td>\n",
       "      <td>en</td>\n",
       "      <td>&lt;a href=\"http://instagram.com\" rel=\"nofollow\"&gt;...</td>\n",
       "      <td>NaN</td>\n",
       "      <td>NaN</td>\n",
       "      <td>NaN</td>\n",
       "      <td>['#britishsummertime', '#clocksgoforward', '#g...</td>\n",
       "      <td>12.0</td>\n",
       "    </tr>\n",
       "  </tbody>\n",
       "</table>\n",
       "<p>44074 rows × 20 columns</p>\n",
       "</div>"
      ],
      "text/plain": [
       "                        Datetime     Tweet Id  \\\n",
       "0      2022-02-24 03:12:47+00:00  1.49668E+18   \n",
       "1      2022-02-24 03:18:54+00:00  1.49669E+18   \n",
       "2      2022-02-24 03:22:42+00:00  1.49669E+18   \n",
       "3      2022-02-24 03:25:36+00:00  1.49669E+18   \n",
       "4      2022-02-24 03:27:28+00:00  1.49669E+18   \n",
       "...                          ...          ...   \n",
       "44081  2022-03-27 23:59:26+00:00  1.50823E+18   \n",
       "44082  2022-03-27 23:59:27+00:00  1.50823E+18   \n",
       "44083  2022-03-27 23:59:34+00:00  1.50823E+18   \n",
       "44084  2022-03-27 23:59:44+00:00  1.50823E+18   \n",
       "44085  2022-03-27 23:59:45+00:00  1.50823E+18   \n",
       "\n",
       "                                                    Text       Username  \\\n",
       "0      🇺🇦 Massive explosions rocks #Kharkiv. #Russia ...   IdeologyWars   \n",
       "1      🇺🇦 Kharkiv is officially being struck by major...   IdeologyWars   \n",
       "2      🇺🇦 More angles on that strike in Kharkiv. #Rus...   IdeologyWars   \n",
       "3      🇺🇦 BM-21 Grad strikes opening on #Mariupol cit...   IdeologyWars   \n",
       "4      🇺🇦 Damage caused by strike in Kharkiv... #Russ...   IdeologyWars   \n",
       "...                                                  ...            ...   \n",
       "44081  Russia’s mass media and telecommunications wat...      RenKeNews   \n",
       "44082  @tony07653102 @CNEWS Pour comprendre un confli...      philmarso   \n",
       "44083  Putin ukrajinske vojnike naziva neonacizmom, a...         dicke5   \n",
       "44084  Watch: amid war ruins in #Ukraine, unbowed cla...  vsdawson_MUFC   \n",
       "44085  #britishsummertime started on Sunday 27th.\\n\\n...       satillus   \n",
       "\n",
       "                                               Permalink  \\\n",
       "0      https://twitter.com/IdeologyWars/status/149668...   \n",
       "1      https://twitter.com/IdeologyWars/status/149668...   \n",
       "2      https://twitter.com/IdeologyWars/status/149668...   \n",
       "3      https://twitter.com/IdeologyWars/status/149668...   \n",
       "4      https://twitter.com/IdeologyWars/status/149668...   \n",
       "...                                                  ...   \n",
       "44081  https://twitter.com/RenKeNews/status/150823225...   \n",
       "44082  https://twitter.com/philmarso/status/150823226...   \n",
       "44083  https://twitter.com/dicke5/status/150823229041...   \n",
       "44084  https://twitter.com/vsdawson_MUFC/status/15082...   \n",
       "44085  https://twitter.com/satillus/status/1508232337...   \n",
       "\n",
       "                                    User  \\\n",
       "0       https://twitter.com/IdeologyWars   \n",
       "1       https://twitter.com/IdeologyWars   \n",
       "2       https://twitter.com/IdeologyWars   \n",
       "3       https://twitter.com/IdeologyWars   \n",
       "4       https://twitter.com/IdeologyWars   \n",
       "...                                  ...   \n",
       "44081      https://twitter.com/RenKeNews   \n",
       "44082      https://twitter.com/philmarso   \n",
       "44083         https://twitter.com/dicke5   \n",
       "44084  https://twitter.com/vsdawson_MUFC   \n",
       "44085       https://twitter.com/satillus   \n",
       "\n",
       "                                                Outlinks  \\\n",
       "0                                                    NaN   \n",
       "1                                                    NaN   \n",
       "2                                                    NaN   \n",
       "3                                                    NaN   \n",
       "4                                                    NaN   \n",
       "...                                                  ...   \n",
       "44081                 ['https://tass.com/world/1428013']   \n",
       "44082                                                NaN   \n",
       "44083                                                NaN   \n",
       "44084  ['https://www.thestar.com.my/lifestyle/culture...   \n",
       "44085  ['https://www.instagram.com/p/CboGg_GIcYI/?utm...   \n",
       "\n",
       "                        CountLinks  ReplyCount  RetweetCount  LikeCount  \\\n",
       "0                              NaN         2.0          17.0       47.0   \n",
       "1                              NaN         2.0         104.0      188.0   \n",
       "2                              NaN         1.0          41.0       75.0   \n",
       "3                              NaN        21.0         407.0     1099.0   \n",
       "4                              NaN         7.0         152.0      207.0   \n",
       "...                            ...         ...           ...        ...   \n",
       "44081  ['https://t.co/6Ukollhqfj']         1.0           0.0        6.0   \n",
       "44082                          NaN         0.0           0.0        1.0   \n",
       "44083                          NaN         0.0           0.0        0.0   \n",
       "44084  ['https://t.co/qPGVgr6li1']         0.0           0.0        0.0   \n",
       "44085  ['https://t.co/HJfZUrhOMl']         0.0           0.0        0.0   \n",
       "\n",
       "      QuoteCount ConversationId Language  \\\n",
       "0              1    1.49649E+18       en   \n",
       "1              8    1.49649E+18       en   \n",
       "2              5    1.49649E+18       en   \n",
       "3            149    1.49649E+18       en   \n",
       "4             22    1.49649E+18       en   \n",
       "...          ...            ...      ...   \n",
       "44081          0    1.50823E+18       en   \n",
       "44082          0    1.50814E+18       fr   \n",
       "44083          0    1.50823E+18      und   \n",
       "44084          0    1.50823E+18       en   \n",
       "44085          0    1.50823E+18       en   \n",
       "\n",
       "                                                  Source  \\\n",
       "0      <a href=\"https://mobile.twitter.com\" rel=\"nofo...   \n",
       "1      <a href=\"https://mobile.twitter.com\" rel=\"nofo...   \n",
       "2      <a href=\"https://mobile.twitter.com\" rel=\"nofo...   \n",
       "3      <a href=\"https://mobile.twitter.com\" rel=\"nofo...   \n",
       "4      <a href=\"https://mobile.twitter.com\" rel=\"nofo...   \n",
       "...                                                  ...   \n",
       "44081  <a href=\"https://mobile.twitter.com\" rel=\"nofo...   \n",
       "44082  <a href=\"https://mobile.twitter.com\" rel=\"nofo...   \n",
       "44083  <a href=\"http://twitter.com/download/android\" ...   \n",
       "44084  <a href=\"http://twitter.com/download/android\" ...   \n",
       "44085  <a href=\"http://instagram.com\" rel=\"nofollow\">...   \n",
       "\n",
       "                                                   Media QuotedTweet  \\\n",
       "0      [Photo(previewUrl='https://pbs.twimg.com/media...         NaN   \n",
       "1      [Video(thumbnailUrl='https://pbs.twimg.com/ext...         NaN   \n",
       "2      [Video(thumbnailUrl='https://pbs.twimg.com/ext...         NaN   \n",
       "3      [Video(thumbnailUrl='https://pbs.twimg.com/ext...         NaN   \n",
       "4      [Video(thumbnailUrl='https://pbs.twimg.com/ext...         NaN   \n",
       "...                                                  ...         ...   \n",
       "44081                                                NaN         NaN   \n",
       "44082                                                NaN         NaN   \n",
       "44083                                                NaN         NaN   \n",
       "44084                                                NaN         NaN   \n",
       "44085                                                NaN         NaN   \n",
       "\n",
       "                                          MentionedUsers  \\\n",
       "0                                                    NaN   \n",
       "1                                                    NaN   \n",
       "2                                                    NaN   \n",
       "3                                                    NaN   \n",
       "4                                                    NaN   \n",
       "...                                                  ...   \n",
       "44081                                                NaN   \n",
       "44082  [User(username='CNEWS', id=18396319, displayna...   \n",
       "44083                                                NaN   \n",
       "44084                                                NaN   \n",
       "44085                                                NaN   \n",
       "\n",
       "                                                 hashtag  hastag_counts  \n",
       "0      ['#Kharkiv.', '#Russia', '#Ukraine', '#Ukraine...            9.0  \n",
       "1      ['#Russia', '#Ukraine', '#UkraineWar', '#Russi...            8.0  \n",
       "2      ['#Russia', '#Ukraine', '#UkraineWar', '#Russi...            8.0  \n",
       "3      ['#Mariupol', '#Russia', '#Ukraine', '#Ukraine...            9.0  \n",
       "4      ['#Russia', '#Ukraine', '#UkraineWar', '#Russi...            8.0  \n",
       "...                                                  ...            ...  \n",
       "44081       ['#RussiaUkraineWar', '#Russia', '#Ukraine']            3.0  \n",
       "44082                                       ['#Ukraine']            1.0  \n",
       "44083            ['#Putin,', '#Ukrajina,', '#Zelenskij']            3.0  \n",
       "44084                                      ['#Ukraine,']            1.0  \n",
       "44085  ['#britishsummertime', '#clocksgoforward', '#g...           12.0  \n",
       "\n",
       "[44074 rows x 20 columns]"
      ]
     },
     "execution_count": 6,
     "metadata": {},
     "output_type": "execute_result"
    }
   ],
   "source": [
    "df= pd.read_csv('Data/tweets_russia_ukraine_first_month.csv')\n",
    "df = df.dropna(subset=['Text'])\n",
    "df"
   ]
  },
  {
   "cell_type": "code",
   "execution_count": 7,
   "id": "240dc9f0-e73c-46e4-9b40-92890d1bd496",
   "metadata": {},
   "outputs": [
    {
     "data": {
      "text/html": [
       "<div>\n",
       "<style scoped>\n",
       "    .dataframe tbody tr th:only-of-type {\n",
       "        vertical-align: middle;\n",
       "    }\n",
       "\n",
       "    .dataframe tbody tr th {\n",
       "        vertical-align: top;\n",
       "    }\n",
       "\n",
       "    .dataframe thead th {\n",
       "        text-align: right;\n",
       "    }\n",
       "</style>\n",
       "<table border=\"1\" class=\"dataframe\">\n",
       "  <thead>\n",
       "    <tr style=\"text-align: right;\">\n",
       "      <th></th>\n",
       "      <th>Datetime</th>\n",
       "      <th>Tweet Id</th>\n",
       "      <th>Text</th>\n",
       "      <th>Username</th>\n",
       "      <th>Permalink</th>\n",
       "      <th>User</th>\n",
       "      <th>Outlinks</th>\n",
       "      <th>CountLinks</th>\n",
       "      <th>ReplyCount</th>\n",
       "      <th>RetweetCount</th>\n",
       "      <th>...</th>\n",
       "      <th>QuoteCount</th>\n",
       "      <th>ConversationId</th>\n",
       "      <th>Language</th>\n",
       "      <th>Source</th>\n",
       "      <th>Media</th>\n",
       "      <th>QuotedTweet</th>\n",
       "      <th>MentionedUsers</th>\n",
       "      <th>hashtag</th>\n",
       "      <th>hastag_counts</th>\n",
       "      <th>Sentiment</th>\n",
       "    </tr>\n",
       "  </thead>\n",
       "  <tbody>\n",
       "    <tr>\n",
       "      <th>0</th>\n",
       "      <td>2022-02-24 03:12:47+00:00</td>\n",
       "      <td>1.49668E+18</td>\n",
       "      <td>🇺🇦 Massive explosions rocks #Kharkiv. #Russia ...</td>\n",
       "      <td>IdeologyWars</td>\n",
       "      <td>https://twitter.com/IdeologyWars/status/149668...</td>\n",
       "      <td>https://twitter.com/IdeologyWars</td>\n",
       "      <td>NaN</td>\n",
       "      <td>NaN</td>\n",
       "      <td>2.0</td>\n",
       "      <td>17.0</td>\n",
       "      <td>...</td>\n",
       "      <td>1</td>\n",
       "      <td>1.49649E+18</td>\n",
       "      <td>en</td>\n",
       "      <td>&lt;a href=\"https://mobile.twitter.com\" rel=\"nofo...</td>\n",
       "      <td>[Photo(previewUrl='https://pbs.twimg.com/media...</td>\n",
       "      <td>NaN</td>\n",
       "      <td>NaN</td>\n",
       "      <td>['#Kharkiv.', '#Russia', '#Ukraine', '#Ukraine...</td>\n",
       "      <td>9.0</td>\n",
       "      <td>0.0000</td>\n",
       "    </tr>\n",
       "    <tr>\n",
       "      <th>1</th>\n",
       "      <td>2022-02-24 03:18:54+00:00</td>\n",
       "      <td>1.49669E+18</td>\n",
       "      <td>🇺🇦 Kharkiv is officially being struck by major...</td>\n",
       "      <td>IdeologyWars</td>\n",
       "      <td>https://twitter.com/IdeologyWars/status/149668...</td>\n",
       "      <td>https://twitter.com/IdeologyWars</td>\n",
       "      <td>NaN</td>\n",
       "      <td>NaN</td>\n",
       "      <td>2.0</td>\n",
       "      <td>104.0</td>\n",
       "      <td>...</td>\n",
       "      <td>8</td>\n",
       "      <td>1.49649E+18</td>\n",
       "      <td>en</td>\n",
       "      <td>&lt;a href=\"https://mobile.twitter.com\" rel=\"nofo...</td>\n",
       "      <td>[Video(thumbnailUrl='https://pbs.twimg.com/ext...</td>\n",
       "      <td>NaN</td>\n",
       "      <td>NaN</td>\n",
       "      <td>['#Russia', '#Ukraine', '#UkraineWar', '#Russi...</td>\n",
       "      <td>8.0</td>\n",
       "      <td>-0.5423</td>\n",
       "    </tr>\n",
       "    <tr>\n",
       "      <th>2</th>\n",
       "      <td>2022-02-24 03:22:42+00:00</td>\n",
       "      <td>1.49669E+18</td>\n",
       "      <td>🇺🇦 More angles on that strike in Kharkiv. #Rus...</td>\n",
       "      <td>IdeologyWars</td>\n",
       "      <td>https://twitter.com/IdeologyWars/status/149668...</td>\n",
       "      <td>https://twitter.com/IdeologyWars</td>\n",
       "      <td>NaN</td>\n",
       "      <td>NaN</td>\n",
       "      <td>1.0</td>\n",
       "      <td>41.0</td>\n",
       "      <td>...</td>\n",
       "      <td>5</td>\n",
       "      <td>1.49649E+18</td>\n",
       "      <td>en</td>\n",
       "      <td>&lt;a href=\"https://mobile.twitter.com\" rel=\"nofo...</td>\n",
       "      <td>[Video(thumbnailUrl='https://pbs.twimg.com/ext...</td>\n",
       "      <td>NaN</td>\n",
       "      <td>NaN</td>\n",
       "      <td>['#Russia', '#Ukraine', '#UkraineWar', '#Russi...</td>\n",
       "      <td>8.0</td>\n",
       "      <td>-0.1280</td>\n",
       "    </tr>\n",
       "    <tr>\n",
       "      <th>3</th>\n",
       "      <td>2022-02-24 03:25:36+00:00</td>\n",
       "      <td>1.49669E+18</td>\n",
       "      <td>🇺🇦 BM-21 Grad strikes opening on #Mariupol cit...</td>\n",
       "      <td>IdeologyWars</td>\n",
       "      <td>https://twitter.com/IdeologyWars/status/149668...</td>\n",
       "      <td>https://twitter.com/IdeologyWars</td>\n",
       "      <td>NaN</td>\n",
       "      <td>NaN</td>\n",
       "      <td>21.0</td>\n",
       "      <td>407.0</td>\n",
       "      <td>...</td>\n",
       "      <td>149</td>\n",
       "      <td>1.49649E+18</td>\n",
       "      <td>en</td>\n",
       "      <td>&lt;a href=\"https://mobile.twitter.com\" rel=\"nofo...</td>\n",
       "      <td>[Video(thumbnailUrl='https://pbs.twimg.com/ext...</td>\n",
       "      <td>NaN</td>\n",
       "      <td>NaN</td>\n",
       "      <td>['#Mariupol', '#Russia', '#Ukraine', '#Ukraine...</td>\n",
       "      <td>9.0</td>\n",
       "      <td>-0.3612</td>\n",
       "    </tr>\n",
       "    <tr>\n",
       "      <th>4</th>\n",
       "      <td>2022-02-24 03:27:28+00:00</td>\n",
       "      <td>1.49669E+18</td>\n",
       "      <td>🇺🇦 Damage caused by strike in Kharkiv... #Russ...</td>\n",
       "      <td>IdeologyWars</td>\n",
       "      <td>https://twitter.com/IdeologyWars/status/149668...</td>\n",
       "      <td>https://twitter.com/IdeologyWars</td>\n",
       "      <td>NaN</td>\n",
       "      <td>NaN</td>\n",
       "      <td>7.0</td>\n",
       "      <td>152.0</td>\n",
       "      <td>...</td>\n",
       "      <td>22</td>\n",
       "      <td>1.49649E+18</td>\n",
       "      <td>en</td>\n",
       "      <td>&lt;a href=\"https://mobile.twitter.com\" rel=\"nofo...</td>\n",
       "      <td>[Video(thumbnailUrl='https://pbs.twimg.com/ext...</td>\n",
       "      <td>NaN</td>\n",
       "      <td>NaN</td>\n",
       "      <td>['#Russia', '#Ukraine', '#UkraineWar', '#Russi...</td>\n",
       "      <td>8.0</td>\n",
       "      <td>-0.5719</td>\n",
       "    </tr>\n",
       "    <tr>\n",
       "      <th>...</th>\n",
       "      <td>...</td>\n",
       "      <td>...</td>\n",
       "      <td>...</td>\n",
       "      <td>...</td>\n",
       "      <td>...</td>\n",
       "      <td>...</td>\n",
       "      <td>...</td>\n",
       "      <td>...</td>\n",
       "      <td>...</td>\n",
       "      <td>...</td>\n",
       "      <td>...</td>\n",
       "      <td>...</td>\n",
       "      <td>...</td>\n",
       "      <td>...</td>\n",
       "      <td>...</td>\n",
       "      <td>...</td>\n",
       "      <td>...</td>\n",
       "      <td>...</td>\n",
       "      <td>...</td>\n",
       "      <td>...</td>\n",
       "      <td>...</td>\n",
       "    </tr>\n",
       "    <tr>\n",
       "      <th>44081</th>\n",
       "      <td>2022-03-27 23:59:26+00:00</td>\n",
       "      <td>1.50823E+18</td>\n",
       "      <td>Russia’s mass media and telecommunications wat...</td>\n",
       "      <td>RenKeNews</td>\n",
       "      <td>https://twitter.com/RenKeNews/status/150823225...</td>\n",
       "      <td>https://twitter.com/RenKeNews</td>\n",
       "      <td>['https://tass.com/world/1428013']</td>\n",
       "      <td>['https://t.co/6Ukollhqfj']</td>\n",
       "      <td>1.0</td>\n",
       "      <td>0.0</td>\n",
       "      <td>...</td>\n",
       "      <td>0</td>\n",
       "      <td>1.50823E+18</td>\n",
       "      <td>en</td>\n",
       "      <td>&lt;a href=\"https://mobile.twitter.com\" rel=\"nofo...</td>\n",
       "      <td>NaN</td>\n",
       "      <td>NaN</td>\n",
       "      <td>NaN</td>\n",
       "      <td>['#RussiaUkraineWar', '#Russia', '#Ukraine']</td>\n",
       "      <td>3.0</td>\n",
       "      <td>0.5574</td>\n",
       "    </tr>\n",
       "    <tr>\n",
       "      <th>44082</th>\n",
       "      <td>2022-03-27 23:59:27+00:00</td>\n",
       "      <td>1.50823E+18</td>\n",
       "      <td>@tony07653102 @CNEWS Pour comprendre un confli...</td>\n",
       "      <td>philmarso</td>\n",
       "      <td>https://twitter.com/philmarso/status/150823226...</td>\n",
       "      <td>https://twitter.com/philmarso</td>\n",
       "      <td>NaN</td>\n",
       "      <td>NaN</td>\n",
       "      <td>0.0</td>\n",
       "      <td>0.0</td>\n",
       "      <td>...</td>\n",
       "      <td>0</td>\n",
       "      <td>1.50814E+18</td>\n",
       "      <td>fr</td>\n",
       "      <td>&lt;a href=\"https://mobile.twitter.com\" rel=\"nofo...</td>\n",
       "      <td>NaN</td>\n",
       "      <td>NaN</td>\n",
       "      <td>[User(username='CNEWS', id=18396319, displayna...</td>\n",
       "      <td>['#Ukraine']</td>\n",
       "      <td>1.0</td>\n",
       "      <td>0.0000</td>\n",
       "    </tr>\n",
       "    <tr>\n",
       "      <th>44083</th>\n",
       "      <td>2022-03-27 23:59:34+00:00</td>\n",
       "      <td>1.50823E+18</td>\n",
       "      <td>Putin ukrajinske vojnike naziva neonacizmom, a...</td>\n",
       "      <td>dicke5</td>\n",
       "      <td>https://twitter.com/dicke5/status/150823229041...</td>\n",
       "      <td>https://twitter.com/dicke5</td>\n",
       "      <td>NaN</td>\n",
       "      <td>NaN</td>\n",
       "      <td>0.0</td>\n",
       "      <td>0.0</td>\n",
       "      <td>...</td>\n",
       "      <td>0</td>\n",
       "      <td>1.50823E+18</td>\n",
       "      <td>und</td>\n",
       "      <td>&lt;a href=\"http://twitter.com/download/android\" ...</td>\n",
       "      <td>NaN</td>\n",
       "      <td>NaN</td>\n",
       "      <td>NaN</td>\n",
       "      <td>['#Putin,', '#Ukrajina,', '#Zelenskij']</td>\n",
       "      <td>3.0</td>\n",
       "      <td>0.0000</td>\n",
       "    </tr>\n",
       "    <tr>\n",
       "      <th>44084</th>\n",
       "      <td>2022-03-27 23:59:44+00:00</td>\n",
       "      <td>1.50823E+18</td>\n",
       "      <td>Watch: amid war ruins in #Ukraine, unbowed cla...</td>\n",
       "      <td>vsdawson_MUFC</td>\n",
       "      <td>https://twitter.com/vsdawson_MUFC/status/15082...</td>\n",
       "      <td>https://twitter.com/vsdawson_MUFC</td>\n",
       "      <td>['https://www.thestar.com.my/lifestyle/culture...</td>\n",
       "      <td>['https://t.co/qPGVgr6li1']</td>\n",
       "      <td>0.0</td>\n",
       "      <td>0.0</td>\n",
       "      <td>...</td>\n",
       "      <td>0</td>\n",
       "      <td>1.50823E+18</td>\n",
       "      <td>en</td>\n",
       "      <td>&lt;a href=\"http://twitter.com/download/android\" ...</td>\n",
       "      <td>NaN</td>\n",
       "      <td>NaN</td>\n",
       "      <td>NaN</td>\n",
       "      <td>['#Ukraine,']</td>\n",
       "      <td>1.0</td>\n",
       "      <td>-0.6597</td>\n",
       "    </tr>\n",
       "    <tr>\n",
       "      <th>44085</th>\n",
       "      <td>2022-03-27 23:59:45+00:00</td>\n",
       "      <td>1.50823E+18</td>\n",
       "      <td>#britishsummertime started on Sunday 27th.\\n\\n...</td>\n",
       "      <td>satillus</td>\n",
       "      <td>https://twitter.com/satillus/status/1508232337...</td>\n",
       "      <td>https://twitter.com/satillus</td>\n",
       "      <td>['https://www.instagram.com/p/CboGg_GIcYI/?utm...</td>\n",
       "      <td>['https://t.co/HJfZUrhOMl']</td>\n",
       "      <td>0.0</td>\n",
       "      <td>0.0</td>\n",
       "      <td>...</td>\n",
       "      <td>0</td>\n",
       "      <td>1.50823E+18</td>\n",
       "      <td>en</td>\n",
       "      <td>&lt;a href=\"http://instagram.com\" rel=\"nofollow\"&gt;...</td>\n",
       "      <td>NaN</td>\n",
       "      <td>NaN</td>\n",
       "      <td>NaN</td>\n",
       "      <td>['#britishsummertime', '#clocksgoforward', '#g...</td>\n",
       "      <td>12.0</td>\n",
       "      <td>0.0000</td>\n",
       "    </tr>\n",
       "  </tbody>\n",
       "</table>\n",
       "<p>44074 rows × 21 columns</p>\n",
       "</div>"
      ],
      "text/plain": [
       "                        Datetime     Tweet Id  \\\n",
       "0      2022-02-24 03:12:47+00:00  1.49668E+18   \n",
       "1      2022-02-24 03:18:54+00:00  1.49669E+18   \n",
       "2      2022-02-24 03:22:42+00:00  1.49669E+18   \n",
       "3      2022-02-24 03:25:36+00:00  1.49669E+18   \n",
       "4      2022-02-24 03:27:28+00:00  1.49669E+18   \n",
       "...                          ...          ...   \n",
       "44081  2022-03-27 23:59:26+00:00  1.50823E+18   \n",
       "44082  2022-03-27 23:59:27+00:00  1.50823E+18   \n",
       "44083  2022-03-27 23:59:34+00:00  1.50823E+18   \n",
       "44084  2022-03-27 23:59:44+00:00  1.50823E+18   \n",
       "44085  2022-03-27 23:59:45+00:00  1.50823E+18   \n",
       "\n",
       "                                                    Text       Username  \\\n",
       "0      🇺🇦 Massive explosions rocks #Kharkiv. #Russia ...   IdeologyWars   \n",
       "1      🇺🇦 Kharkiv is officially being struck by major...   IdeologyWars   \n",
       "2      🇺🇦 More angles on that strike in Kharkiv. #Rus...   IdeologyWars   \n",
       "3      🇺🇦 BM-21 Grad strikes opening on #Mariupol cit...   IdeologyWars   \n",
       "4      🇺🇦 Damage caused by strike in Kharkiv... #Russ...   IdeologyWars   \n",
       "...                                                  ...            ...   \n",
       "44081  Russia’s mass media and telecommunications wat...      RenKeNews   \n",
       "44082  @tony07653102 @CNEWS Pour comprendre un confli...      philmarso   \n",
       "44083  Putin ukrajinske vojnike naziva neonacizmom, a...         dicke5   \n",
       "44084  Watch: amid war ruins in #Ukraine, unbowed cla...  vsdawson_MUFC   \n",
       "44085  #britishsummertime started on Sunday 27th.\\n\\n...       satillus   \n",
       "\n",
       "                                               Permalink  \\\n",
       "0      https://twitter.com/IdeologyWars/status/149668...   \n",
       "1      https://twitter.com/IdeologyWars/status/149668...   \n",
       "2      https://twitter.com/IdeologyWars/status/149668...   \n",
       "3      https://twitter.com/IdeologyWars/status/149668...   \n",
       "4      https://twitter.com/IdeologyWars/status/149668...   \n",
       "...                                                  ...   \n",
       "44081  https://twitter.com/RenKeNews/status/150823225...   \n",
       "44082  https://twitter.com/philmarso/status/150823226...   \n",
       "44083  https://twitter.com/dicke5/status/150823229041...   \n",
       "44084  https://twitter.com/vsdawson_MUFC/status/15082...   \n",
       "44085  https://twitter.com/satillus/status/1508232337...   \n",
       "\n",
       "                                    User  \\\n",
       "0       https://twitter.com/IdeologyWars   \n",
       "1       https://twitter.com/IdeologyWars   \n",
       "2       https://twitter.com/IdeologyWars   \n",
       "3       https://twitter.com/IdeologyWars   \n",
       "4       https://twitter.com/IdeologyWars   \n",
       "...                                  ...   \n",
       "44081      https://twitter.com/RenKeNews   \n",
       "44082      https://twitter.com/philmarso   \n",
       "44083         https://twitter.com/dicke5   \n",
       "44084  https://twitter.com/vsdawson_MUFC   \n",
       "44085       https://twitter.com/satillus   \n",
       "\n",
       "                                                Outlinks  \\\n",
       "0                                                    NaN   \n",
       "1                                                    NaN   \n",
       "2                                                    NaN   \n",
       "3                                                    NaN   \n",
       "4                                                    NaN   \n",
       "...                                                  ...   \n",
       "44081                 ['https://tass.com/world/1428013']   \n",
       "44082                                                NaN   \n",
       "44083                                                NaN   \n",
       "44084  ['https://www.thestar.com.my/lifestyle/culture...   \n",
       "44085  ['https://www.instagram.com/p/CboGg_GIcYI/?utm...   \n",
       "\n",
       "                        CountLinks  ReplyCount  RetweetCount  ...  QuoteCount  \\\n",
       "0                              NaN         2.0          17.0  ...           1   \n",
       "1                              NaN         2.0         104.0  ...           8   \n",
       "2                              NaN         1.0          41.0  ...           5   \n",
       "3                              NaN        21.0         407.0  ...         149   \n",
       "4                              NaN         7.0         152.0  ...          22   \n",
       "...                            ...         ...           ...  ...         ...   \n",
       "44081  ['https://t.co/6Ukollhqfj']         1.0           0.0  ...           0   \n",
       "44082                          NaN         0.0           0.0  ...           0   \n",
       "44083                          NaN         0.0           0.0  ...           0   \n",
       "44084  ['https://t.co/qPGVgr6li1']         0.0           0.0  ...           0   \n",
       "44085  ['https://t.co/HJfZUrhOMl']         0.0           0.0  ...           0   \n",
       "\n",
       "      ConversationId Language  \\\n",
       "0        1.49649E+18       en   \n",
       "1        1.49649E+18       en   \n",
       "2        1.49649E+18       en   \n",
       "3        1.49649E+18       en   \n",
       "4        1.49649E+18       en   \n",
       "...              ...      ...   \n",
       "44081    1.50823E+18       en   \n",
       "44082    1.50814E+18       fr   \n",
       "44083    1.50823E+18      und   \n",
       "44084    1.50823E+18       en   \n",
       "44085    1.50823E+18       en   \n",
       "\n",
       "                                                  Source  \\\n",
       "0      <a href=\"https://mobile.twitter.com\" rel=\"nofo...   \n",
       "1      <a href=\"https://mobile.twitter.com\" rel=\"nofo...   \n",
       "2      <a href=\"https://mobile.twitter.com\" rel=\"nofo...   \n",
       "3      <a href=\"https://mobile.twitter.com\" rel=\"nofo...   \n",
       "4      <a href=\"https://mobile.twitter.com\" rel=\"nofo...   \n",
       "...                                                  ...   \n",
       "44081  <a href=\"https://mobile.twitter.com\" rel=\"nofo...   \n",
       "44082  <a href=\"https://mobile.twitter.com\" rel=\"nofo...   \n",
       "44083  <a href=\"http://twitter.com/download/android\" ...   \n",
       "44084  <a href=\"http://twitter.com/download/android\" ...   \n",
       "44085  <a href=\"http://instagram.com\" rel=\"nofollow\">...   \n",
       "\n",
       "                                                   Media QuotedTweet  \\\n",
       "0      [Photo(previewUrl='https://pbs.twimg.com/media...         NaN   \n",
       "1      [Video(thumbnailUrl='https://pbs.twimg.com/ext...         NaN   \n",
       "2      [Video(thumbnailUrl='https://pbs.twimg.com/ext...         NaN   \n",
       "3      [Video(thumbnailUrl='https://pbs.twimg.com/ext...         NaN   \n",
       "4      [Video(thumbnailUrl='https://pbs.twimg.com/ext...         NaN   \n",
       "...                                                  ...         ...   \n",
       "44081                                                NaN         NaN   \n",
       "44082                                                NaN         NaN   \n",
       "44083                                                NaN         NaN   \n",
       "44084                                                NaN         NaN   \n",
       "44085                                                NaN         NaN   \n",
       "\n",
       "                                          MentionedUsers  \\\n",
       "0                                                    NaN   \n",
       "1                                                    NaN   \n",
       "2                                                    NaN   \n",
       "3                                                    NaN   \n",
       "4                                                    NaN   \n",
       "...                                                  ...   \n",
       "44081                                                NaN   \n",
       "44082  [User(username='CNEWS', id=18396319, displayna...   \n",
       "44083                                                NaN   \n",
       "44084                                                NaN   \n",
       "44085                                                NaN   \n",
       "\n",
       "                                                 hashtag hastag_counts  \\\n",
       "0      ['#Kharkiv.', '#Russia', '#Ukraine', '#Ukraine...           9.0   \n",
       "1      ['#Russia', '#Ukraine', '#UkraineWar', '#Russi...           8.0   \n",
       "2      ['#Russia', '#Ukraine', '#UkraineWar', '#Russi...           8.0   \n",
       "3      ['#Mariupol', '#Russia', '#Ukraine', '#Ukraine...           9.0   \n",
       "4      ['#Russia', '#Ukraine', '#UkraineWar', '#Russi...           8.0   \n",
       "...                                                  ...           ...   \n",
       "44081       ['#RussiaUkraineWar', '#Russia', '#Ukraine']           3.0   \n",
       "44082                                       ['#Ukraine']           1.0   \n",
       "44083            ['#Putin,', '#Ukrajina,', '#Zelenskij']           3.0   \n",
       "44084                                      ['#Ukraine,']           1.0   \n",
       "44085  ['#britishsummertime', '#clocksgoforward', '#g...          12.0   \n",
       "\n",
       "       Sentiment  \n",
       "0         0.0000  \n",
       "1        -0.5423  \n",
       "2        -0.1280  \n",
       "3        -0.3612  \n",
       "4        -0.5719  \n",
       "...          ...  \n",
       "44081     0.5574  \n",
       "44082     0.0000  \n",
       "44083     0.0000  \n",
       "44084    -0.6597  \n",
       "44085     0.0000  \n",
       "\n",
       "[44074 rows x 21 columns]"
      ]
     },
     "execution_count": 7,
     "metadata": {},
     "output_type": "execute_result"
    }
   ],
   "source": [
    "#Sentiment analysis function that takes a tweet and returns its sentiment\n",
    "def get_tweet_sentiment(tweet):\n",
    "    sid = SentimentIntensityAnalyzer()\n",
    "    scores = sid.polarity_scores(tweet)\n",
    "    return scores['compound']\n",
    "df['Sentiment'] = df['Text'].apply(get_tweet_sentiment)\n",
    "df"
   ]
  },
  {
   "cell_type": "code",
   "execution_count": 8,
   "id": "4027c2c1-b637-4e2e-a4cb-e0f37f8417aa",
   "metadata": {},
   "outputs": [
    {
     "data": {
      "text/html": [
       "<div>\n",
       "<style scoped>\n",
       "    .dataframe tbody tr th:only-of-type {\n",
       "        vertical-align: middle;\n",
       "    }\n",
       "\n",
       "    .dataframe tbody tr th {\n",
       "        vertical-align: top;\n",
       "    }\n",
       "\n",
       "    .dataframe thead th {\n",
       "        text-align: right;\n",
       "    }\n",
       "</style>\n",
       "<table border=\"1\" class=\"dataframe\">\n",
       "  <thead>\n",
       "    <tr style=\"text-align: right;\">\n",
       "      <th></th>\n",
       "      <th>Text</th>\n",
       "      <th>Sentiment</th>\n",
       "    </tr>\n",
       "  </thead>\n",
       "  <tbody>\n",
       "    <tr>\n",
       "      <th>0</th>\n",
       "      <td>🇺🇦 Massive explosions rocks #Kharkiv. #Russia ...</td>\n",
       "      <td>0.0000</td>\n",
       "    </tr>\n",
       "    <tr>\n",
       "      <th>1</th>\n",
       "      <td>🇺🇦 Kharkiv is officially being struck by major...</td>\n",
       "      <td>-0.5423</td>\n",
       "    </tr>\n",
       "    <tr>\n",
       "      <th>2</th>\n",
       "      <td>🇺🇦 More angles on that strike in Kharkiv. #Rus...</td>\n",
       "      <td>-0.1280</td>\n",
       "    </tr>\n",
       "    <tr>\n",
       "      <th>3</th>\n",
       "      <td>🇺🇦 BM-21 Grad strikes opening on #Mariupol cit...</td>\n",
       "      <td>-0.3612</td>\n",
       "    </tr>\n",
       "    <tr>\n",
       "      <th>4</th>\n",
       "      <td>🇺🇦 Damage caused by strike in Kharkiv... #Russ...</td>\n",
       "      <td>-0.5719</td>\n",
       "    </tr>\n",
       "    <tr>\n",
       "      <th>...</th>\n",
       "      <td>...</td>\n",
       "      <td>...</td>\n",
       "    </tr>\n",
       "    <tr>\n",
       "      <th>44081</th>\n",
       "      <td>Russia’s mass media and telecommunications wat...</td>\n",
       "      <td>0.5574</td>\n",
       "    </tr>\n",
       "    <tr>\n",
       "      <th>44082</th>\n",
       "      <td>@tony07653102 @CNEWS Pour comprendre un confli...</td>\n",
       "      <td>0.0000</td>\n",
       "    </tr>\n",
       "    <tr>\n",
       "      <th>44083</th>\n",
       "      <td>Putin ukrajinske vojnike naziva neonacizmom, a...</td>\n",
       "      <td>0.0000</td>\n",
       "    </tr>\n",
       "    <tr>\n",
       "      <th>44084</th>\n",
       "      <td>Watch: amid war ruins in #Ukraine, unbowed cla...</td>\n",
       "      <td>-0.6597</td>\n",
       "    </tr>\n",
       "    <tr>\n",
       "      <th>44085</th>\n",
       "      <td>#britishsummertime started on Sunday 27th.\\n\\n...</td>\n",
       "      <td>0.0000</td>\n",
       "    </tr>\n",
       "  </tbody>\n",
       "</table>\n",
       "<p>44074 rows × 2 columns</p>\n",
       "</div>"
      ],
      "text/plain": [
       "                                                    Text  Sentiment\n",
       "0      🇺🇦 Massive explosions rocks #Kharkiv. #Russia ...     0.0000\n",
       "1      🇺🇦 Kharkiv is officially being struck by major...    -0.5423\n",
       "2      🇺🇦 More angles on that strike in Kharkiv. #Rus...    -0.1280\n",
       "3      🇺🇦 BM-21 Grad strikes opening on #Mariupol cit...    -0.3612\n",
       "4      🇺🇦 Damage caused by strike in Kharkiv... #Russ...    -0.5719\n",
       "...                                                  ...        ...\n",
       "44081  Russia’s mass media and telecommunications wat...     0.5574\n",
       "44082  @tony07653102 @CNEWS Pour comprendre un confli...     0.0000\n",
       "44083  Putin ukrajinske vojnike naziva neonacizmom, a...     0.0000\n",
       "44084  Watch: amid war ruins in #Ukraine, unbowed cla...    -0.6597\n",
       "44085  #britishsummertime started on Sunday 27th.\\n\\n...     0.0000\n",
       "\n",
       "[44074 rows x 2 columns]"
      ]
     },
     "execution_count": 8,
     "metadata": {},
     "output_type": "execute_result"
    }
   ],
   "source": [
    "df_tweet_sentiment= df[['Text','Sentiment']]\n",
    "df_tweet_sentiment"
   ]
  },
  {
   "cell_type": "code",
   "execution_count": 13,
   "id": "714ff667-66df-4572-9c9f-1c78b609e235",
   "metadata": {},
   "outputs": [
    {
     "data": {
      "text/plain": [
       "-0.0765487589054785"
      ]
     },
     "execution_count": 13,
     "metadata": {},
     "output_type": "execute_result"
    }
   ],
   "source": [
    "df_tweet_sentiment.Sentiment.mean()"
   ]
  },
  {
   "cell_type": "code",
   "execution_count": 9,
   "id": "bbbb1fc5-e92a-460a-a88b-aa81f6be0410",
   "metadata": {},
   "outputs": [
    {
     "data": {
      "image/png": "[encoded data removed]",
      "text/plain": [
       "<Figure size 432x288 with 1 Axes>"
      ]
     },
     "metadata": {
      "needs_background": "light"
     },
     "output_type": "display_data"
    }
   ],
   "source": [
    "\n",
    "\n",
    "# Create a histogram of sentiment scores\n",
    "plt.hist(df_tweet_sentiment['Sentiment'], bins=20)\n",
    "\n",
    "# Add labels and title\n",
    "plt.xlabel('Sentiment Score')\n",
    "plt.ylabel('Frequency')\n",
    "plt.title('Distribution of Sentiment Scores')\n",
    "plt.show()\n"
   ]
  },
  {
   "cell_type": "code",
   "execution_count": 25,
   "id": "4827b236-2da0-48b4-9d66-3bc8f150ce83",
   "metadata": {},
   "outputs": [
    {
     "data": {
      "text/plain": [
       "170    Dis place is so dry and boring where are my mu...\n",
       "238    FUCKING BASTARDS!!! #RussiaWar https://t.co/se...\n",
       "329    Boycott usa they are inhumane terrorist wicked...\n",
       "416    @BombshellDAILY @KremlinRussia_E @SenateGOP @G...\n",
       "Name: Text, dtype: object"
      ]
     },
     "execution_count": 25,
     "metadata": {},
     "output_type": "execute_result"
    }
   ],
   "source": [
    "positive_tweets = df_tweet_sentiment[df_tweet_sentiment['Sentiment'] < -0.5]['Text']\n"
   ]
  },
  {
   "cell_type": "markdown",
   "id": "b3980a75-56bf-4441-b6e9-7c891c704964",
   "metadata": {},
   "source": [
    "Let's remove the rows where the sentiment was 0"
   ]
  },
  {
   "cell_type": "code",
   "execution_count": 43,
   "id": "5c1f6ba4-73dd-4c27-872e-1d687e8f8832",
   "metadata": {},
   "outputs": [],
   "source": [
    "df_tweet_sentiment_excl_neurtal = df_tweet_sentiment[df_tweet_sentiment['Sentiment'] != 0.0000]"
   ]
  },
  {
   "cell_type": "code",
   "execution_count": 44,
   "id": "21f1f34d-510f-4bac-9f51-7422e7d3d4ec",
   "metadata": {},
   "outputs": [
    {
     "data": {
      "text/html": [
       "<div>\n",
       "<style scoped>\n",
       "    .dataframe tbody tr th:only-of-type {\n",
       "        vertical-align: middle;\n",
       "    }\n",
       "\n",
       "    .dataframe tbody tr th {\n",
       "        vertical-align: top;\n",
       "    }\n",
       "\n",
       "    .dataframe thead th {\n",
       "        text-align: right;\n",
       "    }\n",
       "</style>\n",
       "<table border=\"1\" class=\"dataframe\">\n",
       "  <thead>\n",
       "    <tr style=\"text-align: right;\">\n",
       "      <th></th>\n",
       "      <th>Text</th>\n",
       "      <th>Sentiment</th>\n",
       "    </tr>\n",
       "  </thead>\n",
       "  <tbody>\n",
       "    <tr>\n",
       "      <th>1</th>\n",
       "      <td>🇺🇦 Kharkiv is officially being struck by major...</td>\n",
       "      <td>-0.5423</td>\n",
       "    </tr>\n",
       "    <tr>\n",
       "      <th>2</th>\n",
       "      <td>🇺🇦 More angles on that strike in Kharkiv. #Rus...</td>\n",
       "      <td>-0.1280</td>\n",
       "    </tr>\n",
       "    <tr>\n",
       "      <th>3</th>\n",
       "      <td>🇺🇦 BM-21 Grad strikes opening on #Mariupol cit...</td>\n",
       "      <td>-0.3612</td>\n",
       "    </tr>\n",
       "    <tr>\n",
       "      <th>4</th>\n",
       "      <td>🇺🇦 Damage caused by strike in Kharkiv... #Russ...</td>\n",
       "      <td>-0.5719</td>\n",
       "    </tr>\n",
       "    <tr>\n",
       "      <th>5</th>\n",
       "      <td>🇺🇦 BORYSPIL AIRPORT IN #KYIV IS UNDER ATTACK. ...</td>\n",
       "      <td>-0.5904</td>\n",
       "    </tr>\n",
       "    <tr>\n",
       "      <th>...</th>\n",
       "      <td>...</td>\n",
       "      <td>...</td>\n",
       "    </tr>\n",
       "    <tr>\n",
       "      <th>44078</th>\n",
       "      <td>A newly finished street artwork in Krakow, Pol...</td>\n",
       "      <td>0.2960</td>\n",
       "    </tr>\n",
       "    <tr>\n",
       "      <th>44079</th>\n",
       "      <td>#Biden Confirms Why the #US #Needed This #War:...</td>\n",
       "      <td>0.4215</td>\n",
       "    </tr>\n",
       "    <tr>\n",
       "      <th>44080</th>\n",
       "      <td>Remember this?\\nSviatlana #tsikhanouskaya: You...</td>\n",
       "      <td>0.4767</td>\n",
       "    </tr>\n",
       "    <tr>\n",
       "      <th>44081</th>\n",
       "      <td>Russia’s mass media and telecommunications wat...</td>\n",
       "      <td>0.5574</td>\n",
       "    </tr>\n",
       "    <tr>\n",
       "      <th>44084</th>\n",
       "      <td>Watch: amid war ruins in #Ukraine, unbowed cla...</td>\n",
       "      <td>-0.6597</td>\n",
       "    </tr>\n",
       "  </tbody>\n",
       "</table>\n",
       "<p>24020 rows × 2 columns</p>\n",
       "</div>"
      ],
      "text/plain": [
       "                                                    Text  Sentiment\n",
       "1      🇺🇦 Kharkiv is officially being struck by major...    -0.5423\n",
       "2      🇺🇦 More angles on that strike in Kharkiv. #Rus...    -0.1280\n",
       "3      🇺🇦 BM-21 Grad strikes opening on #Mariupol cit...    -0.3612\n",
       "4      🇺🇦 Damage caused by strike in Kharkiv... #Russ...    -0.5719\n",
       "5      🇺🇦 BORYSPIL AIRPORT IN #KYIV IS UNDER ATTACK. ...    -0.5904\n",
       "...                                                  ...        ...\n",
       "44078  A newly finished street artwork in Krakow, Pol...     0.2960\n",
       "44079  #Biden Confirms Why the #US #Needed This #War:...     0.4215\n",
       "44080  Remember this?\\nSviatlana #tsikhanouskaya: You...     0.4767\n",
       "44081  Russia’s mass media and telecommunications wat...     0.5574\n",
       "44084  Watch: amid war ruins in #Ukraine, unbowed cla...    -0.6597\n",
       "\n",
       "[24020 rows x 2 columns]"
      ]
     },
     "execution_count": 44,
     "metadata": {},
     "output_type": "execute_result"
    }
   ],
   "source": [
    "df_tweet_sentiment_excl_neurtal"
   ]
  },
  {
   "cell_type": "code",
   "execution_count": 45,
   "id": "a4494d5c-ec80-46ea-8c9e-d3525f2fc421",
   "metadata": {},
   "outputs": [
    {
     "data": {
      "text/plain": [
       "-0.14045836802664693"
      ]
     },
     "execution_count": 45,
     "metadata": {},
     "output_type": "execute_result"
    }
   ],
   "source": [
    "df_tweet_sentiment_excl_neurtal.Sentiment.mean()"
   ]
  },
  {
   "cell_type": "code",
   "execution_count": 46,
   "id": "7ccf73a0-52f9-47fa-87ee-5b751f648003",
   "metadata": {},
   "outputs": [
    {
     "data": {
      "image/png": "[encoded data removed]",
      "text/plain": [
       "<Figure size 432x288 with 1 Axes>"
      ]
     },
     "metadata": {
      "needs_background": "light"
     },
     "output_type": "display_data"
    }
   ],
   "source": [
    "# Create a histogram of sentiment scores\n",
    "plt.hist(df_tweet_sentiment_excl_neurtal['Sentiment'], bins=20)\n",
    "\n",
    "# Add labels and title\n",
    "plt.xlabel('Sentiment Score')\n",
    "plt.ylabel('Frequency')\n",
    "plt.title('Distribution of Sentiment Scores')\n",
    "plt.show()"
   ]
  },
  {
   "cell_type": "markdown",
   "id": "56b4b02f-e44b-4dfa-a7e8-2fafca6ae644",
   "metadata": {},
   "source": [
    "The code bellow does topic modelling to show the main topics that appear in our tweets."
   ]
  },
  {
   "cell_type": "code",
   "execution_count": 241,
   "id": "05839782-c579-4bfa-ae86-f965b8404ae7",
   "metadata": {},
   "outputs": [
    {
     "name": "stdout",
     "output_type": "stream",
     "text": [
      "Topic 1: ukraine putin ukrainewar russia ukraineconflict\n"
     ]
    }
   ],
   "source": [
    "# Define the number of topics to identify\n",
    "num_topics = 1\n",
    "\n",
    "# Create a CountVectorizer object\n",
    "#vectorizer = CountVectorizer(stop_words='english')\n",
    "vectorizer = CountVectorizer(stop_words=['english','co', 'the', 'and', 'a', 'to', 'of', 'in', 'that', 'it', 'for', 'with','https', 'die', 'der', 'el', 'la', 'los', 'las', 'le', 'les', 'la', 'de', 'du', 'des'])\n",
    "\n",
    "\n",
    "# Fit the vectorizer to the text data and transform it into a document-term matrix\n",
    "dtm = vectorizer.fit_transform(df_tweet_sentiment['Text'])\n",
    "\n",
    "# Create an LDA model and fit it to the document-term matrix\n",
    "lda_model = LatentDirichletAllocation(n_components=num_topics, random_state=42)\n",
    "lda_model.fit(dtm)\n",
    "\n",
    "# Print the topics identified by the model\n",
    "for i, topic in enumerate(lda_model.components_):\n",
    "    print(f\"Topic {i+1}: {' '.join([vectorizer.get_feature_names_out()[j] for j in topic.argsort()[:-6:-1]])}\")\n"
   ]
  },
  {
   "cell_type": "markdown",
   "id": "8de6601f-c605-41cb-b2df-af93411a73d2",
   "metadata": {},
   "source": [
    "The results found in Part 0 are not very useful, hence we will skip this"
   ]
  },
  {
   "cell_type": "markdown",
   "id": "fe2bced9-db5d-47b5-a2a6-b79c6d69a6a8",
   "metadata": {},
   "source": [
    "# Part 1"
   ]
  },
  {
   "cell_type": "code",
   "execution_count": 112,
   "id": "5c165b2e-cafa-4165-a0c2-2f73481bd4e6",
   "metadata": {},
   "outputs": [],
   "source": [
    "import pandas as pd\n",
    "import matplotlib.pyplot as plt\n",
    "import openai\n",
    "import os\n",
    "from tqdm import tqdm\n",
    "import time\n",
    "import random"
   ]
  },
  {
   "cell_type": "code",
   "execution_count": 245,
   "id": "a4ebe34c-5d70-4726-ae9b-172d8ed66083",
   "metadata": {},
   "outputs": [],
   "source": [
    "#Input OpenAI Access Token\n",
    "api_access= 'API KEY'"
   ]
  },
  {
   "cell_type": "code",
   "execution_count": 21,
   "id": "a227e66e-7751-4614-bfb4-71323eb99f65",
   "metadata": {},
   "outputs": [
    {
     "data": {
      "text/html": [
       "<div>\n",
       "<style scoped>\n",
       "    .dataframe tbody tr th:only-of-type {\n",
       "        vertical-align: middle;\n",
       "    }\n",
       "\n",
       "    .dataframe tbody tr th {\n",
       "        vertical-align: top;\n",
       "    }\n",
       "\n",
       "    .dataframe thead th {\n",
       "        text-align: right;\n",
       "    }\n",
       "</style>\n",
       "<table border=\"1\" class=\"dataframe\">\n",
       "  <thead>\n",
       "    <tr style=\"text-align: right;\">\n",
       "      <th></th>\n",
       "      <th>Datetime</th>\n",
       "      <th>Text</th>\n",
       "    </tr>\n",
       "  </thead>\n",
       "  <tbody>\n",
       "    <tr>\n",
       "      <th>0</th>\n",
       "      <td>2022-02-24 03:12:47+00:00</td>\n",
       "      <td>🇺🇦 Massive explosions rocks #Kharkiv. #Russia ...</td>\n",
       "    </tr>\n",
       "    <tr>\n",
       "      <th>1</th>\n",
       "      <td>2022-02-24 03:18:54+00:00</td>\n",
       "      <td>🇺🇦 Kharkiv is officially being struck by major...</td>\n",
       "    </tr>\n",
       "    <tr>\n",
       "      <th>2</th>\n",
       "      <td>2022-02-24 03:22:42+00:00</td>\n",
       "      <td>🇺🇦 More angles on that strike in Kharkiv. #Rus...</td>\n",
       "    </tr>\n",
       "    <tr>\n",
       "      <th>3</th>\n",
       "      <td>2022-02-24 03:25:36+00:00</td>\n",
       "      <td>🇺🇦 BM-21 Grad strikes opening on #Mariupol cit...</td>\n",
       "    </tr>\n",
       "    <tr>\n",
       "      <th>4</th>\n",
       "      <td>2022-02-24 03:27:28+00:00</td>\n",
       "      <td>🇺🇦 Damage caused by strike in Kharkiv... #Russ...</td>\n",
       "    </tr>\n",
       "  </tbody>\n",
       "</table>\n",
       "</div>"
      ],
      "text/plain": [
       "                    Datetime  \\\n",
       "0  2022-02-24 03:12:47+00:00   \n",
       "1  2022-02-24 03:18:54+00:00   \n",
       "2  2022-02-24 03:22:42+00:00   \n",
       "3  2022-02-24 03:25:36+00:00   \n",
       "4  2022-02-24 03:27:28+00:00   \n",
       "\n",
       "                                                Text  \n",
       "0  🇺🇦 Massive explosions rocks #Kharkiv. #Russia ...  \n",
       "1  🇺🇦 Kharkiv is officially being struck by major...  \n",
       "2  🇺🇦 More angles on that strike in Kharkiv. #Rus...  \n",
       "3  🇺🇦 BM-21 Grad strikes opening on #Mariupol cit...  \n",
       "4  🇺🇦 Damage caused by strike in Kharkiv... #Russ...  "
      ]
     },
     "execution_count": 21,
     "metadata": {},
     "output_type": "execute_result"
    }
   ],
   "source": [
    "df= pd.read_csv('Data/tweets_russia_ukraine_first_month.csv')\n",
    "df = df.dropna(subset=['Text'])\n",
    "df = df[['Datetime','Text']]\n",
    "df.head()"
   ]
  },
  {
   "cell_type": "markdown",
   "id": "ddc336d9-b2b4-44f8-9ecc-2dcfbfcf34b7",
   "metadata": {},
   "source": [
    "Example tweet"
   ]
  },
  {
   "cell_type": "code",
   "execution_count": 42,
   "id": "96394e31-87db-4616-bf7d-7332445e6c2c",
   "metadata": {},
   "outputs": [
    {
     "data": {
      "text/plain": [
       "'The #Ukraineconflict has made one thing clear: #Nuclear weapons are here to stay and any prospects for nuclear arms control and nuclear disarmament have receded further, opines @rakeshnms. https://t.co/9gRWF2riHS'"
      ]
     },
     "execution_count": 42,
     "metadata": {},
     "output_type": "execute_result"
    }
   ],
   "source": [
    "df['Text'].iloc[9000]"
   ]
  },
  {
   "cell_type": "markdown",
   "id": "a9007e1f-1bc5-4058-a5be-bda62516b0f9",
   "metadata": {},
   "source": [
    "To determine the timeframe of the tweets, we can examine the \"Datetime\" column. Since the dataset is sorted in ascending order by datetime, we can simply look at the first and last rows to gain insight into the timeframe covered by the dataset."
   ]
  },
  {
   "cell_type": "code",
   "execution_count": 22,
   "id": "0de46c4c-2650-487f-993d-9a286b2525ad",
   "metadata": {},
   "outputs": [
    {
     "name": "stdout",
     "output_type": "stream",
     "text": [
      "Earliest Tweet: 2022-02-24 03:12:47+00:00\n",
      "Latest Tweet: 2022-03-27 23:59:45+00:00\n"
     ]
    }
   ],
   "source": [
    "print(\"Earliest Tweet:\", df['Datetime'].iloc[0])\n",
    "print(\"Latest Tweet:\", df['Datetime'].iloc[-1])"
   ]
  },
  {
   "cell_type": "markdown",
   "id": "baad48c9-e40c-48e7-a3bf-dd8dcfb8fe08",
   "metadata": {},
   "source": [
    "This is good as 24th of Feburary was the date where Russia deployed 200,000 troops, and was around the time where the EU started imposing sanctions. Between the 23rd of Feburary and the 15th of March was the timeframe where the EU implemnted their first four compliance packages (https://finance.ec.europa.eu/eu-and-world/sanctions-restrictive-measures/sanctions-adopted-following-russias-military-aggression-against-ukraine_en)."
   ]
  },
  {
   "cell_type": "markdown",
   "id": "913b8b06-debf-4b23-b7ca-9c7a5ac1dddf",
   "metadata": {},
   "source": [
    "Sentiment analysis doesn't work well for our task at hand as we don't want to understand the general sentiment of the tweet, we want to understand the sentiment of the tweet towards Ukraine and Russia. Hence, we have to take a new approach. The approach we will take is to use OpenAI's large language Model GPT-3. We will access their API in order to evaluate each tweets sentiment towards the Ukraine and Russia. This is an interesting method as we are leveraging new technology to perform a classification task. Also, by using GPT-3 we benefit from not having to translate the tweets. This is because GPT-3 understands a variety of languages"
   ]
  },
  {
   "cell_type": "markdown",
   "id": "86c762f6-a4bd-4218-9e02-9367fb974367",
   "metadata": {},
   "source": [
    "Below is the function that uses OpenAI's GPT language model to classify the sentiment of a tweet.\n",
    "\n",
    "The function takes a tweet, and classifies it with either a -1,0. or 1. The rules it uses for classification are the following:\n",
    "- If the tweet expresses support for Ukraine or opposition towards Russia, it classifies the tweet as '1'. \n",
    "- If the tweet expresses opposition to Ukraine or support for Russia, it classifies the tweet as '-1'. \n",
    "- If the tweet does not express a clear sentiment for or against Ukraine or Russia, it classifies the tweet as '0'.\n",
    "   \n",
    "The generated classification is returned as an output by the function. We will apply this function to our tweets in our df.\n",
    "\n",
    "The function that uses OpenAI's GPT language model to classify tweet sentiment offers a more nuanced and accurate classification of tweets than general sentiment analysis. This is because the GPT language model is trained on a massive amount of text data, which allows it to capture the intricacies and complexities of language use, including sarcasm, idiomatic expressions, and subtle connotations. As a result, the GPT-based sentiment analysis method can provide a more accurate interpretation of tweets, especially in a context as complex and nuanced as the EU-Russia relationship, where sentiment can often be obscured or ambiguous. By using the GPT-based sentiment analysis, we can obtain a more comprehensive understanding of the public sentiment towards Ukraine and Russia in our dataset."
   ]
  },
  {
   "cell_type": "code",
   "execution_count": 132,
   "id": "ac05dc76-4ca0-4927-b52f-abd6be05dbd5",
   "metadata": {},
   "outputs": [],
   "source": [
    "def sentiment_gpt(tweet):\n",
    "    \n",
    "    prompt=f\"Given that there is an ongoing conflict between Russia and Ukraine and that Putin is the president of Russia while Zelensky is the president of Ukraine, classify the sentiment of a given text as either supporting Ukraine, opposing Ukraine, or neutral. The text may discuss topics related to Russia or Ukraine as a whole, such as their presidents or cities in the country. If the text expresses support for Ukraine or opposition/dismay towards Russia, classify it as '1'. If the text expresses opposition to Ukraine or support for Russia, classify it as '-1'. If the text does not express a clear sentiment for or against Ukraine or Russia, classify it as '0'. \\n\\nText: {tweet}\\n\\nClassify: ###\"\n",
    "    response = openai.Completion.create(\n",
    "        engine=\"text-davinci-003\",\n",
    "        prompt=prompt,\n",
    "        max_tokens=1024,\n",
    "        n=1,\n",
    "        stop='###',\n",
    "        temperature=0.2,\n",
    "    )\n",
    "    output = response[\"choices\"][0][\"text\"]\n",
    "    return output"
   ]
  },
  {
   "cell_type": "markdown",
   "id": "55fdb834-68f0-4b41-959f-cd99668e1fd6",
   "metadata": {},
   "source": [
    "Check the number of words in our tweets dataset"
   ]
  },
  {
   "cell_type": "code",
   "execution_count": 61,
   "id": "34b63273-d9b1-4c4a-99c8-78d82202e7d5",
   "metadata": {},
   "outputs": [
    {
     "name": "stdout",
     "output_type": "stream",
     "text": [
      "The number of words in our tweets dataset is: 1057389\n"
     ]
    }
   ],
   "source": [
    "word_counts = df['Text'].apply(lambda x: len(str(x).split())).tolist()\n",
    "total_word_count = sum(word_counts)\n",
    "print(\"The number of words in our tweets dataset is:\", total_word_count)"
   ]
  },
  {
   "cell_type": "markdown",
   "id": "7e25e636-ed86-4259-a6d2-5e4579059244",
   "metadata": {},
   "source": [
    "As seen abover, there are around one million words in our tweets dataset. This would be very expensive to process one million words through the OpenAI API. Hence, we will simply randomly select 1000 tweets. This isn't ideal but 1000 tweets is still a relevant number of tweets given our limitations."
   ]
  },
  {
   "cell_type": "markdown",
   "id": "556687ba-f3f4-470d-acee-9b8c7f215df8",
   "metadata": {},
   "source": [
    "Make a new df with 1000 randomly selected tweets"
   ]
  },
  {
   "cell_type": "code",
   "execution_count": 133,
   "id": "2c764641-4eab-43be-be75-7bc36c6c4346",
   "metadata": {},
   "outputs": [],
   "source": [
    "#Run only once\n",
    "df1 = df['Text'].sample(n=1000, random_state=43).to_frame()\n",
    "df1= df1.reset_index()"
   ]
  },
  {
   "cell_type": "code",
   "execution_count": 134,
   "id": "61f62db2-18e1-45fd-8f54-db7f3d39a313",
   "metadata": {},
   "outputs": [
    {
     "data": {
      "text/html": [
       "<div>\n",
       "<style scoped>\n",
       "    .dataframe tbody tr th:only-of-type {\n",
       "        vertical-align: middle;\n",
       "    }\n",
       "\n",
       "    .dataframe tbody tr th {\n",
       "        vertical-align: top;\n",
       "    }\n",
       "\n",
       "    .dataframe thead th {\n",
       "        text-align: right;\n",
       "    }\n",
       "</style>\n",
       "<table border=\"1\" class=\"dataframe\">\n",
       "  <thead>\n",
       "    <tr style=\"text-align: right;\">\n",
       "      <th></th>\n",
       "      <th>index</th>\n",
       "      <th>Text</th>\n",
       "    </tr>\n",
       "  </thead>\n",
       "  <tbody>\n",
       "    <tr>\n",
       "      <th>0</th>\n",
       "      <td>37327</td>\n",
       "      <td>@Jeggit Do not harm captive Russian soldiers a...</td>\n",
       "    </tr>\n",
       "    <tr>\n",
       "      <th>1</th>\n",
       "      <td>19796</td>\n",
       "      <td>#okhtyrka #UkraineWar https://t.co/A7MjCEfIOt</td>\n",
       "    </tr>\n",
       "    <tr>\n",
       "      <th>2</th>\n",
       "      <td>35327</td>\n",
       "      <td>#Juifs souviens toi! #Ukrainiens #Ukraine #Ukr...</td>\n",
       "    </tr>\n",
       "    <tr>\n",
       "      <th>3</th>\n",
       "      <td>41231</td>\n",
       "      <td>Russia transfers thousands of Mariupol civilia...</td>\n",
       "    </tr>\n",
       "    <tr>\n",
       "      <th>4</th>\n",
       "      <td>31107</td>\n",
       "      <td>One of Nemtsov's suspected murderers is now in...</td>\n",
       "    </tr>\n",
       "    <tr>\n",
       "      <th>...</th>\n",
       "      <td>...</td>\n",
       "      <td>...</td>\n",
       "    </tr>\n",
       "    <tr>\n",
       "      <th>995</th>\n",
       "      <td>11974</td>\n",
       "      <td>On the front page of the #Paris daily:\\n\\n#Ukr...</td>\n",
       "    </tr>\n",
       "    <tr>\n",
       "      <th>996</th>\n",
       "      <td>4641</td>\n",
       "      <td>Très bonne vidéo sur la situation en Ukraine d...</td>\n",
       "    </tr>\n",
       "    <tr>\n",
       "      <th>997</th>\n",
       "      <td>24717</td>\n",
       "      <td>Tatsächlich besorgniserregend &amp;amp; zugleich e...</td>\n",
       "    </tr>\n",
       "    <tr>\n",
       "      <th>998</th>\n",
       "      <td>33835</td>\n",
       "      <td>Bare witness. Be Aware. Care. Such sadness her...</td>\n",
       "    </tr>\n",
       "    <tr>\n",
       "      <th>999</th>\n",
       "      <td>26248</td>\n",
       "      <td>The media is bloviating about #JoeBiden’s “mis...</td>\n",
       "    </tr>\n",
       "  </tbody>\n",
       "</table>\n",
       "<p>1000 rows × 2 columns</p>\n",
       "</div>"
      ],
      "text/plain": [
       "     index                                               Text\n",
       "0    37327  @Jeggit Do not harm captive Russian soldiers a...\n",
       "1    19796      #okhtyrka #UkraineWar https://t.co/A7MjCEfIOt\n",
       "2    35327  #Juifs souviens toi! #Ukrainiens #Ukraine #Ukr...\n",
       "3    41231  Russia transfers thousands of Mariupol civilia...\n",
       "4    31107  One of Nemtsov's suspected murderers is now in...\n",
       "..     ...                                                ...\n",
       "995  11974  On the front page of the #Paris daily:\\n\\n#Ukr...\n",
       "996   4641  Très bonne vidéo sur la situation en Ukraine d...\n",
       "997  24717  Tatsächlich besorgniserregend &amp; zugleich e...\n",
       "998  33835  Bare witness. Be Aware. Care. Such sadness her...\n",
       "999  26248  The media is bloviating about #JoeBiden’s “mis...\n",
       "\n",
       "[1000 rows x 2 columns]"
      ]
     },
     "execution_count": 134,
     "metadata": {},
     "output_type": "execute_result"
    }
   ],
   "source": [
    "df1"
   ]
  },
  {
   "cell_type": "markdown",
   "id": "c46250eb-824f-4da8-a0e2-2f3a99b589b7",
   "metadata": {},
   "source": [
    "Find the Sentiment of the 1000 tweets"
   ]
  },
  {
   "cell_type": "code",
   "execution_count": 137,
   "id": "7a4dc864-18f6-4501-b6d3-d48c4536a2af",
   "metadata": {},
   "outputs": [
    {
     "name": "stderr",
     "output_type": "stream",
     "text": [
      " 91%|█████████ | 910/1000 [32:45<03:14,  2.16s/it]\n"
     ]
    },
    {
     "ename": "RateLimitError",
     "evalue": "That model is currently overloaded with other requests. You can retry your request, or contact us through our help center at help.openai.com if the error persists. (Please include the request ID e49e088eb19271a97161cb0bfe21dad6 in your message.)",
     "output_type": "error",
     "traceback": [
      "\u001b[1;31m---------------------------------------------------------------------------\u001b[0m",
      "\u001b[1;31mRateLimitError\u001b[0m                            Traceback (most recent call last)",
      "Input \u001b[1;32mIn [137]\u001b[0m, in \u001b[0;36m<cell line: 3>\u001b[1;34m()\u001b[0m\n\u001b[0;32m      2\u001b[0m sentiments \u001b[38;5;241m=\u001b[39m []\n\u001b[0;32m      3\u001b[0m \u001b[38;5;28;01mfor\u001b[39;00m tweet \u001b[38;5;129;01min\u001b[39;00m tqdm(df1[\u001b[38;5;124m'\u001b[39m\u001b[38;5;124mText\u001b[39m\u001b[38;5;124m'\u001b[39m]):\n\u001b[1;32m----> 4\u001b[0m     sentiment \u001b[38;5;241m=\u001b[39m \u001b[43msentiment_gpt\u001b[49m\u001b[43m(\u001b[49m\u001b[43mtweet\u001b[49m\u001b[43m)\u001b[49m\n\u001b[0;32m      5\u001b[0m     sentiments\u001b[38;5;241m.\u001b[39mappend(sentiment)\n\u001b[0;32m      6\u001b[0m     time\u001b[38;5;241m.\u001b[39msleep(\u001b[38;5;241m1.5\u001b[39m)\n",
      "Input \u001b[1;32mIn [132]\u001b[0m, in \u001b[0;36msentiment_gpt\u001b[1;34m(tweet)\u001b[0m\n\u001b[0;32m      1\u001b[0m \u001b[38;5;28;01mdef\u001b[39;00m \u001b[38;5;21msentiment_gpt\u001b[39m(tweet):\n\u001b[0;32m      3\u001b[0m     prompt\u001b[38;5;241m=\u001b[39m\u001b[38;5;124mf\u001b[39m\u001b[38;5;124m\"\u001b[39m\u001b[38;5;124mGiven that there is an ongoing conflict between Russia and Ukraine and that Putin is the president of Russia while Zelensky is the president of Ukraine, classify the sentiment of a given text as either supporting Ukraine, opposing Ukraine, or neutral. The text may discuss topics related to Russia or Ukraine as a whole, such as their presidents or cities in the country. If the text expresses support for Ukraine or opposition/dismay towards Russia, classify it as \u001b[39m\u001b[38;5;124m'\u001b[39m\u001b[38;5;124m1\u001b[39m\u001b[38;5;124m'\u001b[39m\u001b[38;5;124m. If the text expresses opposition to Ukraine or support for Russia, classify it as \u001b[39m\u001b[38;5;124m'\u001b[39m\u001b[38;5;124m-1\u001b[39m\u001b[38;5;124m'\u001b[39m\u001b[38;5;124m. If the text does not express a clear sentiment for or against Ukraine or Russia, classify it as \u001b[39m\u001b[38;5;124m'\u001b[39m\u001b[38;5;124m0\u001b[39m\u001b[38;5;124m'\u001b[39m\u001b[38;5;124m. \u001b[39m\u001b[38;5;130;01m\\n\u001b[39;00m\u001b[38;5;130;01m\\n\u001b[39;00m\u001b[38;5;124mText: \u001b[39m\u001b[38;5;132;01m{\u001b[39;00mtweet\u001b[38;5;132;01m}\u001b[39;00m\u001b[38;5;130;01m\\n\u001b[39;00m\u001b[38;5;130;01m\\n\u001b[39;00m\u001b[38;5;124mClassify: ###\u001b[39m\u001b[38;5;124m\"\u001b[39m\n\u001b[1;32m----> 4\u001b[0m     response \u001b[38;5;241m=\u001b[39m \u001b[43mopenai\u001b[49m\u001b[38;5;241;43m.\u001b[39;49m\u001b[43mCompletion\u001b[49m\u001b[38;5;241;43m.\u001b[39;49m\u001b[43mcreate\u001b[49m\u001b[43m(\u001b[49m\n\u001b[0;32m      5\u001b[0m \u001b[43m        \u001b[49m\u001b[43mengine\u001b[49m\u001b[38;5;241;43m=\u001b[39;49m\u001b[38;5;124;43m\"\u001b[39;49m\u001b[38;5;124;43mtext-davinci-003\u001b[39;49m\u001b[38;5;124;43m\"\u001b[39;49m\u001b[43m,\u001b[49m\n\u001b[0;32m      6\u001b[0m \u001b[43m        \u001b[49m\u001b[43mprompt\u001b[49m\u001b[38;5;241;43m=\u001b[39;49m\u001b[43mprompt\u001b[49m\u001b[43m,\u001b[49m\n\u001b[0;32m      7\u001b[0m \u001b[43m        \u001b[49m\u001b[43mmax_tokens\u001b[49m\u001b[38;5;241;43m=\u001b[39;49m\u001b[38;5;241;43m1024\u001b[39;49m\u001b[43m,\u001b[49m\n\u001b[0;32m      8\u001b[0m \u001b[43m        \u001b[49m\u001b[43mn\u001b[49m\u001b[38;5;241;43m=\u001b[39;49m\u001b[38;5;241;43m1\u001b[39;49m\u001b[43m,\u001b[49m\n\u001b[0;32m      9\u001b[0m \u001b[43m        \u001b[49m\u001b[43mstop\u001b[49m\u001b[38;5;241;43m=\u001b[39;49m\u001b[38;5;124;43m'\u001b[39;49m\u001b[38;5;124;43m###\u001b[39;49m\u001b[38;5;124;43m'\u001b[39;49m\u001b[43m,\u001b[49m\n\u001b[0;32m     10\u001b[0m \u001b[43m        \u001b[49m\u001b[43mtemperature\u001b[49m\u001b[38;5;241;43m=\u001b[39;49m\u001b[38;5;241;43m0.2\u001b[39;49m\u001b[43m,\u001b[49m\n\u001b[0;32m     11\u001b[0m \u001b[43m    \u001b[49m\u001b[43m)\u001b[49m\n\u001b[0;32m     12\u001b[0m     output \u001b[38;5;241m=\u001b[39m response[\u001b[38;5;124m\"\u001b[39m\u001b[38;5;124mchoices\u001b[39m\u001b[38;5;124m\"\u001b[39m][\u001b[38;5;241m0\u001b[39m][\u001b[38;5;124m\"\u001b[39m\u001b[38;5;124mtext\u001b[39m\u001b[38;5;124m\"\u001b[39m]\n\u001b[0;32m     13\u001b[0m     \u001b[38;5;28;01mreturn\u001b[39;00m output\n",
      "File \u001b[1;32m~\\anaconda3\\lib\\site-packages\\openai\\api_resources\\completion.py:25\u001b[0m, in \u001b[0;36mCompletion.create\u001b[1;34m(cls, *args, **kwargs)\u001b[0m\n\u001b[0;32m     23\u001b[0m \u001b[38;5;28;01mwhile\u001b[39;00m \u001b[38;5;28;01mTrue\u001b[39;00m:\n\u001b[0;32m     24\u001b[0m     \u001b[38;5;28;01mtry\u001b[39;00m:\n\u001b[1;32m---> 25\u001b[0m         \u001b[38;5;28;01mreturn\u001b[39;00m \u001b[38;5;28msuper\u001b[39m()\u001b[38;5;241m.\u001b[39mcreate(\u001b[38;5;241m*\u001b[39margs, \u001b[38;5;241m*\u001b[39m\u001b[38;5;241m*\u001b[39mkwargs)\n\u001b[0;32m     26\u001b[0m     \u001b[38;5;28;01mexcept\u001b[39;00m TryAgain \u001b[38;5;28;01mas\u001b[39;00m e:\n\u001b[0;32m     27\u001b[0m         \u001b[38;5;28;01mif\u001b[39;00m timeout \u001b[38;5;129;01mis\u001b[39;00m \u001b[38;5;129;01mnot\u001b[39;00m \u001b[38;5;28;01mNone\u001b[39;00m \u001b[38;5;129;01mand\u001b[39;00m time\u001b[38;5;241m.\u001b[39mtime() \u001b[38;5;241m>\u001b[39m start \u001b[38;5;241m+\u001b[39m timeout:\n",
      "File \u001b[1;32m~\\anaconda3\\lib\\site-packages\\openai\\api_resources\\abstract\\engine_api_resource.py:115\u001b[0m, in \u001b[0;36mEngineAPIResource.create\u001b[1;34m(cls, api_key, api_base, api_type, request_id, api_version, organization, **params)\u001b[0m\n\u001b[0;32m    107\u001b[0m requestor \u001b[38;5;241m=\u001b[39m api_requestor\u001b[38;5;241m.\u001b[39mAPIRequestor(\n\u001b[0;32m    108\u001b[0m     api_key,\n\u001b[0;32m    109\u001b[0m     api_base\u001b[38;5;241m=\u001b[39mapi_base,\n\u001b[1;32m   (...)\u001b[0m\n\u001b[0;32m    112\u001b[0m     organization\u001b[38;5;241m=\u001b[39morganization,\n\u001b[0;32m    113\u001b[0m )\n\u001b[0;32m    114\u001b[0m url \u001b[38;5;241m=\u001b[39m \u001b[38;5;28mcls\u001b[39m\u001b[38;5;241m.\u001b[39mclass_url(engine, api_type, api_version)\n\u001b[1;32m--> 115\u001b[0m response, _, api_key \u001b[38;5;241m=\u001b[39m \u001b[43mrequestor\u001b[49m\u001b[38;5;241;43m.\u001b[39;49m\u001b[43mrequest\u001b[49m\u001b[43m(\u001b[49m\n\u001b[0;32m    116\u001b[0m \u001b[43m    \u001b[49m\u001b[38;5;124;43m\"\u001b[39;49m\u001b[38;5;124;43mpost\u001b[39;49m\u001b[38;5;124;43m\"\u001b[39;49m\u001b[43m,\u001b[49m\n\u001b[0;32m    117\u001b[0m \u001b[43m    \u001b[49m\u001b[43murl\u001b[49m\u001b[43m,\u001b[49m\n\u001b[0;32m    118\u001b[0m \u001b[43m    \u001b[49m\u001b[43mparams\u001b[49m\u001b[38;5;241;43m=\u001b[39;49m\u001b[43mparams\u001b[49m\u001b[43m,\u001b[49m\n\u001b[0;32m    119\u001b[0m \u001b[43m    \u001b[49m\u001b[43mheaders\u001b[49m\u001b[38;5;241;43m=\u001b[39;49m\u001b[43mheaders\u001b[49m\u001b[43m,\u001b[49m\n\u001b[0;32m    120\u001b[0m \u001b[43m    \u001b[49m\u001b[43mstream\u001b[49m\u001b[38;5;241;43m=\u001b[39;49m\u001b[43mstream\u001b[49m\u001b[43m,\u001b[49m\n\u001b[0;32m    121\u001b[0m \u001b[43m    \u001b[49m\u001b[43mrequest_id\u001b[49m\u001b[38;5;241;43m=\u001b[39;49m\u001b[43mrequest_id\u001b[49m\u001b[43m,\u001b[49m\n\u001b[0;32m    122\u001b[0m \u001b[43m    \u001b[49m\u001b[43mrequest_timeout\u001b[49m\u001b[38;5;241;43m=\u001b[39;49m\u001b[43mrequest_timeout\u001b[49m\u001b[43m,\u001b[49m\n\u001b[0;32m    123\u001b[0m \u001b[43m\u001b[49m\u001b[43m)\u001b[49m\n\u001b[0;32m    125\u001b[0m \u001b[38;5;28;01mif\u001b[39;00m stream:\n\u001b[0;32m    126\u001b[0m     \u001b[38;5;66;03m# must be an iterator\u001b[39;00m\n\u001b[0;32m    127\u001b[0m     \u001b[38;5;28;01massert\u001b[39;00m \u001b[38;5;129;01mnot\u001b[39;00m \u001b[38;5;28misinstance\u001b[39m(response, OpenAIResponse)\n",
      "File \u001b[1;32m~\\anaconda3\\lib\\site-packages\\openai\\api_requestor.py:181\u001b[0m, in \u001b[0;36mAPIRequestor.request\u001b[1;34m(self, method, url, params, headers, files, stream, request_id, request_timeout)\u001b[0m\n\u001b[0;32m    160\u001b[0m \u001b[38;5;28;01mdef\u001b[39;00m \u001b[38;5;21mrequest\u001b[39m(\n\u001b[0;32m    161\u001b[0m     \u001b[38;5;28mself\u001b[39m,\n\u001b[0;32m    162\u001b[0m     method,\n\u001b[1;32m   (...)\u001b[0m\n\u001b[0;32m    169\u001b[0m     request_timeout: Optional[Union[\u001b[38;5;28mfloat\u001b[39m, Tuple[\u001b[38;5;28mfloat\u001b[39m, \u001b[38;5;28mfloat\u001b[39m]]] \u001b[38;5;241m=\u001b[39m \u001b[38;5;28;01mNone\u001b[39;00m,\n\u001b[0;32m    170\u001b[0m ) \u001b[38;5;241m-\u001b[39m\u001b[38;5;241m>\u001b[39m Tuple[Union[OpenAIResponse, Iterator[OpenAIResponse]], \u001b[38;5;28mbool\u001b[39m, \u001b[38;5;28mstr\u001b[39m]:\n\u001b[0;32m    171\u001b[0m     result \u001b[38;5;241m=\u001b[39m \u001b[38;5;28mself\u001b[39m\u001b[38;5;241m.\u001b[39mrequest_raw(\n\u001b[0;32m    172\u001b[0m         method\u001b[38;5;241m.\u001b[39mlower(),\n\u001b[0;32m    173\u001b[0m         url,\n\u001b[1;32m   (...)\u001b[0m\n\u001b[0;32m    179\u001b[0m         request_timeout\u001b[38;5;241m=\u001b[39mrequest_timeout,\n\u001b[0;32m    180\u001b[0m     )\n\u001b[1;32m--> 181\u001b[0m     resp, got_stream \u001b[38;5;241m=\u001b[39m \u001b[38;5;28;43mself\u001b[39;49m\u001b[38;5;241;43m.\u001b[39;49m\u001b[43m_interpret_response\u001b[49m\u001b[43m(\u001b[49m\u001b[43mresult\u001b[49m\u001b[43m,\u001b[49m\u001b[43m \u001b[49m\u001b[43mstream\u001b[49m\u001b[43m)\u001b[49m\n\u001b[0;32m    182\u001b[0m     \u001b[38;5;28;01mreturn\u001b[39;00m resp, got_stream, \u001b[38;5;28mself\u001b[39m\u001b[38;5;241m.\u001b[39mapi_key\n",
      "File \u001b[1;32m~\\anaconda3\\lib\\site-packages\\openai\\api_requestor.py:396\u001b[0m, in \u001b[0;36mAPIRequestor._interpret_response\u001b[1;34m(self, result, stream)\u001b[0m\n\u001b[0;32m    388\u001b[0m     \u001b[38;5;28;01mreturn\u001b[39;00m (\n\u001b[0;32m    389\u001b[0m         \u001b[38;5;28mself\u001b[39m\u001b[38;5;241m.\u001b[39m_interpret_response_line(\n\u001b[0;32m    390\u001b[0m             line, result\u001b[38;5;241m.\u001b[39mstatus_code, result\u001b[38;5;241m.\u001b[39mheaders, stream\u001b[38;5;241m=\u001b[39m\u001b[38;5;28;01mTrue\u001b[39;00m\n\u001b[0;32m    391\u001b[0m         )\n\u001b[0;32m    392\u001b[0m         \u001b[38;5;28;01mfor\u001b[39;00m line \u001b[38;5;129;01min\u001b[39;00m parse_stream(result\u001b[38;5;241m.\u001b[39miter_lines())\n\u001b[0;32m    393\u001b[0m     ), \u001b[38;5;28;01mTrue\u001b[39;00m\n\u001b[0;32m    394\u001b[0m \u001b[38;5;28;01melse\u001b[39;00m:\n\u001b[0;32m    395\u001b[0m     \u001b[38;5;28;01mreturn\u001b[39;00m (\n\u001b[1;32m--> 396\u001b[0m         \u001b[38;5;28;43mself\u001b[39;49m\u001b[38;5;241;43m.\u001b[39;49m\u001b[43m_interpret_response_line\u001b[49m\u001b[43m(\u001b[49m\n\u001b[0;32m    397\u001b[0m \u001b[43m            \u001b[49m\u001b[43mresult\u001b[49m\u001b[38;5;241;43m.\u001b[39;49m\u001b[43mcontent\u001b[49m\u001b[43m,\u001b[49m\u001b[43m \u001b[49m\u001b[43mresult\u001b[49m\u001b[38;5;241;43m.\u001b[39;49m\u001b[43mstatus_code\u001b[49m\u001b[43m,\u001b[49m\u001b[43m \u001b[49m\u001b[43mresult\u001b[49m\u001b[38;5;241;43m.\u001b[39;49m\u001b[43mheaders\u001b[49m\u001b[43m,\u001b[49m\u001b[43m \u001b[49m\u001b[43mstream\u001b[49m\u001b[38;5;241;43m=\u001b[39;49m\u001b[38;5;28;43;01mFalse\u001b[39;49;00m\n\u001b[0;32m    398\u001b[0m \u001b[43m        \u001b[49m\u001b[43m)\u001b[49m,\n\u001b[0;32m    399\u001b[0m         \u001b[38;5;28;01mFalse\u001b[39;00m,\n\u001b[0;32m    400\u001b[0m     )\n",
      "File \u001b[1;32m~\\anaconda3\\lib\\site-packages\\openai\\api_requestor.py:429\u001b[0m, in \u001b[0;36mAPIRequestor._interpret_response_line\u001b[1;34m(self, rbody, rcode, rheaders, stream)\u001b[0m\n\u001b[0;32m    427\u001b[0m stream_error \u001b[38;5;241m=\u001b[39m stream \u001b[38;5;129;01mand\u001b[39;00m \u001b[38;5;124m\"\u001b[39m\u001b[38;5;124merror\u001b[39m\u001b[38;5;124m\"\u001b[39m \u001b[38;5;129;01min\u001b[39;00m resp\u001b[38;5;241m.\u001b[39mdata\n\u001b[0;32m    428\u001b[0m \u001b[38;5;28;01mif\u001b[39;00m stream_error \u001b[38;5;129;01mor\u001b[39;00m \u001b[38;5;129;01mnot\u001b[39;00m \u001b[38;5;241m200\u001b[39m \u001b[38;5;241m<\u001b[39m\u001b[38;5;241m=\u001b[39m rcode \u001b[38;5;241m<\u001b[39m \u001b[38;5;241m300\u001b[39m:\n\u001b[1;32m--> 429\u001b[0m     \u001b[38;5;28;01mraise\u001b[39;00m \u001b[38;5;28mself\u001b[39m\u001b[38;5;241m.\u001b[39mhandle_error_response(\n\u001b[0;32m    430\u001b[0m         rbody, rcode, resp\u001b[38;5;241m.\u001b[39mdata, rheaders, stream_error\u001b[38;5;241m=\u001b[39mstream_error\n\u001b[0;32m    431\u001b[0m     )\n\u001b[0;32m    432\u001b[0m \u001b[38;5;28;01mreturn\u001b[39;00m resp\n",
      "\u001b[1;31mRateLimitError\u001b[0m: That model is currently overloaded with other requests. You can retry your request, or contact us through our help center at help.openai.com if the error persists. (Please include the request ID e49e088eb19271a97161cb0bfe21dad6 in your message.)"
     ]
    }
   ],
   "source": [
    "openai.api_key = api_access #API access\n",
    "sentiments = []\n",
    "for tweet in tqdm(df1['Text']):\n",
    "    sentiment = sentiment_gpt(tweet)\n",
    "    sentiments.append(sentiment)\n",
    "    time.sleep(1.5) #needed due to the limit on the API requests per minute"
   ]
  },
  {
   "cell_type": "code",
   "execution_count": 138,
   "id": "3b045b2c-3739-4267-950e-d3a8ead9f3e0",
   "metadata": {},
   "outputs": [
    {
     "data": {
      "text/plain": [
       "910"
      ]
     },
     "execution_count": 138,
     "metadata": {},
     "output_type": "execute_result"
    }
   ],
   "source": [
    "len(sentiments)"
   ]
  },
  {
   "cell_type": "markdown",
   "id": "d9d267f6-8e62-412f-af54-0be37ddb5bff",
   "metadata": {},
   "source": [
    "Unfortunately, only the first 910 tweets could be evaluated out of the 1000 from the sample. There was a problem with the API. We will simply evaluate the next 90 tweets left in df1. "
   ]
  },
  {
   "cell_type": "code",
   "execution_count": 139,
   "id": "ee984229-0b26-43da-85e6-e5e145f4191b",
   "metadata": {},
   "outputs": [
    {
     "name": "stderr",
     "output_type": "stream",
     "text": [
      " 54%|█████▍    | 49/90 [00:59<00:49,  1.21s/it]\n"
     ]
    },
    {
     "ename": "RateLimitError",
     "evalue": "That model is currently overloaded with other requests. You can retry your request, or contact us through our help center at help.openai.com if the error persists. (Please include the request ID 68e161479407de39424190fa84c83efa in your message.)",
     "output_type": "error",
     "traceback": [
      "\u001b[1;31m---------------------------------------------------------------------------\u001b[0m",
      "\u001b[1;31mRateLimitError\u001b[0m                            Traceback (most recent call last)",
      "Input \u001b[1;32mIn [139]\u001b[0m, in \u001b[0;36m<cell line: 2>\u001b[1;34m()\u001b[0m\n\u001b[0;32m      1\u001b[0m openai\u001b[38;5;241m.\u001b[39mapi_key \u001b[38;5;241m=\u001b[39m \u001b[38;5;124m'\u001b[39m\u001b[38;5;124msk-5s6925YNf204lrmrnwSrT3BlbkFJh8FTOLZOqyBhSziEXeX9\u001b[39m\u001b[38;5;124m'\u001b[39m \u001b[38;5;66;03m#API access\u001b[39;00m\n\u001b[0;32m      2\u001b[0m \u001b[38;5;28;01mfor\u001b[39;00m tweet \u001b[38;5;129;01min\u001b[39;00m tqdm(df1[\u001b[38;5;124m'\u001b[39m\u001b[38;5;124mText\u001b[39m\u001b[38;5;124m'\u001b[39m][\u001b[38;5;241m910\u001b[39m:]):\n\u001b[1;32m----> 3\u001b[0m     sentiment \u001b[38;5;241m=\u001b[39m \u001b[43msentiment_gpt\u001b[49m\u001b[43m(\u001b[49m\u001b[43mtweet\u001b[49m\u001b[43m)\u001b[49m\n\u001b[0;32m      4\u001b[0m     sentiments\u001b[38;5;241m.\u001b[39mappend(sentiment)\n",
      "Input \u001b[1;32mIn [132]\u001b[0m, in \u001b[0;36msentiment_gpt\u001b[1;34m(tweet)\u001b[0m\n\u001b[0;32m      1\u001b[0m \u001b[38;5;28;01mdef\u001b[39;00m \u001b[38;5;21msentiment_gpt\u001b[39m(tweet):\n\u001b[0;32m      3\u001b[0m     prompt\u001b[38;5;241m=\u001b[39m\u001b[38;5;124mf\u001b[39m\u001b[38;5;124m\"\u001b[39m\u001b[38;5;124mGiven that there is an ongoing conflict between Russia and Ukraine and that Putin is the president of Russia while Zelensky is the president of Ukraine, classify the sentiment of a given text as either supporting Ukraine, opposing Ukraine, or neutral. The text may discuss topics related to Russia or Ukraine as a whole, such as their presidents or cities in the country. If the text expresses support for Ukraine or opposition/dismay towards Russia, classify it as \u001b[39m\u001b[38;5;124m'\u001b[39m\u001b[38;5;124m1\u001b[39m\u001b[38;5;124m'\u001b[39m\u001b[38;5;124m. If the text expresses opposition to Ukraine or support for Russia, classify it as \u001b[39m\u001b[38;5;124m'\u001b[39m\u001b[38;5;124m-1\u001b[39m\u001b[38;5;124m'\u001b[39m\u001b[38;5;124m. If the text does not express a clear sentiment for or against Ukraine or Russia, classify it as \u001b[39m\u001b[38;5;124m'\u001b[39m\u001b[38;5;124m0\u001b[39m\u001b[38;5;124m'\u001b[39m\u001b[38;5;124m. \u001b[39m\u001b[38;5;130;01m\\n\u001b[39;00m\u001b[38;5;130;01m\\n\u001b[39;00m\u001b[38;5;124mText: \u001b[39m\u001b[38;5;132;01m{\u001b[39;00mtweet\u001b[38;5;132;01m}\u001b[39;00m\u001b[38;5;130;01m\\n\u001b[39;00m\u001b[38;5;130;01m\\n\u001b[39;00m\u001b[38;5;124mClassify: ###\u001b[39m\u001b[38;5;124m\"\u001b[39m\n\u001b[1;32m----> 4\u001b[0m     response \u001b[38;5;241m=\u001b[39m \u001b[43mopenai\u001b[49m\u001b[38;5;241;43m.\u001b[39;49m\u001b[43mCompletion\u001b[49m\u001b[38;5;241;43m.\u001b[39;49m\u001b[43mcreate\u001b[49m\u001b[43m(\u001b[49m\n\u001b[0;32m      5\u001b[0m \u001b[43m        \u001b[49m\u001b[43mengine\u001b[49m\u001b[38;5;241;43m=\u001b[39;49m\u001b[38;5;124;43m\"\u001b[39;49m\u001b[38;5;124;43mtext-davinci-003\u001b[39;49m\u001b[38;5;124;43m\"\u001b[39;49m\u001b[43m,\u001b[49m\n\u001b[0;32m      6\u001b[0m \u001b[43m        \u001b[49m\u001b[43mprompt\u001b[49m\u001b[38;5;241;43m=\u001b[39;49m\u001b[43mprompt\u001b[49m\u001b[43m,\u001b[49m\n\u001b[0;32m      7\u001b[0m \u001b[43m        \u001b[49m\u001b[43mmax_tokens\u001b[49m\u001b[38;5;241;43m=\u001b[39;49m\u001b[38;5;241;43m1024\u001b[39;49m\u001b[43m,\u001b[49m\n\u001b[0;32m      8\u001b[0m \u001b[43m        \u001b[49m\u001b[43mn\u001b[49m\u001b[38;5;241;43m=\u001b[39;49m\u001b[38;5;241;43m1\u001b[39;49m\u001b[43m,\u001b[49m\n\u001b[0;32m      9\u001b[0m \u001b[43m        \u001b[49m\u001b[43mstop\u001b[49m\u001b[38;5;241;43m=\u001b[39;49m\u001b[38;5;124;43m'\u001b[39;49m\u001b[38;5;124;43m###\u001b[39;49m\u001b[38;5;124;43m'\u001b[39;49m\u001b[43m,\u001b[49m\n\u001b[0;32m     10\u001b[0m \u001b[43m        \u001b[49m\u001b[43mtemperature\u001b[49m\u001b[38;5;241;43m=\u001b[39;49m\u001b[38;5;241;43m0.2\u001b[39;49m\u001b[43m,\u001b[49m\n\u001b[0;32m     11\u001b[0m \u001b[43m    \u001b[49m\u001b[43m)\u001b[49m\n\u001b[0;32m     12\u001b[0m     output \u001b[38;5;241m=\u001b[39m response[\u001b[38;5;124m\"\u001b[39m\u001b[38;5;124mchoices\u001b[39m\u001b[38;5;124m\"\u001b[39m][\u001b[38;5;241m0\u001b[39m][\u001b[38;5;124m\"\u001b[39m\u001b[38;5;124mtext\u001b[39m\u001b[38;5;124m\"\u001b[39m]\n\u001b[0;32m     13\u001b[0m     \u001b[38;5;28;01mreturn\u001b[39;00m output\n",
      "File \u001b[1;32m~\\anaconda3\\lib\\site-packages\\openai\\api_resources\\completion.py:25\u001b[0m, in \u001b[0;36mCompletion.create\u001b[1;34m(cls, *args, **kwargs)\u001b[0m\n\u001b[0;32m     23\u001b[0m \u001b[38;5;28;01mwhile\u001b[39;00m \u001b[38;5;28;01mTrue\u001b[39;00m:\n\u001b[0;32m     24\u001b[0m     \u001b[38;5;28;01mtry\u001b[39;00m:\n\u001b[1;32m---> 25\u001b[0m         \u001b[38;5;28;01mreturn\u001b[39;00m \u001b[38;5;28msuper\u001b[39m()\u001b[38;5;241m.\u001b[39mcreate(\u001b[38;5;241m*\u001b[39margs, \u001b[38;5;241m*\u001b[39m\u001b[38;5;241m*\u001b[39mkwargs)\n\u001b[0;32m     26\u001b[0m     \u001b[38;5;28;01mexcept\u001b[39;00m TryAgain \u001b[38;5;28;01mas\u001b[39;00m e:\n\u001b[0;32m     27\u001b[0m         \u001b[38;5;28;01mif\u001b[39;00m timeout \u001b[38;5;129;01mis\u001b[39;00m \u001b[38;5;129;01mnot\u001b[39;00m \u001b[38;5;28;01mNone\u001b[39;00m \u001b[38;5;129;01mand\u001b[39;00m time\u001b[38;5;241m.\u001b[39mtime() \u001b[38;5;241m>\u001b[39m start \u001b[38;5;241m+\u001b[39m timeout:\n",
      "File \u001b[1;32m~\\anaconda3\\lib\\site-packages\\openai\\api_resources\\abstract\\engine_api_resource.py:115\u001b[0m, in \u001b[0;36mEngineAPIResource.create\u001b[1;34m(cls, api_key, api_base, api_type, request_id, api_version, organization, **params)\u001b[0m\n\u001b[0;32m    107\u001b[0m requestor \u001b[38;5;241m=\u001b[39m api_requestor\u001b[38;5;241m.\u001b[39mAPIRequestor(\n\u001b[0;32m    108\u001b[0m     api_key,\n\u001b[0;32m    109\u001b[0m     api_base\u001b[38;5;241m=\u001b[39mapi_base,\n\u001b[1;32m   (...)\u001b[0m\n\u001b[0;32m    112\u001b[0m     organization\u001b[38;5;241m=\u001b[39morganization,\n\u001b[0;32m    113\u001b[0m )\n\u001b[0;32m    114\u001b[0m url \u001b[38;5;241m=\u001b[39m \u001b[38;5;28mcls\u001b[39m\u001b[38;5;241m.\u001b[39mclass_url(engine, api_type, api_version)\n\u001b[1;32m--> 115\u001b[0m response, _, api_key \u001b[38;5;241m=\u001b[39m \u001b[43mrequestor\u001b[49m\u001b[38;5;241;43m.\u001b[39;49m\u001b[43mrequest\u001b[49m\u001b[43m(\u001b[49m\n\u001b[0;32m    116\u001b[0m \u001b[43m    \u001b[49m\u001b[38;5;124;43m\"\u001b[39;49m\u001b[38;5;124;43mpost\u001b[39;49m\u001b[38;5;124;43m\"\u001b[39;49m\u001b[43m,\u001b[49m\n\u001b[0;32m    117\u001b[0m \u001b[43m    \u001b[49m\u001b[43murl\u001b[49m\u001b[43m,\u001b[49m\n\u001b[0;32m    118\u001b[0m \u001b[43m    \u001b[49m\u001b[43mparams\u001b[49m\u001b[38;5;241;43m=\u001b[39;49m\u001b[43mparams\u001b[49m\u001b[43m,\u001b[49m\n\u001b[0;32m    119\u001b[0m \u001b[43m    \u001b[49m\u001b[43mheaders\u001b[49m\u001b[38;5;241;43m=\u001b[39;49m\u001b[43mheaders\u001b[49m\u001b[43m,\u001b[49m\n\u001b[0;32m    120\u001b[0m \u001b[43m    \u001b[49m\u001b[43mstream\u001b[49m\u001b[38;5;241;43m=\u001b[39;49m\u001b[43mstream\u001b[49m\u001b[43m,\u001b[49m\n\u001b[0;32m    121\u001b[0m \u001b[43m    \u001b[49m\u001b[43mrequest_id\u001b[49m\u001b[38;5;241;43m=\u001b[39;49m\u001b[43mrequest_id\u001b[49m\u001b[43m,\u001b[49m\n\u001b[0;32m    122\u001b[0m \u001b[43m    \u001b[49m\u001b[43mrequest_timeout\u001b[49m\u001b[38;5;241;43m=\u001b[39;49m\u001b[43mrequest_timeout\u001b[49m\u001b[43m,\u001b[49m\n\u001b[0;32m    123\u001b[0m \u001b[43m\u001b[49m\u001b[43m)\u001b[49m\n\u001b[0;32m    125\u001b[0m \u001b[38;5;28;01mif\u001b[39;00m stream:\n\u001b[0;32m    126\u001b[0m     \u001b[38;5;66;03m# must be an iterator\u001b[39;00m\n\u001b[0;32m    127\u001b[0m     \u001b[38;5;28;01massert\u001b[39;00m \u001b[38;5;129;01mnot\u001b[39;00m \u001b[38;5;28misinstance\u001b[39m(response, OpenAIResponse)\n",
      "File \u001b[1;32m~\\anaconda3\\lib\\site-packages\\openai\\api_requestor.py:181\u001b[0m, in \u001b[0;36mAPIRequestor.request\u001b[1;34m(self, method, url, params, headers, files, stream, request_id, request_timeout)\u001b[0m\n\u001b[0;32m    160\u001b[0m \u001b[38;5;28;01mdef\u001b[39;00m \u001b[38;5;21mrequest\u001b[39m(\n\u001b[0;32m    161\u001b[0m     \u001b[38;5;28mself\u001b[39m,\n\u001b[0;32m    162\u001b[0m     method,\n\u001b[1;32m   (...)\u001b[0m\n\u001b[0;32m    169\u001b[0m     request_timeout: Optional[Union[\u001b[38;5;28mfloat\u001b[39m, Tuple[\u001b[38;5;28mfloat\u001b[39m, \u001b[38;5;28mfloat\u001b[39m]]] \u001b[38;5;241m=\u001b[39m \u001b[38;5;28;01mNone\u001b[39;00m,\n\u001b[0;32m    170\u001b[0m ) \u001b[38;5;241m-\u001b[39m\u001b[38;5;241m>\u001b[39m Tuple[Union[OpenAIResponse, Iterator[OpenAIResponse]], \u001b[38;5;28mbool\u001b[39m, \u001b[38;5;28mstr\u001b[39m]:\n\u001b[0;32m    171\u001b[0m     result \u001b[38;5;241m=\u001b[39m \u001b[38;5;28mself\u001b[39m\u001b[38;5;241m.\u001b[39mrequest_raw(\n\u001b[0;32m    172\u001b[0m         method\u001b[38;5;241m.\u001b[39mlower(),\n\u001b[0;32m    173\u001b[0m         url,\n\u001b[1;32m   (...)\u001b[0m\n\u001b[0;32m    179\u001b[0m         request_timeout\u001b[38;5;241m=\u001b[39mrequest_timeout,\n\u001b[0;32m    180\u001b[0m     )\n\u001b[1;32m--> 181\u001b[0m     resp, got_stream \u001b[38;5;241m=\u001b[39m \u001b[38;5;28;43mself\u001b[39;49m\u001b[38;5;241;43m.\u001b[39;49m\u001b[43m_interpret_response\u001b[49m\u001b[43m(\u001b[49m\u001b[43mresult\u001b[49m\u001b[43m,\u001b[49m\u001b[43m \u001b[49m\u001b[43mstream\u001b[49m\u001b[43m)\u001b[49m\n\u001b[0;32m    182\u001b[0m     \u001b[38;5;28;01mreturn\u001b[39;00m resp, got_stream, \u001b[38;5;28mself\u001b[39m\u001b[38;5;241m.\u001b[39mapi_key\n",
      "File \u001b[1;32m~\\anaconda3\\lib\\site-packages\\openai\\api_requestor.py:396\u001b[0m, in \u001b[0;36mAPIRequestor._interpret_response\u001b[1;34m(self, result, stream)\u001b[0m\n\u001b[0;32m    388\u001b[0m     \u001b[38;5;28;01mreturn\u001b[39;00m (\n\u001b[0;32m    389\u001b[0m         \u001b[38;5;28mself\u001b[39m\u001b[38;5;241m.\u001b[39m_interpret_response_line(\n\u001b[0;32m    390\u001b[0m             line, result\u001b[38;5;241m.\u001b[39mstatus_code, result\u001b[38;5;241m.\u001b[39mheaders, stream\u001b[38;5;241m=\u001b[39m\u001b[38;5;28;01mTrue\u001b[39;00m\n\u001b[0;32m    391\u001b[0m         )\n\u001b[0;32m    392\u001b[0m         \u001b[38;5;28;01mfor\u001b[39;00m line \u001b[38;5;129;01min\u001b[39;00m parse_stream(result\u001b[38;5;241m.\u001b[39miter_lines())\n\u001b[0;32m    393\u001b[0m     ), \u001b[38;5;28;01mTrue\u001b[39;00m\n\u001b[0;32m    394\u001b[0m \u001b[38;5;28;01melse\u001b[39;00m:\n\u001b[0;32m    395\u001b[0m     \u001b[38;5;28;01mreturn\u001b[39;00m (\n\u001b[1;32m--> 396\u001b[0m         \u001b[38;5;28;43mself\u001b[39;49m\u001b[38;5;241;43m.\u001b[39;49m\u001b[43m_interpret_response_line\u001b[49m\u001b[43m(\u001b[49m\n\u001b[0;32m    397\u001b[0m \u001b[43m            \u001b[49m\u001b[43mresult\u001b[49m\u001b[38;5;241;43m.\u001b[39;49m\u001b[43mcontent\u001b[49m\u001b[43m,\u001b[49m\u001b[43m \u001b[49m\u001b[43mresult\u001b[49m\u001b[38;5;241;43m.\u001b[39;49m\u001b[43mstatus_code\u001b[49m\u001b[43m,\u001b[49m\u001b[43m \u001b[49m\u001b[43mresult\u001b[49m\u001b[38;5;241;43m.\u001b[39;49m\u001b[43mheaders\u001b[49m\u001b[43m,\u001b[49m\u001b[43m \u001b[49m\u001b[43mstream\u001b[49m\u001b[38;5;241;43m=\u001b[39;49m\u001b[38;5;28;43;01mFalse\u001b[39;49;00m\n\u001b[0;32m    398\u001b[0m \u001b[43m        \u001b[49m\u001b[43m)\u001b[49m,\n\u001b[0;32m    399\u001b[0m         \u001b[38;5;28;01mFalse\u001b[39;00m,\n\u001b[0;32m    400\u001b[0m     )\n",
      "File \u001b[1;32m~\\anaconda3\\lib\\site-packages\\openai\\api_requestor.py:429\u001b[0m, in \u001b[0;36mAPIRequestor._interpret_response_line\u001b[1;34m(self, rbody, rcode, rheaders, stream)\u001b[0m\n\u001b[0;32m    427\u001b[0m stream_error \u001b[38;5;241m=\u001b[39m stream \u001b[38;5;129;01mand\u001b[39;00m \u001b[38;5;124m\"\u001b[39m\u001b[38;5;124merror\u001b[39m\u001b[38;5;124m\"\u001b[39m \u001b[38;5;129;01min\u001b[39;00m resp\u001b[38;5;241m.\u001b[39mdata\n\u001b[0;32m    428\u001b[0m \u001b[38;5;28;01mif\u001b[39;00m stream_error \u001b[38;5;129;01mor\u001b[39;00m \u001b[38;5;129;01mnot\u001b[39;00m \u001b[38;5;241m200\u001b[39m \u001b[38;5;241m<\u001b[39m\u001b[38;5;241m=\u001b[39m rcode \u001b[38;5;241m<\u001b[39m \u001b[38;5;241m300\u001b[39m:\n\u001b[1;32m--> 429\u001b[0m     \u001b[38;5;28;01mraise\u001b[39;00m \u001b[38;5;28mself\u001b[39m\u001b[38;5;241m.\u001b[39mhandle_error_response(\n\u001b[0;32m    430\u001b[0m         rbody, rcode, resp\u001b[38;5;241m.\u001b[39mdata, rheaders, stream_error\u001b[38;5;241m=\u001b[39mstream_error\n\u001b[0;32m    431\u001b[0m     )\n\u001b[0;32m    432\u001b[0m \u001b[38;5;28;01mreturn\u001b[39;00m resp\n",
      "\u001b[1;31mRateLimitError\u001b[0m: That model is currently overloaded with other requests. You can retry your request, or contact us through our help center at help.openai.com if the error persists. (Please include the request ID 68e161479407de39424190fa84c83efa in your message.)"
     ]
    }
   ],
   "source": [
    "openai.api_key = api_access #API access\n",
    "for tweet in tqdm(df1['Text'][910:]):\n",
    "    sentiment = sentiment_gpt(tweet)\n",
    "    sentiments.append(sentiment)"
   ]
  },
  {
   "cell_type": "code",
   "execution_count": 141,
   "id": "067ecc25-9f12-49bb-9069-070754aa646b",
   "metadata": {},
   "outputs": [
    {
     "data": {
      "text/plain": [
       "959"
      ]
     },
     "execution_count": 141,
     "metadata": {},
     "output_type": "execute_result"
    }
   ],
   "source": [
    "len(sentiments)"
   ]
  },
  {
   "cell_type": "markdown",
   "id": "5e8f227a-2cf1-4fa9-8169-cba271f7724c",
   "metadata": {},
   "source": [
    "Again an API issue. Just need to do the last 41 tweets."
   ]
  },
  {
   "cell_type": "code",
   "execution_count": 142,
   "id": "d1c145ae-d3cf-4669-bb2c-f646ba1ea024",
   "metadata": {},
   "outputs": [
    {
     "name": "stderr",
     "output_type": "stream",
     "text": [
      "100%|██████████| 41/41 [00:22<00:00,  1.83it/s]\n"
     ]
    }
   ],
   "source": [
    "for tweet in tqdm(df1['Text'][959:]):\n",
    "    sentiment = sentiment_gpt(tweet)\n",
    "    sentiments.append(sentiment)"
   ]
  },
  {
   "cell_type": "markdown",
   "id": "db92d26a-3c89-44fc-b9d7-ea1b2dab9125",
   "metadata": {},
   "source": [
    "Now we have a sentiment score for all the sample of tweets. We will make the assumption that this sample effectivley approximates the poppulation of 40,000+ tweets. "
   ]
  },
  {
   "cell_type": "code",
   "execution_count": 145,
   "id": "0fdcfc9c-b07b-4f13-97e7-d8fb04c714d0",
   "metadata": {},
   "outputs": [],
   "source": [
    "#clean some of the data\n",
    "index_to_replace = sentiments.index('\\n1, 2, 3')\n",
    "sentiments[index_to_replace] = '1'\n"
   ]
  },
  {
   "cell_type": "code",
   "execution_count": 147,
   "id": "6a8cd76c-8329-49a8-8b29-f5e56088f0bd",
   "metadata": {},
   "outputs": [],
   "source": [
    "#clean some of the data\n",
    "index_to_replace = sentiments.index(' Neutral')\n",
    "sentiments[index_to_replace]='0'\n",
    "index_to_replace = sentiments.index(' Neutral (0)')\n",
    "sentiments[index_to_replace]='0'"
   ]
  },
  {
   "cell_type": "code",
   "execution_count": 149,
   "id": "114186a1-3f0c-45ca-8e17-1f2d23578c8e",
   "metadata": {},
   "outputs": [
    {
     "data": {
      "text/html": [
       "<div>\n",
       "<style scoped>\n",
       "    .dataframe tbody tr th:only-of-type {\n",
       "        vertical-align: middle;\n",
       "    }\n",
       "\n",
       "    .dataframe tbody tr th {\n",
       "        vertical-align: top;\n",
       "    }\n",
       "\n",
       "    .dataframe thead th {\n",
       "        text-align: right;\n",
       "    }\n",
       "</style>\n",
       "<table border=\"1\" class=\"dataframe\">\n",
       "  <thead>\n",
       "    <tr style=\"text-align: right;\">\n",
       "      <th></th>\n",
       "      <th>index</th>\n",
       "      <th>Text</th>\n",
       "      <th>Sentiment_llm</th>\n",
       "    </tr>\n",
       "  </thead>\n",
       "  <tbody>\n",
       "    <tr>\n",
       "      <th>0</th>\n",
       "      <td>37327</td>\n",
       "      <td>@Jeggit Do not harm captive Russian soldiers a...</td>\n",
       "      <td>0</td>\n",
       "    </tr>\n",
       "    <tr>\n",
       "      <th>1</th>\n",
       "      <td>19796</td>\n",
       "      <td>#okhtyrka #UkraineWar https://t.co/A7MjCEfIOt</td>\n",
       "      <td>0</td>\n",
       "    </tr>\n",
       "    <tr>\n",
       "      <th>2</th>\n",
       "      <td>35327</td>\n",
       "      <td>#Juifs souviens toi! #Ukrainiens #Ukraine #Ukr...</td>\n",
       "      <td>0</td>\n",
       "    </tr>\n",
       "    <tr>\n",
       "      <th>3</th>\n",
       "      <td>41231</td>\n",
       "      <td>Russia transfers thousands of Mariupol civilia...</td>\n",
       "      <td>-1</td>\n",
       "    </tr>\n",
       "    <tr>\n",
       "      <th>4</th>\n",
       "      <td>31107</td>\n",
       "      <td>One of Nemtsov's suspected murderers is now in...</td>\n",
       "      <td>1</td>\n",
       "    </tr>\n",
       "    <tr>\n",
       "      <th>...</th>\n",
       "      <td>...</td>\n",
       "      <td>...</td>\n",
       "      <td>...</td>\n",
       "    </tr>\n",
       "    <tr>\n",
       "      <th>995</th>\n",
       "      <td>11974</td>\n",
       "      <td>On the front page of the #Paris daily:\\n\\n#Ukr...</td>\n",
       "      <td>0</td>\n",
       "    </tr>\n",
       "    <tr>\n",
       "      <th>996</th>\n",
       "      <td>4641</td>\n",
       "      <td>Très bonne vidéo sur la situation en Ukraine d...</td>\n",
       "      <td>0</td>\n",
       "    </tr>\n",
       "    <tr>\n",
       "      <th>997</th>\n",
       "      <td>24717</td>\n",
       "      <td>Tatsächlich besorgniserregend &amp;amp; zugleich e...</td>\n",
       "      <td>0</td>\n",
       "    </tr>\n",
       "    <tr>\n",
       "      <th>998</th>\n",
       "      <td>33835</td>\n",
       "      <td>Bare witness. Be Aware. Care. Such sadness her...</td>\n",
       "      <td>1</td>\n",
       "    </tr>\n",
       "    <tr>\n",
       "      <th>999</th>\n",
       "      <td>26248</td>\n",
       "      <td>The media is bloviating about #JoeBiden’s “mis...</td>\n",
       "      <td>0</td>\n",
       "    </tr>\n",
       "  </tbody>\n",
       "</table>\n",
       "<p>1000 rows × 3 columns</p>\n",
       "</div>"
      ],
      "text/plain": [
       "     index                                               Text  Sentiment_llm\n",
       "0    37327  @Jeggit Do not harm captive Russian soldiers a...              0\n",
       "1    19796      #okhtyrka #UkraineWar https://t.co/A7MjCEfIOt              0\n",
       "2    35327  #Juifs souviens toi! #Ukrainiens #Ukraine #Ukr...              0\n",
       "3    41231  Russia transfers thousands of Mariupol civilia...             -1\n",
       "4    31107  One of Nemtsov's suspected murderers is now in...              1\n",
       "..     ...                                                ...            ...\n",
       "995  11974  On the front page of the #Paris daily:\\n\\n#Ukr...              0\n",
       "996   4641  Très bonne vidéo sur la situation en Ukraine d...              0\n",
       "997  24717  Tatsächlich besorgniserregend &amp; zugleich e...              0\n",
       "998  33835  Bare witness. Be Aware. Care. Such sadness her...              1\n",
       "999  26248  The media is bloviating about #JoeBiden’s “mis...              0\n",
       "\n",
       "[1000 rows x 3 columns]"
      ]
     },
     "execution_count": 149,
     "metadata": {},
     "output_type": "execute_result"
    }
   ],
   "source": [
    "sentiments = [int(s) for s in sentiments]\n",
    "df1.loc[:, 'Sentiment_llm'] = sentiments\n",
    "df1"
   ]
  },
  {
   "cell_type": "code",
   "execution_count": 177,
   "id": "2bdf70b4-32eb-475c-9a58-f245d7db8126",
   "metadata": {},
   "outputs": [],
   "source": [
    "#Save the df to a csv\n",
    "df1.to_csv('Data/sentiment_llm.csv', index=False)\n"
   ]
  },
  {
   "cell_type": "code",
   "execution_count": 192,
   "id": "b2c129ac-271b-49a2-8486-a9409d0ac9b7",
   "metadata": {},
   "outputs": [],
   "source": [
    "#Reassign df1 to the csv we saved\n",
    "df1=pd.read_csv('Data/sentiment_llm.csv')"
   ]
  },
  {
   "cell_type": "code",
   "execution_count": 179,
   "id": "a927cd73-9246-42f6-97c8-1dc39e5f2fb4",
   "metadata": {},
   "outputs": [
    {
     "name": "stdout",
     "output_type": "stream",
     "text": [
      " 0    468\n",
      " 1    426\n",
      "-1    106\n",
      "Name: Sentiment_llm, dtype: int64\n",
      " 0    0.468\n",
      " 1    0.426\n",
      "-1    0.106\n",
      "Name: Sentiment_llm, dtype: float64\n"
     ]
    },
    {
     "data": {
      "text/plain": [
       "<AxesSubplot:>"
      ]
     },
     "execution_count": 179,
     "metadata": {},
     "output_type": "execute_result"
    },
    {
     "data": {
      "image/png": "[encoded data removed]",
      "text/plain": [
       "<Figure size 432x288 with 1 Axes>"
      ]
     },
     "metadata": {
      "needs_background": "light"
     },
     "output_type": "display_data"
    }
   ],
   "source": [
    "counts = df1['Sentiment_llm'].value_counts()\n",
    "proportions = counts / len(df1)\n",
    "print(counts)\n",
    "print(proportions)\n",
    "counts.plot(kind='bar')"
   ]
  },
  {
   "cell_type": "markdown",
   "id": "6d7d92bc-b0aa-4f54-8702-18b1442ce7b2",
   "metadata": {},
   "source": [
    "As we can see above, most tweets seemed to be neutral. However, let's get an understanding for what neutral means to GPT-3 by seeing some examples of all classifications..."
   ]
  },
  {
   "cell_type": "markdown",
   "id": "75524a07-bfaa-4fa9-95c3-1519a382d5c9",
   "metadata": {},
   "source": [
    "Example tweets classified as -1"
   ]
  },
  {
   "cell_type": "code",
   "execution_count": 151,
   "id": "13be9b33-10a4-4463-8463-d33681a2e49b",
   "metadata": {},
   "outputs": [
    {
     "name": "stdout",
     "output_type": "stream",
     "text": [
      "Tweet 1:\n",
      "#putin should be more than paranoid now... https://t.co/1oBQ8dPi2d\n",
      "\n",
      "\n",
      "Tweet 2:\n",
      "L'associazione #macellai si dissocia: \"#Putin non ci rappresenta\".\n",
      "\n",
      "\n",
      "Tweet 3:\n",
      "This is one seriously demented piece of shit. https://t.co/7DnX4HloTI #MikhailMizintsev #WarCriminal #StandWithUkraine️ #UkraineWar\n",
      "\n",
      "\n",
      "Tweet 4:\n",
      "#PutinHitler #Putin #macellaio https://t.co/3vqe9GqFke\n",
      "\n",
      "\n",
      "Tweet 5:\n",
      "Dovrebbe spiegare perché lei ha finanziato lo #Spallanzani #Sputnik prima dei vaccini italiani ! Forse questo spiega la sua combine con #Putin #COVID19 https://t.co/VNhbBmGBFP\n",
      "\n",
      "\n"
     ]
    }
   ],
   "source": [
    "# Select 5 random rows with Sentiment_llm equal to -1\n",
    "indices = df1[df1['Sentiment_llm'] == -1].sample(n=5).index\n",
    "\n",
    "# Display the \"Text\" element for each selected row\n",
    "for i,index in enumerate(indices):\n",
    "    print(f\"Tweet {i+1}:\\n{df1.loc[index, 'Text']}\\n\\n\")\n"
   ]
  },
  {
   "cell_type": "markdown",
   "id": "cb984c45-3da0-47ac-a83a-223188aafc3a",
   "metadata": {},
   "source": [
    "Example tweets classified as 0"
   ]
  },
  {
   "cell_type": "code",
   "execution_count": 152,
   "id": "58f3024c-41a1-4db7-8692-585a5eebdab1",
   "metadata": {},
   "outputs": [
    {
     "name": "stdout",
     "output_type": "stream",
     "text": [
      "Tweet 1:\n",
      "As Sanctions Batter Economy, Russians Face the Anxieties of a Costly War https://t.co/wkn5QjB5xl #Russia #RussiaUkraine #RussiaWar #VladimirPutin #SanctionRussiaNow #RussianEconomy #Sanctions #economy #Ukraine #UkraineRussiaWar #UkraineUnderAttack\n",
      "\n",
      "\n",
      "Tweet 2:\n",
      "https://t.co/0wP07xc2n4\n",
      "\n",
      "Zelensky - the response was clear, #Ukraine won't be a #NATO member, \"but publicly, the doors will remain open\"\n",
      "\n",
      "https://t.co/o5a6nD9Syf\n",
      "\n",
      "Why keep vital info that could've prevented #UkraineWar secret?\n",
      "\n",
      "#Biden #UkraineRussiaWar #UkraineRussiaCrisis #Truth\n",
      "\n",
      "\n",
      "Tweet 3:\n",
      "🙌 &lt;&lt;Zelensky says Ukraine ready to discuss neutrality in peace talks with Russia https://t.co/GDOouvYZ1c&gt;&gt; - Tweet from: @FT #Russia #Ukraine #Zelensky\n",
      "\n",
      "\n",
      "Tweet 4:\n",
      "#Ukraine #Russia #bbcnews https://t.co/AsKRkAI3GM\n",
      "\n",
      "\n",
      "Tweet 5:\n",
      "#RussianUkrainianWar \n",
      "#Russian \n",
      "#Ukraine \n",
      "#UkraineWar  \n",
      "#Russia \n",
      " \n",
      "Updated special operation map\n",
      "👇💥😵👇👇👇👇⛔⛔⛔⛔👇👇👇👇\n",
      "https://t.co/eGkHzHTMyN\n",
      "\n",
      "\n"
     ]
    }
   ],
   "source": [
    "# Select 5 random rows with Sentiment_llm equal to 0\n",
    "indices = df1[df1['Sentiment_llm'] == 0].sample(n=5).index\n",
    "\n",
    "# Display the \"Text\" element for each selected row\n",
    "for i,index in enumerate(indices):\n",
    "    print(f\"Tweet {i+1}:\\n{df1.loc[index, 'Text']}\\n\\n\")\n"
   ]
  },
  {
   "cell_type": "markdown",
   "id": "bd632ddc-f65d-4164-9d0c-bea9889b206a",
   "metadata": {},
   "source": [
    "Example tweets classified as 1"
   ]
  },
  {
   "cell_type": "code",
   "execution_count": 154,
   "id": "6f04443d-0e48-44eb-bc66-faec5b4cec43",
   "metadata": {},
   "outputs": [
    {
     "name": "stdout",
     "output_type": "stream",
     "text": [
      "Tweet 1:\n",
      "Ambulance blessed and donated by Pope Francis en route to Lviv https://t.co/rK0Ckmzxwr #UkraineRussiaWar #UkraineRussianWar #Ukraine #UkraineRussia #UkraineUnderAttaсk #UkraineWar\n",
      "\n",
      "\n",
      "Tweet 2:\n",
      "Hello, world! Ukraine is still fighting for each of you. Ukrainians defend life, freedom, democracy. 32 days as light resists darkness. Be with us! Fight with us! Act!\n",
      "\n",
      "#CloseTheSkyOverUkraine #StandWithUkraine \n",
      "#Ukraine #StopRussianAggression\n",
      "\n",
      "\n",
      "Tweet 3:\n",
      "#StopRussia #StopWar 🇺🇦 https://t.co/kCQTjGCtTa\n",
      "\n",
      "\n",
      "Tweet 4:\n",
      "\"HUGE SMOKE\"\n",
      "\n",
      "Russian airstrike hit Lviv a few minutes ago.\n",
      "\n",
      "#UkraineWar #Russia #Russian #StandWithUkriane #UkraineUnderAttack https://t.co/uavlOBtICM\n",
      "\n",
      "\n",
      "Tweet 5:\n",
      "This is what they don't tell you\n",
      "#Ukraine #UkraineConflict https://t.co/fi7goc2Yu0\n",
      "\n",
      "\n"
     ]
    }
   ],
   "source": [
    "# Select 5 random rows with Sentiment_llm equal to 1\n",
    "indices = df1[df1['Sentiment_llm'] == 1].sample(n=5).index\n",
    "\n",
    "# Display the \"Text\" element for each selected row\n",
    "for i,index in enumerate(indices):\n",
    "    print(f\"Tweet {i+1}:\\n{df1.loc[index, 'Text']}\\n\\n\")"
   ]
  },
  {
   "cell_type": "markdown",
   "id": "67237ba0-dbf1-46cf-b6dc-f3787ce96fc8",
   "metadata": {},
   "source": [
    "As we can see, GPT classifies a tweet as neutral if the tweet is simply reporting news about the events occuring in Ukraine, if the tweet is neutral, or if the tweet is slightly random. Hence, it is more relevant to pay attention to the tweets classified as 1, and the tweets classified as -1. We can see that "
   ]
  },
  {
   "cell_type": "code",
   "execution_count": 244,
   "id": "51ebfe83-70e1-4875-8b54-6dae688d857a",
   "metadata": {},
   "outputs": [
    {
     "name": "stdout",
     "output_type": "stream",
     "text": [
      "Percentage of 1's: 42.6\n",
      "Number of tweets classified as '1': 426\n",
      "Percentage of -1's: 10.6\n",
      "Number of tweets classified as '-1': 106\n"
     ]
    }
   ],
   "source": [
    "print(f\"Percentage of 1's: {df1['Sentiment_llm'].value_counts()[1]/len(df1)*100}\")\n",
    "print(f\"Number of tweets classified as '1': {df1['Sentiment_llm'].value_counts()[1]}\")\n",
    "print(f\"Percentage of -1's: {df1['Sentiment_llm'].value_counts()[-1]/len(df1)*100}\")\n",
    "print(f\"Number of tweets classified as '-1': {df1['Sentiment_llm'].value_counts()[-1]}\")"
   ]
  },
  {
   "cell_type": "markdown",
   "id": "976eed46-e732-47d5-9b07-cd56533968fc",
   "metadata": {},
   "source": [
    "# Part 2"
   ]
  },
  {
   "cell_type": "markdown",
   "id": "e7b524ab-680d-4766-9f40-614a49250a7f",
   "metadata": {},
   "source": [
    "We need to also compare to a time period where people felt the effects relating to russia halting gas flow, in order to model the public perception of one of the end nodes of our game. So we will get tweets from the day Russia decided to halt the gas flow (3rd September 2022), two weeks from this date (17th September 2022), one month from the date (3rd October 2022) and two months from the date (3rd November 2022). This will give us a sample of tweets from different times after the gas flow was halted, in order to gauge public perception best. We have to specifically chose a few dates as there is no available dataset that is split by months for example, only specifically split by dates. "
   ]
  },
  {
   "cell_type": "code",
   "execution_count": 161,
   "id": "96151653-a030-4671-af7e-f18a26eba8df",
   "metadata": {},
   "outputs": [],
   "source": [
    "import gzip\n"
   ]
  },
  {
   "cell_type": "code",
   "execution_count": 212,
   "id": "a7a24987-f66d-4bf0-86fa-634f968f01e0",
   "metadata": {},
   "outputs": [
    {
     "data": {
      "text/html": [
       "<div>\n",
       "<style scoped>\n",
       "    .dataframe tbody tr th:only-of-type {\n",
       "        vertical-align: middle;\n",
       "    }\n",
       "\n",
       "    .dataframe tbody tr th {\n",
       "        vertical-align: top;\n",
       "    }\n",
       "\n",
       "    .dataframe thead th {\n",
       "        text-align: right;\n",
       "    }\n",
       "</style>\n",
       "<table border=\"1\" class=\"dataframe\">\n",
       "  <thead>\n",
       "    <tr style=\"text-align: right;\">\n",
       "      <th></th>\n",
       "      <th>Original index</th>\n",
       "      <th>userid</th>\n",
       "      <th>username</th>\n",
       "      <th>acctdesc</th>\n",
       "      <th>location</th>\n",
       "      <th>following</th>\n",
       "      <th>followers</th>\n",
       "      <th>totaltweets</th>\n",
       "      <th>usercreatedts</th>\n",
       "      <th>tweetid</th>\n",
       "      <th>...</th>\n",
       "      <th>original_tweet_userid</th>\n",
       "      <th>original_tweet_username</th>\n",
       "      <th>in_reply_to_status_id</th>\n",
       "      <th>in_reply_to_user_id</th>\n",
       "      <th>in_reply_to_screen_name</th>\n",
       "      <th>is_quote_status</th>\n",
       "      <th>quoted_status_id</th>\n",
       "      <th>quoted_status_userid</th>\n",
       "      <th>quoted_status_username</th>\n",
       "      <th>extractedts</th>\n",
       "    </tr>\n",
       "  </thead>\n",
       "  <tbody>\n",
       "    <tr>\n",
       "      <th>0</th>\n",
       "      <td>18892</td>\n",
       "      <td>14401794</td>\n",
       "      <td>unoemezzo</td>\n",
       "      <td>bio aggiornata.</td>\n",
       "      <td>Rome, Italy</td>\n",
       "      <td>1067</td>\n",
       "      <td>445</td>\n",
       "      <td>15834</td>\n",
       "      <td>2008-04-15 22:12:46.000000</td>\n",
       "      <td>1566035658761801728</td>\n",
       "      <td>...</td>\n",
       "      <td>0</td>\n",
       "      <td>NaN</td>\n",
       "      <td>0</td>\n",
       "      <td>0</td>\n",
       "      <td>NaN</td>\n",
       "      <td>True</td>\n",
       "      <td>1565832084979163136</td>\n",
       "      <td>1496704253678731264</td>\n",
       "      <td>OSINTI1</td>\n",
       "      <td>2022-09-03 16:09:35.985811</td>\n",
       "    </tr>\n",
       "    <tr>\n",
       "      <th>1</th>\n",
       "      <td>13315</td>\n",
       "      <td>3086109673</td>\n",
       "      <td>Nachos_News</td>\n",
       "      <td>\"Hoping for the best, prepared for the worst\" ...</td>\n",
       "      <td>World</td>\n",
       "      <td>23</td>\n",
       "      <td>44</td>\n",
       "      <td>17053</td>\n",
       "      <td>2015-03-15 16:44:24.000000</td>\n",
       "      <td>1565995249062871040</td>\n",
       "      <td>...</td>\n",
       "      <td>0</td>\n",
       "      <td>NaN</td>\n",
       "      <td>0</td>\n",
       "      <td>0</td>\n",
       "      <td>NaN</td>\n",
       "      <td>False</td>\n",
       "      <td>0</td>\n",
       "      <td>0</td>\n",
       "      <td>NaN</td>\n",
       "      <td>2022-09-03 18:26:43.027591</td>\n",
       "    </tr>\n",
       "    <tr>\n",
       "      <th>3</th>\n",
       "      <td>32677</td>\n",
       "      <td>15121509</td>\n",
       "      <td>Boomersaurus</td>\n",
       "      <td>GO UKRAINE!</td>\n",
       "      <td>Fighting in the Twitter trench</td>\n",
       "      <td>976</td>\n",
       "      <td>663</td>\n",
       "      <td>122448</td>\n",
       "      <td>2008-06-15 01:56:20.000000</td>\n",
       "      <td>1566133597504929795</td>\n",
       "      <td>...</td>\n",
       "      <td>0</td>\n",
       "      <td>NaN</td>\n",
       "      <td>0</td>\n",
       "      <td>0</td>\n",
       "      <td>NaN</td>\n",
       "      <td>True</td>\n",
       "      <td>1565986172802924544</td>\n",
       "      <td>1505481949854502912</td>\n",
       "      <td>Gerashchenko_en</td>\n",
       "      <td>2022-09-04 02:27:10.686323</td>\n",
       "    </tr>\n",
       "    <tr>\n",
       "      <th>4</th>\n",
       "      <td>27960</td>\n",
       "      <td>773092526584627200</td>\n",
       "      <td>HASHTAG2G1S</td>\n",
       "      <td>discomforting truths, jokes way over your head</td>\n",
       "      <td>NaN</td>\n",
       "      <td>4795</td>\n",
       "      <td>3209</td>\n",
       "      <td>26555</td>\n",
       "      <td>2016-09-06 09:36:36.000000</td>\n",
       "      <td>1566099556580073472</td>\n",
       "      <td>...</td>\n",
       "      <td>0</td>\n",
       "      <td>NaN</td>\n",
       "      <td>0</td>\n",
       "      <td>0</td>\n",
       "      <td>NaN</td>\n",
       "      <td>False</td>\n",
       "      <td>0</td>\n",
       "      <td>0</td>\n",
       "      <td>NaN</td>\n",
       "      <td>2022-09-03 23:57:17.653379</td>\n",
       "    </tr>\n",
       "    <tr>\n",
       "      <th>6</th>\n",
       "      <td>13816</td>\n",
       "      <td>1427259527926321161</td>\n",
       "      <td>DrumbegTwit</td>\n",
       "      <td>Grumpy old man. I'm not here for follows or li...</td>\n",
       "      <td>NaN</td>\n",
       "      <td>114</td>\n",
       "      <td>108</td>\n",
       "      <td>16381</td>\n",
       "      <td>2021-08-16 13:27:40.000000</td>\n",
       "      <td>1565998966034030594</td>\n",
       "      <td>...</td>\n",
       "      <td>0</td>\n",
       "      <td>NaN</td>\n",
       "      <td>1565735066214473728</td>\n",
       "      <td>1120633726478823424</td>\n",
       "      <td>ZelenskyyUa</td>\n",
       "      <td>False</td>\n",
       "      <td>0</td>\n",
       "      <td>0</td>\n",
       "      <td>NaN</td>\n",
       "      <td>2022-09-03 14:56:14.922536</td>\n",
       "    </tr>\n",
       "    <tr>\n",
       "      <th>...</th>\n",
       "      <td>...</td>\n",
       "      <td>...</td>\n",
       "      <td>...</td>\n",
       "      <td>...</td>\n",
       "      <td>...</td>\n",
       "      <td>...</td>\n",
       "      <td>...</td>\n",
       "      <td>...</td>\n",
       "      <td>...</td>\n",
       "      <td>...</td>\n",
       "      <td>...</td>\n",
       "      <td>...</td>\n",
       "      <td>...</td>\n",
       "      <td>...</td>\n",
       "      <td>...</td>\n",
       "      <td>...</td>\n",
       "      <td>...</td>\n",
       "      <td>...</td>\n",
       "      <td>...</td>\n",
       "      <td>...</td>\n",
       "      <td>...</td>\n",
       "    </tr>\n",
       "    <tr>\n",
       "      <th>39995</th>\n",
       "      <td>130863</td>\n",
       "      <td>154886766</td>\n",
       "      <td>khrystalline3</td>\n",
       "      <td>Nothing too much interesting. Just about busin...</td>\n",
       "      <td>Houston, TX</td>\n",
       "      <td>331</td>\n",
       "      <td>2492</td>\n",
       "      <td>1284</td>\n",
       "      <td>2010-06-12 13:50:16</td>\n",
       "      <td>1576727710977912832</td>\n",
       "      <td>...</td>\n",
       "      <td>0</td>\n",
       "      <td>NaN</td>\n",
       "      <td>0</td>\n",
       "      <td>0</td>\n",
       "      <td>NaN</td>\n",
       "      <td>True</td>\n",
       "      <td>1576698281060888576</td>\n",
       "      <td>3129968261</td>\n",
       "      <td>TimothyDSnyder</td>\n",
       "      <td>2022-10-03 04:59:46.140894</td>\n",
       "    </tr>\n",
       "    <tr>\n",
       "      <th>39996</th>\n",
       "      <td>173547</td>\n",
       "      <td>1506936520661417987</td>\n",
       "      <td>KBoz3</td>\n",
       "      <td>The news and opinions not allowed on Western m...</td>\n",
       "      <td>NaN</td>\n",
       "      <td>724</td>\n",
       "      <td>753</td>\n",
       "      <td>10541</td>\n",
       "      <td>2022-03-24 10:10:59</td>\n",
       "      <td>1577005576156254209</td>\n",
       "      <td>...</td>\n",
       "      <td>0</td>\n",
       "      <td>NaN</td>\n",
       "      <td>0</td>\n",
       "      <td>0</td>\n",
       "      <td>NaN</td>\n",
       "      <td>False</td>\n",
       "      <td>0</td>\n",
       "      <td>0</td>\n",
       "      <td>NaN</td>\n",
       "      <td>2022-10-04 02:58:56.315080</td>\n",
       "    </tr>\n",
       "    <tr>\n",
       "      <th>39997</th>\n",
       "      <td>141221</td>\n",
       "      <td>4510201</td>\n",
       "      <td>Tippling</td>\n",
       "      <td>Netzmensch und Pixelschubser. Liebt moorbraune...</td>\n",
       "      <td>Aachen</td>\n",
       "      <td>1115</td>\n",
       "      <td>1169</td>\n",
       "      <td>25201</td>\n",
       "      <td>2007-04-13 15:26:21</td>\n",
       "      <td>1576843568852791297</td>\n",
       "      <td>...</td>\n",
       "      <td>0</td>\n",
       "      <td>NaN</td>\n",
       "      <td>0</td>\n",
       "      <td>0</td>\n",
       "      <td>NaN</td>\n",
       "      <td>True</td>\n",
       "      <td>1576633801870299136</td>\n",
       "      <td>146958450</td>\n",
       "      <td>ragipsoylu</td>\n",
       "      <td>2022-10-03 11:21:36.589142</td>\n",
       "    </tr>\n",
       "    <tr>\n",
       "      <th>39998</th>\n",
       "      <td>157203</td>\n",
       "      <td>1524045139676704768</td>\n",
       "      <td>Oleksandr060286</td>\n",
       "      <td>Хай живе, хай живе вільна Україна.Хай живуть, ...</td>\n",
       "      <td>Україна</td>\n",
       "      <td>28</td>\n",
       "      <td>5</td>\n",
       "      <td>532</td>\n",
       "      <td>2022-05-10 15:14:20</td>\n",
       "      <td>1576936840355287041</td>\n",
       "      <td>...</td>\n",
       "      <td>0</td>\n",
       "      <td>NaN</td>\n",
       "      <td>0</td>\n",
       "      <td>0</td>\n",
       "      <td>NaN</td>\n",
       "      <td>False</td>\n",
       "      <td>0</td>\n",
       "      <td>0</td>\n",
       "      <td>NaN</td>\n",
       "      <td>2022-10-03 15:31:20.649191</td>\n",
       "    </tr>\n",
       "    <tr>\n",
       "      <th>39999</th>\n",
       "      <td>130683</td>\n",
       "      <td>43036488</td>\n",
       "      <td>PamelaLynnClark</td>\n",
       "      <td>Singer - Songwriter - Producer with thicker th...</td>\n",
       "      <td>Panama City, Panama</td>\n",
       "      <td>291</td>\n",
       "      <td>393</td>\n",
       "      <td>31699</td>\n",
       "      <td>2009-05-28 03:20:02</td>\n",
       "      <td>1576725359520727040</td>\n",
       "      <td>...</td>\n",
       "      <td>0</td>\n",
       "      <td>NaN</td>\n",
       "      <td>0</td>\n",
       "      <td>0</td>\n",
       "      <td>NaN</td>\n",
       "      <td>True</td>\n",
       "      <td>1576464942479585280</td>\n",
       "      <td>1505481949854502912</td>\n",
       "      <td>Gerashchenko_en</td>\n",
       "      <td>2022-10-03 06:51:16.598412</td>\n",
       "    </tr>\n",
       "  </tbody>\n",
       "</table>\n",
       "<p>35360 rows × 29 columns</p>\n",
       "</div>"
      ],
      "text/plain": [
       "       Original index               userid         username  \\\n",
       "0               18892             14401794        unoemezzo   \n",
       "1               13315           3086109673      Nachos_News   \n",
       "3               32677             15121509     Boomersaurus   \n",
       "4               27960   773092526584627200      HASHTAG2G1S   \n",
       "6               13816  1427259527926321161      DrumbegTwit   \n",
       "...               ...                  ...              ...   \n",
       "39995          130863            154886766    khrystalline3   \n",
       "39996          173547  1506936520661417987            KBoz3   \n",
       "39997          141221              4510201         Tippling   \n",
       "39998          157203  1524045139676704768  Oleksandr060286   \n",
       "39999          130683             43036488  PamelaLynnClark   \n",
       "\n",
       "                                                acctdesc  \\\n",
       "0                                        bio aggiornata.   \n",
       "1      \"Hoping for the best, prepared for the worst\" ...   \n",
       "3                                            GO UKRAINE!   \n",
       "4         discomforting truths, jokes way over your head   \n",
       "6      Grumpy old man. I'm not here for follows or li...   \n",
       "...                                                  ...   \n",
       "39995  Nothing too much interesting. Just about busin...   \n",
       "39996  The news and opinions not allowed on Western m...   \n",
       "39997  Netzmensch und Pixelschubser. Liebt moorbraune...   \n",
       "39998  Хай живе, хай живе вільна Україна.Хай живуть, ...   \n",
       "39999  Singer - Songwriter - Producer with thicker th...   \n",
       "\n",
       "                             location  following  followers  totaltweets  \\\n",
       "0                         Rome, Italy       1067        445        15834   \n",
       "1                               World         23         44        17053   \n",
       "3      Fighting in the Twitter trench        976        663       122448   \n",
       "4                                 NaN       4795       3209        26555   \n",
       "6                                 NaN        114        108        16381   \n",
       "...                               ...        ...        ...          ...   \n",
       "39995                     Houston, TX        331       2492         1284   \n",
       "39996                             NaN        724        753        10541   \n",
       "39997                          Aachen       1115       1169        25201   \n",
       "39998                         Україна         28          5          532   \n",
       "39999             Panama City, Panama        291        393        31699   \n",
       "\n",
       "                    usercreatedts              tweetid  ...  \\\n",
       "0      2008-04-15 22:12:46.000000  1566035658761801728  ...   \n",
       "1      2015-03-15 16:44:24.000000  1565995249062871040  ...   \n",
       "3      2008-06-15 01:56:20.000000  1566133597504929795  ...   \n",
       "4      2016-09-06 09:36:36.000000  1566099556580073472  ...   \n",
       "6      2021-08-16 13:27:40.000000  1565998966034030594  ...   \n",
       "...                           ...                  ...  ...   \n",
       "39995         2010-06-12 13:50:16  1576727710977912832  ...   \n",
       "39996         2022-03-24 10:10:59  1577005576156254209  ...   \n",
       "39997         2007-04-13 15:26:21  1576843568852791297  ...   \n",
       "39998         2022-05-10 15:14:20  1576936840355287041  ...   \n",
       "39999         2009-05-28 03:20:02  1576725359520727040  ...   \n",
       "\n",
       "      original_tweet_userid  original_tweet_username in_reply_to_status_id  \\\n",
       "0                         0                      NaN                     0   \n",
       "1                         0                      NaN                     0   \n",
       "3                         0                      NaN                     0   \n",
       "4                         0                      NaN                     0   \n",
       "6                         0                      NaN   1565735066214473728   \n",
       "...                     ...                      ...                   ...   \n",
       "39995                     0                      NaN                     0   \n",
       "39996                     0                      NaN                     0   \n",
       "39997                     0                      NaN                     0   \n",
       "39998                     0                      NaN                     0   \n",
       "39999                     0                      NaN                     0   \n",
       "\n",
       "       in_reply_to_user_id in_reply_to_screen_name is_quote_status  \\\n",
       "0                        0                     NaN            True   \n",
       "1                        0                     NaN           False   \n",
       "3                        0                     NaN            True   \n",
       "4                        0                     NaN           False   \n",
       "6      1120633726478823424             ZelenskyyUa           False   \n",
       "...                    ...                     ...             ...   \n",
       "39995                    0                     NaN            True   \n",
       "39996                    0                     NaN           False   \n",
       "39997                    0                     NaN            True   \n",
       "39998                    0                     NaN           False   \n",
       "39999                    0                     NaN            True   \n",
       "\n",
       "          quoted_status_id  quoted_status_userid  quoted_status_username  \\\n",
       "0      1565832084979163136   1496704253678731264                 OSINTI1   \n",
       "1                        0                     0                     NaN   \n",
       "3      1565986172802924544   1505481949854502912         Gerashchenko_en   \n",
       "4                        0                     0                     NaN   \n",
       "6                        0                     0                     NaN   \n",
       "...                    ...                   ...                     ...   \n",
       "39995  1576698281060888576            3129968261          TimothyDSnyder   \n",
       "39996                    0                     0                     NaN   \n",
       "39997  1576633801870299136             146958450              ragipsoylu   \n",
       "39998                    0                     0                     NaN   \n",
       "39999  1576464942479585280   1505481949854502912         Gerashchenko_en   \n",
       "\n",
       "                      extractedts  \n",
       "0      2022-09-03 16:09:35.985811  \n",
       "1      2022-09-03 18:26:43.027591  \n",
       "3      2022-09-04 02:27:10.686323  \n",
       "4      2022-09-03 23:57:17.653379  \n",
       "6      2022-09-03 14:56:14.922536  \n",
       "...                           ...  \n",
       "39995  2022-10-03 04:59:46.140894  \n",
       "39996  2022-10-04 02:58:56.315080  \n",
       "39997  2022-10-03 11:21:36.589142  \n",
       "39998  2022-10-03 15:31:20.649191  \n",
       "39999  2022-10-03 06:51:16.598412  \n",
       "\n",
       "[35360 rows x 29 columns]"
      ]
     },
     "execution_count": 212,
     "metadata": {},
     "output_type": "execute_result"
    }
   ],
   "source": [
    "# Open the 09/03 compressed file and read it as text\n",
    "with gzip.open('Data/part_2/0903_UkraineCombinedTweetsDeduped.csv.gzip', 'rt', encoding='utf-8') as f:\n",
    "    # Load the file contents into a Pandas DataFrame\n",
    "    df_0903 = pd.read_csv(f)\n",
    "    df_0903 = df_0903.sample(n=10000, random_state=42) #Randomly select 10000 tweets\n",
    "    df_0903 = df_0903.reset_index(drop=True)\n",
    "    df_0903 = df_0903.rename(columns={'Unnamed: 0': 'Original index'})\n",
    "    \n",
    "    #df2=df2[['acctdesc']]\n",
    "\n",
    "# Open the 09/17 compressed file and read it as text\n",
    "with gzip.open('Data/part_2/0917_UkraineCombinedTweetsDeduped.csv.gzip', 'rt', encoding='utf-8') as f:\n",
    "    # Load the file contents into a Pandas DataFrame\n",
    "    df_0917 = pd.read_csv(f)\n",
    "    df_0917 = df_0917.sample(n=10000, random_state=42) #Randomly select 10000 tweets\n",
    "    df_0917 = df_0917.reset_index(drop=True)\n",
    "    df_0917 = df_0917.rename(columns={'Unnamed: 0': 'Original index'})\n",
    "\n",
    "# Open the 10/03 compressed file and read it as text\n",
    "with gzip.open('Data/part_2/1003_UkraineCombinedTweetsDeduped.csv.gzip', 'rt', encoding='utf-8') as f:\n",
    "    # Load the file contents into a Pandas DataFrame\n",
    "    df_1003 = pd.read_csv(f)\n",
    "    df_1003 = df_1003.sample(n=10000, random_state=42) #Randomly select 10000 tweets\n",
    "    df_1003 = df_1003.reset_index(drop=True)\n",
    "    df_1003 = df_1003.rename(columns={'Unnamed: 0': 'Original index'})\n",
    "\n",
    "# Open the 11/03 compressed file and read it as text\n",
    "with gzip.open('Data/part_2/1003_UkraineCombinedTweetsDeduped.csv.gzip', 'rt', encoding='utf-8') as f:\n",
    "    # Load the file contents into a Pandas DataFrame\n",
    "    df_1103 = pd.read_csv(f)\n",
    "    df_1103 = df_1103.sample(n=10000, random_state=42) #Randomly select 10000 tweets\n",
    "    df_1103 = df_1103.reset_index(drop=True)\n",
    "    df_1103 = df_1103.rename(columns={'Unnamed: 0': 'Original index'})\n",
    "\n",
    "#New Tweets df2 with randomly selected tweets from our new time frame\n",
    "df2 = pd.concat([df_0903, df_0917, df_1003, df_1103], ignore_index=True)\n",
    "df2 = df2.dropna(subset=['acctdesc']) #remove the empyt tweets\n",
    "df2"
   ]
  },
  {
   "cell_type": "code",
   "execution_count": 213,
   "id": "f85f9719-8196-47b5-aa8f-b4784241c7b6",
   "metadata": {},
   "outputs": [],
   "source": [
    "#Save new df2 into a csv\n",
    "df2.to_csv('Data/part_2/tweets_2.csv', index=False)"
   ]
  },
  {
   "cell_type": "code",
   "execution_count": 214,
   "id": "e67b5663-a0d9-40e7-9291-65d86860831e",
   "metadata": {},
   "outputs": [],
   "source": [
    "#Reassign df2 to the csv we saved\n",
    "df2=pd.read_csv('Data/part_2/tweets_2.csv')\n",
    "#We only want the tweet column\n",
    "df2 = df2[['acctdesc']].rename(columns={'acctdesc': 'Tweet'})\n"
   ]
  },
  {
   "cell_type": "markdown",
   "id": "c6f0deaf-b49b-449d-9a66-f8466823ab10",
   "metadata": {},
   "source": [
    "Make a new df with 1000 randomly selected tweets from this new df2. We then will do the same process as we did for the first batch of tweets before."
   ]
  },
  {
   "cell_type": "code",
   "execution_count": 215,
   "id": "879c541e-bf1d-4448-8280-f60d58057d33",
   "metadata": {},
   "outputs": [
    {
     "data": {
      "text/html": [
       "<div>\n",
       "<style scoped>\n",
       "    .dataframe tbody tr th:only-of-type {\n",
       "        vertical-align: middle;\n",
       "    }\n",
       "\n",
       "    .dataframe tbody tr th {\n",
       "        vertical-align: top;\n",
       "    }\n",
       "\n",
       "    .dataframe thead th {\n",
       "        text-align: right;\n",
       "    }\n",
       "</style>\n",
       "<table border=\"1\" class=\"dataframe\">\n",
       "  <thead>\n",
       "    <tr style=\"text-align: right;\">\n",
       "      <th></th>\n",
       "      <th>index</th>\n",
       "      <th>Tweet</th>\n",
       "    </tr>\n",
       "  </thead>\n",
       "  <tbody>\n",
       "    <tr>\n",
       "      <th>0</th>\n",
       "      <td>30873</td>\n",
       "      <td>Carpe Diem,  Pluk de dag voordat je zelf in ee...</td>\n",
       "    </tr>\n",
       "    <tr>\n",
       "      <th>1</th>\n",
       "      <td>5648</td>\n",
       "      <td>Deputy Crime Minister &amp; Minister of Journalism...</td>\n",
       "    </tr>\n",
       "    <tr>\n",
       "      <th>2</th>\n",
       "      <td>26648</td>\n",
       "      <td>We Support 🇺🇦</td>\n",
       "    </tr>\n",
       "    <tr>\n",
       "      <th>3</th>\n",
       "      <td>6455</td>\n",
       "      <td>Pro-white Conservative entrepreneur \\n#God #US...</td>\n",
       "    </tr>\n",
       "    <tr>\n",
       "      <th>4</th>\n",
       "      <td>21885</td>\n",
       "      <td>Fuck Russia</td>\n",
       "    </tr>\n",
       "    <tr>\n",
       "      <th>...</th>\n",
       "      <td>...</td>\n",
       "      <td>...</td>\n",
       "    </tr>\n",
       "    <tr>\n",
       "      <th>995</th>\n",
       "      <td>32358</td>\n",
       "      <td>Digital 2D artist | 24 y.o | Ukraine, Kharkiv ...</td>\n",
       "    </tr>\n",
       "    <tr>\n",
       "      <th>996</th>\n",
       "      <td>9109</td>\n",
       "      <td>🇺🇦 Ukraine News 🛰️ Reliable Credible\\n📢 Crimea...</td>\n",
       "    </tr>\n",
       "    <tr>\n",
       "      <th>997</th>\n",
       "      <td>526</td>\n",
       "      <td>Geopolitics - Foreign Policy -  International ...</td>\n",
       "    </tr>\n",
       "    <tr>\n",
       "      <th>998</th>\n",
       "      <td>32291</td>\n",
       "      <td>STOP À LA CENSURE DES HONNÊTES GENS QUI EXPRIM...</td>\n",
       "    </tr>\n",
       "    <tr>\n",
       "      <th>999</th>\n",
       "      <td>9021</td>\n",
       "      <td>Leeds United fan. Used to work there, but Cell...</td>\n",
       "    </tr>\n",
       "  </tbody>\n",
       "</table>\n",
       "<p>1000 rows × 2 columns</p>\n",
       "</div>"
      ],
      "text/plain": [
       "     index                                              Tweet\n",
       "0    30873  Carpe Diem,  Pluk de dag voordat je zelf in ee...\n",
       "1     5648  Deputy Crime Minister & Minister of Journalism...\n",
       "2    26648                                      We Support 🇺🇦\n",
       "3     6455  Pro-white Conservative entrepreneur \\n#God #US...\n",
       "4    21885                                        Fuck Russia\n",
       "..     ...                                                ...\n",
       "995  32358  Digital 2D artist | 24 y.o | Ukraine, Kharkiv ...\n",
       "996   9109  🇺🇦 Ukraine News 🛰️ Reliable Credible\\n📢 Crimea...\n",
       "997    526  Geopolitics - Foreign Policy -  International ...\n",
       "998  32291  STOP À LA CENSURE DES HONNÊTES GENS QUI EXPRIM...\n",
       "999   9021  Leeds United fan. Used to work there, but Cell...\n",
       "\n",
       "[1000 rows x 2 columns]"
      ]
     },
     "execution_count": 215,
     "metadata": {},
     "output_type": "execute_result"
    }
   ],
   "source": [
    "df3 = df2['Tweet'].sample(n=1000, random_state=40).to_frame()\n",
    "df3= df3.reset_index()\n",
    "df3"
   ]
  },
  {
   "cell_type": "markdown",
   "id": "6b8c0491-20be-406a-a8d4-95987cc6e31c",
   "metadata": {},
   "source": [
    "Find sentiments of these 1000 tweets"
   ]
  },
  {
   "cell_type": "code",
   "execution_count": 217,
   "id": "9162172c-2ae5-4154-b40b-f55ecebb5eea",
   "metadata": {},
   "outputs": [
    {
     "name": "stderr",
     "output_type": "stream",
     "text": [
      " 55%|█████▌    | 553/1000 [15:42<12:41,  1.70s/it]   \n"
     ]
    },
    {
     "ename": "APIConnectionError",
     "evalue": "Error communicating with OpenAI",
     "output_type": "error",
     "traceback": [
      "\u001b[1;31m---------------------------------------------------------------------------\u001b[0m",
      "\u001b[1;31mConnectionResetError\u001b[0m                      Traceback (most recent call last)",
      "File \u001b[1;32m~\\anaconda3\\lib\\site-packages\\urllib3\\connectionpool.py:703\u001b[0m, in \u001b[0;36mHTTPConnectionPool.urlopen\u001b[1;34m(self, method, url, body, headers, retries, redirect, assert_same_host, timeout, pool_timeout, release_conn, chunked, body_pos, **response_kw)\u001b[0m\n\u001b[0;32m    702\u001b[0m \u001b[38;5;66;03m# Make the request on the httplib connection object.\u001b[39;00m\n\u001b[1;32m--> 703\u001b[0m httplib_response \u001b[38;5;241m=\u001b[39m \u001b[38;5;28;43mself\u001b[39;49m\u001b[38;5;241;43m.\u001b[39;49m\u001b[43m_make_request\u001b[49m\u001b[43m(\u001b[49m\n\u001b[0;32m    704\u001b[0m \u001b[43m    \u001b[49m\u001b[43mconn\u001b[49m\u001b[43m,\u001b[49m\n\u001b[0;32m    705\u001b[0m \u001b[43m    \u001b[49m\u001b[43mmethod\u001b[49m\u001b[43m,\u001b[49m\n\u001b[0;32m    706\u001b[0m \u001b[43m    \u001b[49m\u001b[43murl\u001b[49m\u001b[43m,\u001b[49m\n\u001b[0;32m    707\u001b[0m \u001b[43m    \u001b[49m\u001b[43mtimeout\u001b[49m\u001b[38;5;241;43m=\u001b[39;49m\u001b[43mtimeout_obj\u001b[49m\u001b[43m,\u001b[49m\n\u001b[0;32m    708\u001b[0m \u001b[43m    \u001b[49m\u001b[43mbody\u001b[49m\u001b[38;5;241;43m=\u001b[39;49m\u001b[43mbody\u001b[49m\u001b[43m,\u001b[49m\n\u001b[0;32m    709\u001b[0m \u001b[43m    \u001b[49m\u001b[43mheaders\u001b[49m\u001b[38;5;241;43m=\u001b[39;49m\u001b[43mheaders\u001b[49m\u001b[43m,\u001b[49m\n\u001b[0;32m    710\u001b[0m \u001b[43m    \u001b[49m\u001b[43mchunked\u001b[49m\u001b[38;5;241;43m=\u001b[39;49m\u001b[43mchunked\u001b[49m\u001b[43m,\u001b[49m\n\u001b[0;32m    711\u001b[0m \u001b[43m\u001b[49m\u001b[43m)\u001b[49m\n\u001b[0;32m    713\u001b[0m \u001b[38;5;66;03m# If we're going to release the connection in ``finally:``, then\u001b[39;00m\n\u001b[0;32m    714\u001b[0m \u001b[38;5;66;03m# the response doesn't need to know about the connection. Otherwise\u001b[39;00m\n\u001b[0;32m    715\u001b[0m \u001b[38;5;66;03m# it will also try to release it and we'll have a double-release\u001b[39;00m\n\u001b[0;32m    716\u001b[0m \u001b[38;5;66;03m# mess.\u001b[39;00m\n",
      "File \u001b[1;32m~\\anaconda3\\lib\\site-packages\\urllib3\\connectionpool.py:449\u001b[0m, in \u001b[0;36mHTTPConnectionPool._make_request\u001b[1;34m(self, conn, method, url, timeout, chunked, **httplib_request_kw)\u001b[0m\n\u001b[0;32m    445\u001b[0m         \u001b[38;5;28;01mexcept\u001b[39;00m \u001b[38;5;167;01mBaseException\u001b[39;00m \u001b[38;5;28;01mas\u001b[39;00m e:\n\u001b[0;32m    446\u001b[0m             \u001b[38;5;66;03m# Remove the TypeError from the exception chain in\u001b[39;00m\n\u001b[0;32m    447\u001b[0m             \u001b[38;5;66;03m# Python 3 (including for exceptions like SystemExit).\u001b[39;00m\n\u001b[0;32m    448\u001b[0m             \u001b[38;5;66;03m# Otherwise it looks like a bug in the code.\u001b[39;00m\n\u001b[1;32m--> 449\u001b[0m             \u001b[43msix\u001b[49m\u001b[38;5;241;43m.\u001b[39;49m\u001b[43mraise_from\u001b[49m\u001b[43m(\u001b[49m\u001b[43me\u001b[49m\u001b[43m,\u001b[49m\u001b[43m \u001b[49m\u001b[38;5;28;43;01mNone\u001b[39;49;00m\u001b[43m)\u001b[49m\n\u001b[0;32m    450\u001b[0m \u001b[38;5;28;01mexcept\u001b[39;00m (SocketTimeout, BaseSSLError, SocketError) \u001b[38;5;28;01mas\u001b[39;00m e:\n",
      "File \u001b[1;32m<string>:3\u001b[0m, in \u001b[0;36mraise_from\u001b[1;34m(value, from_value)\u001b[0m\n",
      "File \u001b[1;32m~\\anaconda3\\lib\\site-packages\\urllib3\\connectionpool.py:444\u001b[0m, in \u001b[0;36mHTTPConnectionPool._make_request\u001b[1;34m(self, conn, method, url, timeout, chunked, **httplib_request_kw)\u001b[0m\n\u001b[0;32m    443\u001b[0m \u001b[38;5;28;01mtry\u001b[39;00m:\n\u001b[1;32m--> 444\u001b[0m     httplib_response \u001b[38;5;241m=\u001b[39m \u001b[43mconn\u001b[49m\u001b[38;5;241;43m.\u001b[39;49m\u001b[43mgetresponse\u001b[49m\u001b[43m(\u001b[49m\u001b[43m)\u001b[49m\n\u001b[0;32m    445\u001b[0m \u001b[38;5;28;01mexcept\u001b[39;00m \u001b[38;5;167;01mBaseException\u001b[39;00m \u001b[38;5;28;01mas\u001b[39;00m e:\n\u001b[0;32m    446\u001b[0m     \u001b[38;5;66;03m# Remove the TypeError from the exception chain in\u001b[39;00m\n\u001b[0;32m    447\u001b[0m     \u001b[38;5;66;03m# Python 3 (including for exceptions like SystemExit).\u001b[39;00m\n\u001b[0;32m    448\u001b[0m     \u001b[38;5;66;03m# Otherwise it looks like a bug in the code.\u001b[39;00m\n",
      "File \u001b[1;32m~\\anaconda3\\lib\\http\\client.py:1377\u001b[0m, in \u001b[0;36mHTTPConnection.getresponse\u001b[1;34m(self)\u001b[0m\n\u001b[0;32m   1376\u001b[0m \u001b[38;5;28;01mtry\u001b[39;00m:\n\u001b[1;32m-> 1377\u001b[0m     \u001b[43mresponse\u001b[49m\u001b[38;5;241;43m.\u001b[39;49m\u001b[43mbegin\u001b[49m\u001b[43m(\u001b[49m\u001b[43m)\u001b[49m\n\u001b[0;32m   1378\u001b[0m \u001b[38;5;28;01mexcept\u001b[39;00m \u001b[38;5;167;01mConnectionError\u001b[39;00m:\n",
      "File \u001b[1;32m~\\anaconda3\\lib\\http\\client.py:320\u001b[0m, in \u001b[0;36mHTTPResponse.begin\u001b[1;34m(self)\u001b[0m\n\u001b[0;32m    319\u001b[0m \u001b[38;5;28;01mwhile\u001b[39;00m \u001b[38;5;28;01mTrue\u001b[39;00m:\n\u001b[1;32m--> 320\u001b[0m     version, status, reason \u001b[38;5;241m=\u001b[39m \u001b[38;5;28;43mself\u001b[39;49m\u001b[38;5;241;43m.\u001b[39;49m\u001b[43m_read_status\u001b[49m\u001b[43m(\u001b[49m\u001b[43m)\u001b[49m\n\u001b[0;32m    321\u001b[0m     \u001b[38;5;28;01mif\u001b[39;00m status \u001b[38;5;241m!=\u001b[39m CONTINUE:\n",
      "File \u001b[1;32m~\\anaconda3\\lib\\http\\client.py:281\u001b[0m, in \u001b[0;36mHTTPResponse._read_status\u001b[1;34m(self)\u001b[0m\n\u001b[0;32m    280\u001b[0m \u001b[38;5;28;01mdef\u001b[39;00m \u001b[38;5;21m_read_status\u001b[39m(\u001b[38;5;28mself\u001b[39m):\n\u001b[1;32m--> 281\u001b[0m     line \u001b[38;5;241m=\u001b[39m \u001b[38;5;28mstr\u001b[39m(\u001b[38;5;28;43mself\u001b[39;49m\u001b[38;5;241;43m.\u001b[39;49m\u001b[43mfp\u001b[49m\u001b[38;5;241;43m.\u001b[39;49m\u001b[43mreadline\u001b[49m\u001b[43m(\u001b[49m\u001b[43m_MAXLINE\u001b[49m\u001b[43m \u001b[49m\u001b[38;5;241;43m+\u001b[39;49m\u001b[43m \u001b[49m\u001b[38;5;241;43m1\u001b[39;49m\u001b[43m)\u001b[49m, \u001b[38;5;124m\"\u001b[39m\u001b[38;5;124miso-8859-1\u001b[39m\u001b[38;5;124m\"\u001b[39m)\n\u001b[0;32m    282\u001b[0m     \u001b[38;5;28;01mif\u001b[39;00m \u001b[38;5;28mlen\u001b[39m(line) \u001b[38;5;241m>\u001b[39m _MAXLINE:\n",
      "File \u001b[1;32m~\\anaconda3\\lib\\socket.py:704\u001b[0m, in \u001b[0;36mSocketIO.readinto\u001b[1;34m(self, b)\u001b[0m\n\u001b[0;32m    703\u001b[0m \u001b[38;5;28;01mtry\u001b[39;00m:\n\u001b[1;32m--> 704\u001b[0m     \u001b[38;5;28;01mreturn\u001b[39;00m \u001b[38;5;28;43mself\u001b[39;49m\u001b[38;5;241;43m.\u001b[39;49m\u001b[43m_sock\u001b[49m\u001b[38;5;241;43m.\u001b[39;49m\u001b[43mrecv_into\u001b[49m\u001b[43m(\u001b[49m\u001b[43mb\u001b[49m\u001b[43m)\u001b[49m\n\u001b[0;32m    705\u001b[0m \u001b[38;5;28;01mexcept\u001b[39;00m timeout:\n",
      "File \u001b[1;32m~\\anaconda3\\lib\\ssl.py:1241\u001b[0m, in \u001b[0;36mSSLSocket.recv_into\u001b[1;34m(self, buffer, nbytes, flags)\u001b[0m\n\u001b[0;32m   1238\u001b[0m         \u001b[38;5;28;01mraise\u001b[39;00m \u001b[38;5;167;01mValueError\u001b[39;00m(\n\u001b[0;32m   1239\u001b[0m           \u001b[38;5;124m\"\u001b[39m\u001b[38;5;124mnon-zero flags not allowed in calls to recv_into() on \u001b[39m\u001b[38;5;132;01m%s\u001b[39;00m\u001b[38;5;124m\"\u001b[39m \u001b[38;5;241m%\u001b[39m\n\u001b[0;32m   1240\u001b[0m           \u001b[38;5;28mself\u001b[39m\u001b[38;5;241m.\u001b[39m\u001b[38;5;18m__class__\u001b[39m)\n\u001b[1;32m-> 1241\u001b[0m     \u001b[38;5;28;01mreturn\u001b[39;00m \u001b[38;5;28;43mself\u001b[39;49m\u001b[38;5;241;43m.\u001b[39;49m\u001b[43mread\u001b[49m\u001b[43m(\u001b[49m\u001b[43mnbytes\u001b[49m\u001b[43m,\u001b[49m\u001b[43m \u001b[49m\u001b[43mbuffer\u001b[49m\u001b[43m)\u001b[49m\n\u001b[0;32m   1242\u001b[0m \u001b[38;5;28;01melse\u001b[39;00m:\n",
      "File \u001b[1;32m~\\anaconda3\\lib\\ssl.py:1099\u001b[0m, in \u001b[0;36mSSLSocket.read\u001b[1;34m(self, len, buffer)\u001b[0m\n\u001b[0;32m   1098\u001b[0m \u001b[38;5;28;01mif\u001b[39;00m buffer \u001b[38;5;129;01mis\u001b[39;00m \u001b[38;5;129;01mnot\u001b[39;00m \u001b[38;5;28;01mNone\u001b[39;00m:\n\u001b[1;32m-> 1099\u001b[0m     \u001b[38;5;28;01mreturn\u001b[39;00m \u001b[38;5;28;43mself\u001b[39;49m\u001b[38;5;241;43m.\u001b[39;49m\u001b[43m_sslobj\u001b[49m\u001b[38;5;241;43m.\u001b[39;49m\u001b[43mread\u001b[49m\u001b[43m(\u001b[49m\u001b[38;5;28;43mlen\u001b[39;49m\u001b[43m,\u001b[49m\u001b[43m \u001b[49m\u001b[43mbuffer\u001b[49m\u001b[43m)\u001b[49m\n\u001b[0;32m   1100\u001b[0m \u001b[38;5;28;01melse\u001b[39;00m:\n",
      "\u001b[1;31mConnectionResetError\u001b[0m: [WinError 10054] An existing connection was forcibly closed by the remote host",
      "\nDuring handling of the above exception, another exception occurred:\n",
      "\u001b[1;31mProtocolError\u001b[0m                             Traceback (most recent call last)",
      "File \u001b[1;32m~\\anaconda3\\lib\\site-packages\\requests\\adapters.py:489\u001b[0m, in \u001b[0;36mHTTPAdapter.send\u001b[1;34m(self, request, stream, timeout, verify, cert, proxies)\u001b[0m\n\u001b[0;32m    488\u001b[0m \u001b[38;5;28;01mif\u001b[39;00m \u001b[38;5;129;01mnot\u001b[39;00m chunked:\n\u001b[1;32m--> 489\u001b[0m     resp \u001b[38;5;241m=\u001b[39m \u001b[43mconn\u001b[49m\u001b[38;5;241;43m.\u001b[39;49m\u001b[43murlopen\u001b[49m\u001b[43m(\u001b[49m\n\u001b[0;32m    490\u001b[0m \u001b[43m        \u001b[49m\u001b[43mmethod\u001b[49m\u001b[38;5;241;43m=\u001b[39;49m\u001b[43mrequest\u001b[49m\u001b[38;5;241;43m.\u001b[39;49m\u001b[43mmethod\u001b[49m\u001b[43m,\u001b[49m\n\u001b[0;32m    491\u001b[0m \u001b[43m        \u001b[49m\u001b[43murl\u001b[49m\u001b[38;5;241;43m=\u001b[39;49m\u001b[43murl\u001b[49m\u001b[43m,\u001b[49m\n\u001b[0;32m    492\u001b[0m \u001b[43m        \u001b[49m\u001b[43mbody\u001b[49m\u001b[38;5;241;43m=\u001b[39;49m\u001b[43mrequest\u001b[49m\u001b[38;5;241;43m.\u001b[39;49m\u001b[43mbody\u001b[49m\u001b[43m,\u001b[49m\n\u001b[0;32m    493\u001b[0m \u001b[43m        \u001b[49m\u001b[43mheaders\u001b[49m\u001b[38;5;241;43m=\u001b[39;49m\u001b[43mrequest\u001b[49m\u001b[38;5;241;43m.\u001b[39;49m\u001b[43mheaders\u001b[49m\u001b[43m,\u001b[49m\n\u001b[0;32m    494\u001b[0m \u001b[43m        \u001b[49m\u001b[43mredirect\u001b[49m\u001b[38;5;241;43m=\u001b[39;49m\u001b[38;5;28;43;01mFalse\u001b[39;49;00m\u001b[43m,\u001b[49m\n\u001b[0;32m    495\u001b[0m \u001b[43m        \u001b[49m\u001b[43massert_same_host\u001b[49m\u001b[38;5;241;43m=\u001b[39;49m\u001b[38;5;28;43;01mFalse\u001b[39;49;00m\u001b[43m,\u001b[49m\n\u001b[0;32m    496\u001b[0m \u001b[43m        \u001b[49m\u001b[43mpreload_content\u001b[49m\u001b[38;5;241;43m=\u001b[39;49m\u001b[38;5;28;43;01mFalse\u001b[39;49;00m\u001b[43m,\u001b[49m\n\u001b[0;32m    497\u001b[0m \u001b[43m        \u001b[49m\u001b[43mdecode_content\u001b[49m\u001b[38;5;241;43m=\u001b[39;49m\u001b[38;5;28;43;01mFalse\u001b[39;49;00m\u001b[43m,\u001b[49m\n\u001b[0;32m    498\u001b[0m \u001b[43m        \u001b[49m\u001b[43mretries\u001b[49m\u001b[38;5;241;43m=\u001b[39;49m\u001b[38;5;28;43mself\u001b[39;49m\u001b[38;5;241;43m.\u001b[39;49m\u001b[43mmax_retries\u001b[49m\u001b[43m,\u001b[49m\n\u001b[0;32m    499\u001b[0m \u001b[43m        \u001b[49m\u001b[43mtimeout\u001b[49m\u001b[38;5;241;43m=\u001b[39;49m\u001b[43mtimeout\u001b[49m\u001b[43m,\u001b[49m\n\u001b[0;32m    500\u001b[0m \u001b[43m    \u001b[49m\u001b[43m)\u001b[49m\n\u001b[0;32m    502\u001b[0m \u001b[38;5;66;03m# Send the request.\u001b[39;00m\n\u001b[0;32m    503\u001b[0m \u001b[38;5;28;01melse\u001b[39;00m:\n",
      "File \u001b[1;32m~\\anaconda3\\lib\\site-packages\\urllib3\\connectionpool.py:785\u001b[0m, in \u001b[0;36mHTTPConnectionPool.urlopen\u001b[1;34m(self, method, url, body, headers, retries, redirect, assert_same_host, timeout, pool_timeout, release_conn, chunked, body_pos, **response_kw)\u001b[0m\n\u001b[0;32m    783\u001b[0m     e \u001b[38;5;241m=\u001b[39m ProtocolError(\u001b[38;5;124m\"\u001b[39m\u001b[38;5;124mConnection aborted.\u001b[39m\u001b[38;5;124m\"\u001b[39m, e)\n\u001b[1;32m--> 785\u001b[0m retries \u001b[38;5;241m=\u001b[39m \u001b[43mretries\u001b[49m\u001b[38;5;241;43m.\u001b[39;49m\u001b[43mincrement\u001b[49m\u001b[43m(\u001b[49m\n\u001b[0;32m    786\u001b[0m \u001b[43m    \u001b[49m\u001b[43mmethod\u001b[49m\u001b[43m,\u001b[49m\u001b[43m \u001b[49m\u001b[43murl\u001b[49m\u001b[43m,\u001b[49m\u001b[43m \u001b[49m\u001b[43merror\u001b[49m\u001b[38;5;241;43m=\u001b[39;49m\u001b[43me\u001b[49m\u001b[43m,\u001b[49m\u001b[43m \u001b[49m\u001b[43m_pool\u001b[49m\u001b[38;5;241;43m=\u001b[39;49m\u001b[38;5;28;43mself\u001b[39;49m\u001b[43m,\u001b[49m\u001b[43m \u001b[49m\u001b[43m_stacktrace\u001b[49m\u001b[38;5;241;43m=\u001b[39;49m\u001b[43msys\u001b[49m\u001b[38;5;241;43m.\u001b[39;49m\u001b[43mexc_info\u001b[49m\u001b[43m(\u001b[49m\u001b[43m)\u001b[49m\u001b[43m[\u001b[49m\u001b[38;5;241;43m2\u001b[39;49m\u001b[43m]\u001b[49m\n\u001b[0;32m    787\u001b[0m \u001b[43m\u001b[49m\u001b[43m)\u001b[49m\n\u001b[0;32m    788\u001b[0m retries\u001b[38;5;241m.\u001b[39msleep()\n",
      "File \u001b[1;32m~\\anaconda3\\lib\\site-packages\\urllib3\\util\\retry.py:550\u001b[0m, in \u001b[0;36mRetry.increment\u001b[1;34m(self, method, url, response, error, _pool, _stacktrace)\u001b[0m\n\u001b[0;32m    549\u001b[0m \u001b[38;5;28;01mif\u001b[39;00m read \u001b[38;5;129;01mis\u001b[39;00m \u001b[38;5;28;01mFalse\u001b[39;00m \u001b[38;5;129;01mor\u001b[39;00m \u001b[38;5;129;01mnot\u001b[39;00m \u001b[38;5;28mself\u001b[39m\u001b[38;5;241m.\u001b[39m_is_method_retryable(method):\n\u001b[1;32m--> 550\u001b[0m     \u001b[38;5;28;01mraise\u001b[39;00m \u001b[43msix\u001b[49m\u001b[38;5;241;43m.\u001b[39;49m\u001b[43mreraise\u001b[49m\u001b[43m(\u001b[49m\u001b[38;5;28;43mtype\u001b[39;49m\u001b[43m(\u001b[49m\u001b[43merror\u001b[49m\u001b[43m)\u001b[49m\u001b[43m,\u001b[49m\u001b[43m \u001b[49m\u001b[43merror\u001b[49m\u001b[43m,\u001b[49m\u001b[43m \u001b[49m\u001b[43m_stacktrace\u001b[49m\u001b[43m)\u001b[49m\n\u001b[0;32m    551\u001b[0m \u001b[38;5;28;01melif\u001b[39;00m read \u001b[38;5;129;01mis\u001b[39;00m \u001b[38;5;129;01mnot\u001b[39;00m \u001b[38;5;28;01mNone\u001b[39;00m:\n",
      "File \u001b[1;32m~\\anaconda3\\lib\\site-packages\\urllib3\\packages\\six.py:769\u001b[0m, in \u001b[0;36mreraise\u001b[1;34m(tp, value, tb)\u001b[0m\n\u001b[0;32m    768\u001b[0m \u001b[38;5;28;01mif\u001b[39;00m value\u001b[38;5;241m.\u001b[39m__traceback__ \u001b[38;5;129;01mis\u001b[39;00m \u001b[38;5;129;01mnot\u001b[39;00m tb:\n\u001b[1;32m--> 769\u001b[0m     \u001b[38;5;28;01mraise\u001b[39;00m value\u001b[38;5;241m.\u001b[39mwith_traceback(tb)\n\u001b[0;32m    770\u001b[0m \u001b[38;5;28;01mraise\u001b[39;00m value\n",
      "File \u001b[1;32m~\\anaconda3\\lib\\site-packages\\urllib3\\connectionpool.py:703\u001b[0m, in \u001b[0;36mHTTPConnectionPool.urlopen\u001b[1;34m(self, method, url, body, headers, retries, redirect, assert_same_host, timeout, pool_timeout, release_conn, chunked, body_pos, **response_kw)\u001b[0m\n\u001b[0;32m    702\u001b[0m \u001b[38;5;66;03m# Make the request on the httplib connection object.\u001b[39;00m\n\u001b[1;32m--> 703\u001b[0m httplib_response \u001b[38;5;241m=\u001b[39m \u001b[38;5;28;43mself\u001b[39;49m\u001b[38;5;241;43m.\u001b[39;49m\u001b[43m_make_request\u001b[49m\u001b[43m(\u001b[49m\n\u001b[0;32m    704\u001b[0m \u001b[43m    \u001b[49m\u001b[43mconn\u001b[49m\u001b[43m,\u001b[49m\n\u001b[0;32m    705\u001b[0m \u001b[43m    \u001b[49m\u001b[43mmethod\u001b[49m\u001b[43m,\u001b[49m\n\u001b[0;32m    706\u001b[0m \u001b[43m    \u001b[49m\u001b[43murl\u001b[49m\u001b[43m,\u001b[49m\n\u001b[0;32m    707\u001b[0m \u001b[43m    \u001b[49m\u001b[43mtimeout\u001b[49m\u001b[38;5;241;43m=\u001b[39;49m\u001b[43mtimeout_obj\u001b[49m\u001b[43m,\u001b[49m\n\u001b[0;32m    708\u001b[0m \u001b[43m    \u001b[49m\u001b[43mbody\u001b[49m\u001b[38;5;241;43m=\u001b[39;49m\u001b[43mbody\u001b[49m\u001b[43m,\u001b[49m\n\u001b[0;32m    709\u001b[0m \u001b[43m    \u001b[49m\u001b[43mheaders\u001b[49m\u001b[38;5;241;43m=\u001b[39;49m\u001b[43mheaders\u001b[49m\u001b[43m,\u001b[49m\n\u001b[0;32m    710\u001b[0m \u001b[43m    \u001b[49m\u001b[43mchunked\u001b[49m\u001b[38;5;241;43m=\u001b[39;49m\u001b[43mchunked\u001b[49m\u001b[43m,\u001b[49m\n\u001b[0;32m    711\u001b[0m \u001b[43m\u001b[49m\u001b[43m)\u001b[49m\n\u001b[0;32m    713\u001b[0m \u001b[38;5;66;03m# If we're going to release the connection in ``finally:``, then\u001b[39;00m\n\u001b[0;32m    714\u001b[0m \u001b[38;5;66;03m# the response doesn't need to know about the connection. Otherwise\u001b[39;00m\n\u001b[0;32m    715\u001b[0m \u001b[38;5;66;03m# it will also try to release it and we'll have a double-release\u001b[39;00m\n\u001b[0;32m    716\u001b[0m \u001b[38;5;66;03m# mess.\u001b[39;00m\n",
      "File \u001b[1;32m~\\anaconda3\\lib\\site-packages\\urllib3\\connectionpool.py:449\u001b[0m, in \u001b[0;36mHTTPConnectionPool._make_request\u001b[1;34m(self, conn, method, url, timeout, chunked, **httplib_request_kw)\u001b[0m\n\u001b[0;32m    445\u001b[0m         \u001b[38;5;28;01mexcept\u001b[39;00m \u001b[38;5;167;01mBaseException\u001b[39;00m \u001b[38;5;28;01mas\u001b[39;00m e:\n\u001b[0;32m    446\u001b[0m             \u001b[38;5;66;03m# Remove the TypeError from the exception chain in\u001b[39;00m\n\u001b[0;32m    447\u001b[0m             \u001b[38;5;66;03m# Python 3 (including for exceptions like SystemExit).\u001b[39;00m\n\u001b[0;32m    448\u001b[0m             \u001b[38;5;66;03m# Otherwise it looks like a bug in the code.\u001b[39;00m\n\u001b[1;32m--> 449\u001b[0m             \u001b[43msix\u001b[49m\u001b[38;5;241;43m.\u001b[39;49m\u001b[43mraise_from\u001b[49m\u001b[43m(\u001b[49m\u001b[43me\u001b[49m\u001b[43m,\u001b[49m\u001b[43m \u001b[49m\u001b[38;5;28;43;01mNone\u001b[39;49;00m\u001b[43m)\u001b[49m\n\u001b[0;32m    450\u001b[0m \u001b[38;5;28;01mexcept\u001b[39;00m (SocketTimeout, BaseSSLError, SocketError) \u001b[38;5;28;01mas\u001b[39;00m e:\n",
      "File \u001b[1;32m<string>:3\u001b[0m, in \u001b[0;36mraise_from\u001b[1;34m(value, from_value)\u001b[0m\n",
      "File \u001b[1;32m~\\anaconda3\\lib\\site-packages\\urllib3\\connectionpool.py:444\u001b[0m, in \u001b[0;36mHTTPConnectionPool._make_request\u001b[1;34m(self, conn, method, url, timeout, chunked, **httplib_request_kw)\u001b[0m\n\u001b[0;32m    443\u001b[0m \u001b[38;5;28;01mtry\u001b[39;00m:\n\u001b[1;32m--> 444\u001b[0m     httplib_response \u001b[38;5;241m=\u001b[39m \u001b[43mconn\u001b[49m\u001b[38;5;241;43m.\u001b[39;49m\u001b[43mgetresponse\u001b[49m\u001b[43m(\u001b[49m\u001b[43m)\u001b[49m\n\u001b[0;32m    445\u001b[0m \u001b[38;5;28;01mexcept\u001b[39;00m \u001b[38;5;167;01mBaseException\u001b[39;00m \u001b[38;5;28;01mas\u001b[39;00m e:\n\u001b[0;32m    446\u001b[0m     \u001b[38;5;66;03m# Remove the TypeError from the exception chain in\u001b[39;00m\n\u001b[0;32m    447\u001b[0m     \u001b[38;5;66;03m# Python 3 (including for exceptions like SystemExit).\u001b[39;00m\n\u001b[0;32m    448\u001b[0m     \u001b[38;5;66;03m# Otherwise it looks like a bug in the code.\u001b[39;00m\n",
      "File \u001b[1;32m~\\anaconda3\\lib\\http\\client.py:1377\u001b[0m, in \u001b[0;36mHTTPConnection.getresponse\u001b[1;34m(self)\u001b[0m\n\u001b[0;32m   1376\u001b[0m \u001b[38;5;28;01mtry\u001b[39;00m:\n\u001b[1;32m-> 1377\u001b[0m     \u001b[43mresponse\u001b[49m\u001b[38;5;241;43m.\u001b[39;49m\u001b[43mbegin\u001b[49m\u001b[43m(\u001b[49m\u001b[43m)\u001b[49m\n\u001b[0;32m   1378\u001b[0m \u001b[38;5;28;01mexcept\u001b[39;00m \u001b[38;5;167;01mConnectionError\u001b[39;00m:\n",
      "File \u001b[1;32m~\\anaconda3\\lib\\http\\client.py:320\u001b[0m, in \u001b[0;36mHTTPResponse.begin\u001b[1;34m(self)\u001b[0m\n\u001b[0;32m    319\u001b[0m \u001b[38;5;28;01mwhile\u001b[39;00m \u001b[38;5;28;01mTrue\u001b[39;00m:\n\u001b[1;32m--> 320\u001b[0m     version, status, reason \u001b[38;5;241m=\u001b[39m \u001b[38;5;28;43mself\u001b[39;49m\u001b[38;5;241;43m.\u001b[39;49m\u001b[43m_read_status\u001b[49m\u001b[43m(\u001b[49m\u001b[43m)\u001b[49m\n\u001b[0;32m    321\u001b[0m     \u001b[38;5;28;01mif\u001b[39;00m status \u001b[38;5;241m!=\u001b[39m CONTINUE:\n",
      "File \u001b[1;32m~\\anaconda3\\lib\\http\\client.py:281\u001b[0m, in \u001b[0;36mHTTPResponse._read_status\u001b[1;34m(self)\u001b[0m\n\u001b[0;32m    280\u001b[0m \u001b[38;5;28;01mdef\u001b[39;00m \u001b[38;5;21m_read_status\u001b[39m(\u001b[38;5;28mself\u001b[39m):\n\u001b[1;32m--> 281\u001b[0m     line \u001b[38;5;241m=\u001b[39m \u001b[38;5;28mstr\u001b[39m(\u001b[38;5;28;43mself\u001b[39;49m\u001b[38;5;241;43m.\u001b[39;49m\u001b[43mfp\u001b[49m\u001b[38;5;241;43m.\u001b[39;49m\u001b[43mreadline\u001b[49m\u001b[43m(\u001b[49m\u001b[43m_MAXLINE\u001b[49m\u001b[43m \u001b[49m\u001b[38;5;241;43m+\u001b[39;49m\u001b[43m \u001b[49m\u001b[38;5;241;43m1\u001b[39;49m\u001b[43m)\u001b[49m, \u001b[38;5;124m\"\u001b[39m\u001b[38;5;124miso-8859-1\u001b[39m\u001b[38;5;124m\"\u001b[39m)\n\u001b[0;32m    282\u001b[0m     \u001b[38;5;28;01mif\u001b[39;00m \u001b[38;5;28mlen\u001b[39m(line) \u001b[38;5;241m>\u001b[39m _MAXLINE:\n",
      "File \u001b[1;32m~\\anaconda3\\lib\\socket.py:704\u001b[0m, in \u001b[0;36mSocketIO.readinto\u001b[1;34m(self, b)\u001b[0m\n\u001b[0;32m    703\u001b[0m \u001b[38;5;28;01mtry\u001b[39;00m:\n\u001b[1;32m--> 704\u001b[0m     \u001b[38;5;28;01mreturn\u001b[39;00m \u001b[38;5;28;43mself\u001b[39;49m\u001b[38;5;241;43m.\u001b[39;49m\u001b[43m_sock\u001b[49m\u001b[38;5;241;43m.\u001b[39;49m\u001b[43mrecv_into\u001b[49m\u001b[43m(\u001b[49m\u001b[43mb\u001b[49m\u001b[43m)\u001b[49m\n\u001b[0;32m    705\u001b[0m \u001b[38;5;28;01mexcept\u001b[39;00m timeout:\n",
      "File \u001b[1;32m~\\anaconda3\\lib\\ssl.py:1241\u001b[0m, in \u001b[0;36mSSLSocket.recv_into\u001b[1;34m(self, buffer, nbytes, flags)\u001b[0m\n\u001b[0;32m   1238\u001b[0m         \u001b[38;5;28;01mraise\u001b[39;00m \u001b[38;5;167;01mValueError\u001b[39;00m(\n\u001b[0;32m   1239\u001b[0m           \u001b[38;5;124m\"\u001b[39m\u001b[38;5;124mnon-zero flags not allowed in calls to recv_into() on \u001b[39m\u001b[38;5;132;01m%s\u001b[39;00m\u001b[38;5;124m\"\u001b[39m \u001b[38;5;241m%\u001b[39m\n\u001b[0;32m   1240\u001b[0m           \u001b[38;5;28mself\u001b[39m\u001b[38;5;241m.\u001b[39m\u001b[38;5;18m__class__\u001b[39m)\n\u001b[1;32m-> 1241\u001b[0m     \u001b[38;5;28;01mreturn\u001b[39;00m \u001b[38;5;28;43mself\u001b[39;49m\u001b[38;5;241;43m.\u001b[39;49m\u001b[43mread\u001b[49m\u001b[43m(\u001b[49m\u001b[43mnbytes\u001b[49m\u001b[43m,\u001b[49m\u001b[43m \u001b[49m\u001b[43mbuffer\u001b[49m\u001b[43m)\u001b[49m\n\u001b[0;32m   1242\u001b[0m \u001b[38;5;28;01melse\u001b[39;00m:\n",
      "File \u001b[1;32m~\\anaconda3\\lib\\ssl.py:1099\u001b[0m, in \u001b[0;36mSSLSocket.read\u001b[1;34m(self, len, buffer)\u001b[0m\n\u001b[0;32m   1098\u001b[0m \u001b[38;5;28;01mif\u001b[39;00m buffer \u001b[38;5;129;01mis\u001b[39;00m \u001b[38;5;129;01mnot\u001b[39;00m \u001b[38;5;28;01mNone\u001b[39;00m:\n\u001b[1;32m-> 1099\u001b[0m     \u001b[38;5;28;01mreturn\u001b[39;00m \u001b[38;5;28;43mself\u001b[39;49m\u001b[38;5;241;43m.\u001b[39;49m\u001b[43m_sslobj\u001b[49m\u001b[38;5;241;43m.\u001b[39;49m\u001b[43mread\u001b[49m\u001b[43m(\u001b[49m\u001b[38;5;28;43mlen\u001b[39;49m\u001b[43m,\u001b[49m\u001b[43m \u001b[49m\u001b[43mbuffer\u001b[49m\u001b[43m)\u001b[49m\n\u001b[0;32m   1100\u001b[0m \u001b[38;5;28;01melse\u001b[39;00m:\n",
      "\u001b[1;31mProtocolError\u001b[0m: ('Connection aborted.', ConnectionResetError(10054, 'An existing connection was forcibly closed by the remote host', None, 10054, None))",
      "\nDuring handling of the above exception, another exception occurred:\n",
      "\u001b[1;31mConnectionError\u001b[0m                           Traceback (most recent call last)",
      "File \u001b[1;32m~\\anaconda3\\lib\\site-packages\\openai\\api_requestor.py:356\u001b[0m, in \u001b[0;36mAPIRequestor.request_raw\u001b[1;34m(self, method, url, params, supplied_headers, files, stream, request_id, request_timeout)\u001b[0m\n\u001b[0;32m    355\u001b[0m \u001b[38;5;28;01mtry\u001b[39;00m:\n\u001b[1;32m--> 356\u001b[0m     result \u001b[38;5;241m=\u001b[39m \u001b[43m_thread_context\u001b[49m\u001b[38;5;241;43m.\u001b[39;49m\u001b[43msession\u001b[49m\u001b[38;5;241;43m.\u001b[39;49m\u001b[43mrequest\u001b[49m\u001b[43m(\u001b[49m\n\u001b[0;32m    357\u001b[0m \u001b[43m        \u001b[49m\u001b[43mmethod\u001b[49m\u001b[43m,\u001b[49m\n\u001b[0;32m    358\u001b[0m \u001b[43m        \u001b[49m\u001b[43mabs_url\u001b[49m\u001b[43m,\u001b[49m\n\u001b[0;32m    359\u001b[0m \u001b[43m        \u001b[49m\u001b[43mheaders\u001b[49m\u001b[38;5;241;43m=\u001b[39;49m\u001b[43mheaders\u001b[49m\u001b[43m,\u001b[49m\n\u001b[0;32m    360\u001b[0m \u001b[43m        \u001b[49m\u001b[43mdata\u001b[49m\u001b[38;5;241;43m=\u001b[39;49m\u001b[43mdata\u001b[49m\u001b[43m,\u001b[49m\n\u001b[0;32m    361\u001b[0m \u001b[43m        \u001b[49m\u001b[43mfiles\u001b[49m\u001b[38;5;241;43m=\u001b[39;49m\u001b[43mfiles\u001b[49m\u001b[43m,\u001b[49m\n\u001b[0;32m    362\u001b[0m \u001b[43m        \u001b[49m\u001b[43mstream\u001b[49m\u001b[38;5;241;43m=\u001b[39;49m\u001b[43mstream\u001b[49m\u001b[43m,\u001b[49m\n\u001b[0;32m    363\u001b[0m \u001b[43m        \u001b[49m\u001b[43mtimeout\u001b[49m\u001b[38;5;241;43m=\u001b[39;49m\u001b[43mrequest_timeout\u001b[49m\u001b[43m \u001b[49m\u001b[38;5;28;43;01mif\u001b[39;49;00m\u001b[43m \u001b[49m\u001b[43mrequest_timeout\u001b[49m\u001b[43m \u001b[49m\u001b[38;5;28;43;01melse\u001b[39;49;00m\u001b[43m \u001b[49m\u001b[43mTIMEOUT_SECS\u001b[49m\u001b[43m,\u001b[49m\n\u001b[0;32m    364\u001b[0m \u001b[43m    \u001b[49m\u001b[43m)\u001b[49m\n\u001b[0;32m    365\u001b[0m \u001b[38;5;28;01mexcept\u001b[39;00m requests\u001b[38;5;241m.\u001b[39mexceptions\u001b[38;5;241m.\u001b[39mTimeout \u001b[38;5;28;01mas\u001b[39;00m e:\n",
      "File \u001b[1;32m~\\anaconda3\\lib\\site-packages\\requests\\sessions.py:587\u001b[0m, in \u001b[0;36mSession.request\u001b[1;34m(self, method, url, params, data, headers, cookies, files, auth, timeout, allow_redirects, proxies, hooks, stream, verify, cert, json)\u001b[0m\n\u001b[0;32m    586\u001b[0m send_kwargs\u001b[38;5;241m.\u001b[39mupdate(settings)\n\u001b[1;32m--> 587\u001b[0m resp \u001b[38;5;241m=\u001b[39m \u001b[38;5;28mself\u001b[39m\u001b[38;5;241m.\u001b[39msend(prep, \u001b[38;5;241m*\u001b[39m\u001b[38;5;241m*\u001b[39msend_kwargs)\n\u001b[0;32m    589\u001b[0m \u001b[38;5;28;01mreturn\u001b[39;00m resp\n",
      "File \u001b[1;32m~\\anaconda3\\lib\\site-packages\\requests\\sessions.py:701\u001b[0m, in \u001b[0;36mSession.send\u001b[1;34m(self, request, **kwargs)\u001b[0m\n\u001b[0;32m    700\u001b[0m \u001b[38;5;66;03m# Send the request\u001b[39;00m\n\u001b[1;32m--> 701\u001b[0m r \u001b[38;5;241m=\u001b[39m adapter\u001b[38;5;241m.\u001b[39msend(request, \u001b[38;5;241m*\u001b[39m\u001b[38;5;241m*\u001b[39mkwargs)\n\u001b[0;32m    703\u001b[0m \u001b[38;5;66;03m# Total elapsed time of the request (approximately)\u001b[39;00m\n",
      "File \u001b[1;32m~\\anaconda3\\lib\\site-packages\\requests\\adapters.py:547\u001b[0m, in \u001b[0;36mHTTPAdapter.send\u001b[1;34m(self, request, stream, timeout, verify, cert, proxies)\u001b[0m\n\u001b[0;32m    546\u001b[0m \u001b[38;5;28;01mexcept\u001b[39;00m (ProtocolError, \u001b[38;5;167;01mOSError\u001b[39;00m) \u001b[38;5;28;01mas\u001b[39;00m err:\n\u001b[1;32m--> 547\u001b[0m     \u001b[38;5;28;01mraise\u001b[39;00m \u001b[38;5;167;01mConnectionError\u001b[39;00m(err, request\u001b[38;5;241m=\u001b[39mrequest)\n\u001b[0;32m    549\u001b[0m \u001b[38;5;28;01mexcept\u001b[39;00m MaxRetryError \u001b[38;5;28;01mas\u001b[39;00m e:\n",
      "\u001b[1;31mConnectionError\u001b[0m: ('Connection aborted.', ConnectionResetError(10054, 'An existing connection was forcibly closed by the remote host', None, 10054, None))",
      "\nThe above exception was the direct cause of the following exception:\n",
      "\u001b[1;31mAPIConnectionError\u001b[0m                        Traceback (most recent call last)",
      "Input \u001b[1;32mIn [217]\u001b[0m, in \u001b[0;36m<cell line: 3>\u001b[1;34m()\u001b[0m\n\u001b[0;32m      2\u001b[0m sentiments_2 \u001b[38;5;241m=\u001b[39m []\n\u001b[0;32m      3\u001b[0m \u001b[38;5;28;01mfor\u001b[39;00m tweet \u001b[38;5;129;01min\u001b[39;00m tqdm(df3[\u001b[38;5;124m'\u001b[39m\u001b[38;5;124mTweet\u001b[39m\u001b[38;5;124m'\u001b[39m]):\n\u001b[1;32m----> 4\u001b[0m     sentiment \u001b[38;5;241m=\u001b[39m \u001b[43msentiment_gpt\u001b[49m\u001b[43m(\u001b[49m\u001b[43mtweet\u001b[49m\u001b[43m)\u001b[49m\n\u001b[0;32m      5\u001b[0m     sentiments_2\u001b[38;5;241m.\u001b[39mappend(sentiment)\n\u001b[0;32m      6\u001b[0m     time\u001b[38;5;241m.\u001b[39msleep(\u001b[38;5;241m0.5\u001b[39m)\n",
      "Input \u001b[1;32mIn [132]\u001b[0m, in \u001b[0;36msentiment_gpt\u001b[1;34m(tweet)\u001b[0m\n\u001b[0;32m      1\u001b[0m \u001b[38;5;28;01mdef\u001b[39;00m \u001b[38;5;21msentiment_gpt\u001b[39m(tweet):\n\u001b[0;32m      3\u001b[0m     prompt\u001b[38;5;241m=\u001b[39m\u001b[38;5;124mf\u001b[39m\u001b[38;5;124m\"\u001b[39m\u001b[38;5;124mGiven that there is an ongoing conflict between Russia and Ukraine and that Putin is the president of Russia while Zelensky is the president of Ukraine, classify the sentiment of a given text as either supporting Ukraine, opposing Ukraine, or neutral. The text may discuss topics related to Russia or Ukraine as a whole, such as their presidents or cities in the country. If the text expresses support for Ukraine or opposition/dismay towards Russia, classify it as \u001b[39m\u001b[38;5;124m'\u001b[39m\u001b[38;5;124m1\u001b[39m\u001b[38;5;124m'\u001b[39m\u001b[38;5;124m. If the text expresses opposition to Ukraine or support for Russia, classify it as \u001b[39m\u001b[38;5;124m'\u001b[39m\u001b[38;5;124m-1\u001b[39m\u001b[38;5;124m'\u001b[39m\u001b[38;5;124m. If the text does not express a clear sentiment for or against Ukraine or Russia, classify it as \u001b[39m\u001b[38;5;124m'\u001b[39m\u001b[38;5;124m0\u001b[39m\u001b[38;5;124m'\u001b[39m\u001b[38;5;124m. \u001b[39m\u001b[38;5;130;01m\\n\u001b[39;00m\u001b[38;5;130;01m\\n\u001b[39;00m\u001b[38;5;124mText: \u001b[39m\u001b[38;5;132;01m{\u001b[39;00mtweet\u001b[38;5;132;01m}\u001b[39;00m\u001b[38;5;130;01m\\n\u001b[39;00m\u001b[38;5;130;01m\\n\u001b[39;00m\u001b[38;5;124mClassify: ###\u001b[39m\u001b[38;5;124m\"\u001b[39m\n\u001b[1;32m----> 4\u001b[0m     response \u001b[38;5;241m=\u001b[39m \u001b[43mopenai\u001b[49m\u001b[38;5;241;43m.\u001b[39;49m\u001b[43mCompletion\u001b[49m\u001b[38;5;241;43m.\u001b[39;49m\u001b[43mcreate\u001b[49m\u001b[43m(\u001b[49m\n\u001b[0;32m      5\u001b[0m \u001b[43m        \u001b[49m\u001b[43mengine\u001b[49m\u001b[38;5;241;43m=\u001b[39;49m\u001b[38;5;124;43m\"\u001b[39;49m\u001b[38;5;124;43mtext-davinci-003\u001b[39;49m\u001b[38;5;124;43m\"\u001b[39;49m\u001b[43m,\u001b[49m\n\u001b[0;32m      6\u001b[0m \u001b[43m        \u001b[49m\u001b[43mprompt\u001b[49m\u001b[38;5;241;43m=\u001b[39;49m\u001b[43mprompt\u001b[49m\u001b[43m,\u001b[49m\n\u001b[0;32m      7\u001b[0m \u001b[43m        \u001b[49m\u001b[43mmax_tokens\u001b[49m\u001b[38;5;241;43m=\u001b[39;49m\u001b[38;5;241;43m1024\u001b[39;49m\u001b[43m,\u001b[49m\n\u001b[0;32m      8\u001b[0m \u001b[43m        \u001b[49m\u001b[43mn\u001b[49m\u001b[38;5;241;43m=\u001b[39;49m\u001b[38;5;241;43m1\u001b[39;49m\u001b[43m,\u001b[49m\n\u001b[0;32m      9\u001b[0m \u001b[43m        \u001b[49m\u001b[43mstop\u001b[49m\u001b[38;5;241;43m=\u001b[39;49m\u001b[38;5;124;43m'\u001b[39;49m\u001b[38;5;124;43m###\u001b[39;49m\u001b[38;5;124;43m'\u001b[39;49m\u001b[43m,\u001b[49m\n\u001b[0;32m     10\u001b[0m \u001b[43m        \u001b[49m\u001b[43mtemperature\u001b[49m\u001b[38;5;241;43m=\u001b[39;49m\u001b[38;5;241;43m0.2\u001b[39;49m\u001b[43m,\u001b[49m\n\u001b[0;32m     11\u001b[0m \u001b[43m    \u001b[49m\u001b[43m)\u001b[49m\n\u001b[0;32m     12\u001b[0m     output \u001b[38;5;241m=\u001b[39m response[\u001b[38;5;124m\"\u001b[39m\u001b[38;5;124mchoices\u001b[39m\u001b[38;5;124m\"\u001b[39m][\u001b[38;5;241m0\u001b[39m][\u001b[38;5;124m\"\u001b[39m\u001b[38;5;124mtext\u001b[39m\u001b[38;5;124m\"\u001b[39m]\n\u001b[0;32m     13\u001b[0m     \u001b[38;5;28;01mreturn\u001b[39;00m output\n",
      "File \u001b[1;32m~\\anaconda3\\lib\\site-packages\\openai\\api_resources\\completion.py:25\u001b[0m, in \u001b[0;36mCompletion.create\u001b[1;34m(cls, *args, **kwargs)\u001b[0m\n\u001b[0;32m     23\u001b[0m \u001b[38;5;28;01mwhile\u001b[39;00m \u001b[38;5;28;01mTrue\u001b[39;00m:\n\u001b[0;32m     24\u001b[0m     \u001b[38;5;28;01mtry\u001b[39;00m:\n\u001b[1;32m---> 25\u001b[0m         \u001b[38;5;28;01mreturn\u001b[39;00m \u001b[38;5;28msuper\u001b[39m()\u001b[38;5;241m.\u001b[39mcreate(\u001b[38;5;241m*\u001b[39margs, \u001b[38;5;241m*\u001b[39m\u001b[38;5;241m*\u001b[39mkwargs)\n\u001b[0;32m     26\u001b[0m     \u001b[38;5;28;01mexcept\u001b[39;00m TryAgain \u001b[38;5;28;01mas\u001b[39;00m e:\n\u001b[0;32m     27\u001b[0m         \u001b[38;5;28;01mif\u001b[39;00m timeout \u001b[38;5;129;01mis\u001b[39;00m \u001b[38;5;129;01mnot\u001b[39;00m \u001b[38;5;28;01mNone\u001b[39;00m \u001b[38;5;129;01mand\u001b[39;00m time\u001b[38;5;241m.\u001b[39mtime() \u001b[38;5;241m>\u001b[39m start \u001b[38;5;241m+\u001b[39m timeout:\n",
      "File \u001b[1;32m~\\anaconda3\\lib\\site-packages\\openai\\api_resources\\abstract\\engine_api_resource.py:115\u001b[0m, in \u001b[0;36mEngineAPIResource.create\u001b[1;34m(cls, api_key, api_base, api_type, request_id, api_version, organization, **params)\u001b[0m\n\u001b[0;32m    107\u001b[0m requestor \u001b[38;5;241m=\u001b[39m api_requestor\u001b[38;5;241m.\u001b[39mAPIRequestor(\n\u001b[0;32m    108\u001b[0m     api_key,\n\u001b[0;32m    109\u001b[0m     api_base\u001b[38;5;241m=\u001b[39mapi_base,\n\u001b[1;32m   (...)\u001b[0m\n\u001b[0;32m    112\u001b[0m     organization\u001b[38;5;241m=\u001b[39morganization,\n\u001b[0;32m    113\u001b[0m )\n\u001b[0;32m    114\u001b[0m url \u001b[38;5;241m=\u001b[39m \u001b[38;5;28mcls\u001b[39m\u001b[38;5;241m.\u001b[39mclass_url(engine, api_type, api_version)\n\u001b[1;32m--> 115\u001b[0m response, _, api_key \u001b[38;5;241m=\u001b[39m \u001b[43mrequestor\u001b[49m\u001b[38;5;241;43m.\u001b[39;49m\u001b[43mrequest\u001b[49m\u001b[43m(\u001b[49m\n\u001b[0;32m    116\u001b[0m \u001b[43m    \u001b[49m\u001b[38;5;124;43m\"\u001b[39;49m\u001b[38;5;124;43mpost\u001b[39;49m\u001b[38;5;124;43m\"\u001b[39;49m\u001b[43m,\u001b[49m\n\u001b[0;32m    117\u001b[0m \u001b[43m    \u001b[49m\u001b[43murl\u001b[49m\u001b[43m,\u001b[49m\n\u001b[0;32m    118\u001b[0m \u001b[43m    \u001b[49m\u001b[43mparams\u001b[49m\u001b[38;5;241;43m=\u001b[39;49m\u001b[43mparams\u001b[49m\u001b[43m,\u001b[49m\n\u001b[0;32m    119\u001b[0m \u001b[43m    \u001b[49m\u001b[43mheaders\u001b[49m\u001b[38;5;241;43m=\u001b[39;49m\u001b[43mheaders\u001b[49m\u001b[43m,\u001b[49m\n\u001b[0;32m    120\u001b[0m \u001b[43m    \u001b[49m\u001b[43mstream\u001b[49m\u001b[38;5;241;43m=\u001b[39;49m\u001b[43mstream\u001b[49m\u001b[43m,\u001b[49m\n\u001b[0;32m    121\u001b[0m \u001b[43m    \u001b[49m\u001b[43mrequest_id\u001b[49m\u001b[38;5;241;43m=\u001b[39;49m\u001b[43mrequest_id\u001b[49m\u001b[43m,\u001b[49m\n\u001b[0;32m    122\u001b[0m \u001b[43m    \u001b[49m\u001b[43mrequest_timeout\u001b[49m\u001b[38;5;241;43m=\u001b[39;49m\u001b[43mrequest_timeout\u001b[49m\u001b[43m,\u001b[49m\n\u001b[0;32m    123\u001b[0m \u001b[43m\u001b[49m\u001b[43m)\u001b[49m\n\u001b[0;32m    125\u001b[0m \u001b[38;5;28;01mif\u001b[39;00m stream:\n\u001b[0;32m    126\u001b[0m     \u001b[38;5;66;03m# must be an iterator\u001b[39;00m\n\u001b[0;32m    127\u001b[0m     \u001b[38;5;28;01massert\u001b[39;00m \u001b[38;5;129;01mnot\u001b[39;00m \u001b[38;5;28misinstance\u001b[39m(response, OpenAIResponse)\n",
      "File \u001b[1;32m~\\anaconda3\\lib\\site-packages\\openai\\api_requestor.py:171\u001b[0m, in \u001b[0;36mAPIRequestor.request\u001b[1;34m(self, method, url, params, headers, files, stream, request_id, request_timeout)\u001b[0m\n\u001b[0;32m    160\u001b[0m \u001b[38;5;28;01mdef\u001b[39;00m \u001b[38;5;21mrequest\u001b[39m(\n\u001b[0;32m    161\u001b[0m     \u001b[38;5;28mself\u001b[39m,\n\u001b[0;32m    162\u001b[0m     method,\n\u001b[1;32m   (...)\u001b[0m\n\u001b[0;32m    169\u001b[0m     request_timeout: Optional[Union[\u001b[38;5;28mfloat\u001b[39m, Tuple[\u001b[38;5;28mfloat\u001b[39m, \u001b[38;5;28mfloat\u001b[39m]]] \u001b[38;5;241m=\u001b[39m \u001b[38;5;28;01mNone\u001b[39;00m,\n\u001b[0;32m    170\u001b[0m ) \u001b[38;5;241m-\u001b[39m\u001b[38;5;241m>\u001b[39m Tuple[Union[OpenAIResponse, Iterator[OpenAIResponse]], \u001b[38;5;28mbool\u001b[39m, \u001b[38;5;28mstr\u001b[39m]:\n\u001b[1;32m--> 171\u001b[0m     result \u001b[38;5;241m=\u001b[39m \u001b[38;5;28;43mself\u001b[39;49m\u001b[38;5;241;43m.\u001b[39;49m\u001b[43mrequest_raw\u001b[49m\u001b[43m(\u001b[49m\n\u001b[0;32m    172\u001b[0m \u001b[43m        \u001b[49m\u001b[43mmethod\u001b[49m\u001b[38;5;241;43m.\u001b[39;49m\u001b[43mlower\u001b[49m\u001b[43m(\u001b[49m\u001b[43m)\u001b[49m\u001b[43m,\u001b[49m\n\u001b[0;32m    173\u001b[0m \u001b[43m        \u001b[49m\u001b[43murl\u001b[49m\u001b[43m,\u001b[49m\n\u001b[0;32m    174\u001b[0m \u001b[43m        \u001b[49m\u001b[43mparams\u001b[49m\u001b[38;5;241;43m=\u001b[39;49m\u001b[43mparams\u001b[49m\u001b[43m,\u001b[49m\n\u001b[0;32m    175\u001b[0m \u001b[43m        \u001b[49m\u001b[43msupplied_headers\u001b[49m\u001b[38;5;241;43m=\u001b[39;49m\u001b[43mheaders\u001b[49m\u001b[43m,\u001b[49m\n\u001b[0;32m    176\u001b[0m \u001b[43m        \u001b[49m\u001b[43mfiles\u001b[49m\u001b[38;5;241;43m=\u001b[39;49m\u001b[43mfiles\u001b[49m\u001b[43m,\u001b[49m\n\u001b[0;32m    177\u001b[0m \u001b[43m        \u001b[49m\u001b[43mstream\u001b[49m\u001b[38;5;241;43m=\u001b[39;49m\u001b[43mstream\u001b[49m\u001b[43m,\u001b[49m\n\u001b[0;32m    178\u001b[0m \u001b[43m        \u001b[49m\u001b[43mrequest_id\u001b[49m\u001b[38;5;241;43m=\u001b[39;49m\u001b[43mrequest_id\u001b[49m\u001b[43m,\u001b[49m\n\u001b[0;32m    179\u001b[0m \u001b[43m        \u001b[49m\u001b[43mrequest_timeout\u001b[49m\u001b[38;5;241;43m=\u001b[39;49m\u001b[43mrequest_timeout\u001b[49m\u001b[43m,\u001b[49m\n\u001b[0;32m    180\u001b[0m \u001b[43m    \u001b[49m\u001b[43m)\u001b[49m\n\u001b[0;32m    181\u001b[0m     resp, got_stream \u001b[38;5;241m=\u001b[39m \u001b[38;5;28mself\u001b[39m\u001b[38;5;241m.\u001b[39m_interpret_response(result, stream)\n\u001b[0;32m    182\u001b[0m     \u001b[38;5;28;01mreturn\u001b[39;00m resp, got_stream, \u001b[38;5;28mself\u001b[39m\u001b[38;5;241m.\u001b[39mapi_key\n",
      "File \u001b[1;32m~\\anaconda3\\lib\\site-packages\\openai\\api_requestor.py:368\u001b[0m, in \u001b[0;36mAPIRequestor.request_raw\u001b[1;34m(self, method, url, params, supplied_headers, files, stream, request_id, request_timeout)\u001b[0m\n\u001b[0;32m    366\u001b[0m     \u001b[38;5;28;01mraise\u001b[39;00m error\u001b[38;5;241m.\u001b[39mTimeout(\u001b[38;5;124m\"\u001b[39m\u001b[38;5;124mRequest timed out\u001b[39m\u001b[38;5;124m\"\u001b[39m) \u001b[38;5;28;01mfrom\u001b[39;00m \u001b[38;5;21;01me\u001b[39;00m\n\u001b[0;32m    367\u001b[0m \u001b[38;5;28;01mexcept\u001b[39;00m requests\u001b[38;5;241m.\u001b[39mexceptions\u001b[38;5;241m.\u001b[39mRequestException \u001b[38;5;28;01mas\u001b[39;00m e:\n\u001b[1;32m--> 368\u001b[0m     \u001b[38;5;28;01mraise\u001b[39;00m error\u001b[38;5;241m.\u001b[39mAPIConnectionError(\u001b[38;5;124m\"\u001b[39m\u001b[38;5;124mError communicating with OpenAI\u001b[39m\u001b[38;5;124m\"\u001b[39m) \u001b[38;5;28;01mfrom\u001b[39;00m \u001b[38;5;21;01me\u001b[39;00m\n\u001b[0;32m    369\u001b[0m util\u001b[38;5;241m.\u001b[39mlog_info(\n\u001b[0;32m    370\u001b[0m     \u001b[38;5;124m\"\u001b[39m\u001b[38;5;124mOpenAI API response\u001b[39m\u001b[38;5;124m\"\u001b[39m,\n\u001b[0;32m    371\u001b[0m     path\u001b[38;5;241m=\u001b[39mabs_url,\n\u001b[1;32m   (...)\u001b[0m\n\u001b[0;32m    374\u001b[0m     request_id\u001b[38;5;241m=\u001b[39mresult\u001b[38;5;241m.\u001b[39mheaders\u001b[38;5;241m.\u001b[39mget(\u001b[38;5;124m\"\u001b[39m\u001b[38;5;124mX-Request-Id\u001b[39m\u001b[38;5;124m\"\u001b[39m),\n\u001b[0;32m    375\u001b[0m )\n\u001b[0;32m    376\u001b[0m \u001b[38;5;66;03m# Don't read the whole stream for debug logging unless necessary.\u001b[39;00m\n",
      "\u001b[1;31mAPIConnectionError\u001b[0m: Error communicating with OpenAI"
     ]
    }
   ],
   "source": [
    "openai.api_key = api_access #API access\n",
    "sentiments_2 = []\n",
    "for tweet in tqdm(df3['Tweet']):\n",
    "    sentiment = sentiment_gpt(tweet)\n",
    "    sentiments_2.append(sentiment)\n",
    "    time.sleep(0.5) #needed due to the limit on the API requests per minute"
   ]
  },
  {
   "cell_type": "code",
   "execution_count": 220,
   "id": "3c7c09c2-29f1-43fe-83ff-522518797b8d",
   "metadata": {},
   "outputs": [
    {
     "data": {
      "text/plain": [
       "553"
      ]
     },
     "execution_count": 220,
     "metadata": {},
     "output_type": "execute_result"
    }
   ],
   "source": [
    "len(sentiments_2)"
   ]
  },
  {
   "cell_type": "markdown",
   "id": "8009a543-678e-4b21-8c73-2e9278c394b0",
   "metadata": {},
   "source": [
    "Unfortunately, only the first 553 tweets could be evaluated out of the 1000 from the sample. There was a problem with the API. We will simply evaluate the next 447 tweets left in df2. "
   ]
  },
  {
   "cell_type": "code",
   "execution_count": 221,
   "id": "511cf016-9eb5-43b6-b921-1e04fc58001d",
   "metadata": {},
   "outputs": [
    {
     "name": "stderr",
     "output_type": "stream",
     "text": [
      " 64%|██████▍   | 285/447 [05:59<03:24,  1.26s/it]\n"
     ]
    },
    {
     "ename": "RateLimitError",
     "evalue": "That model is currently overloaded with other requests. You can retry your request, or contact us through our help center at help.openai.com if the error persists. (Please include the request ID 076fb2523a01d63ec7dcdf6d6ea72d2d in your message.)",
     "output_type": "error",
     "traceback": [
      "\u001b[1;31m---------------------------------------------------------------------------\u001b[0m",
      "\u001b[1;31mRateLimitError\u001b[0m                            Traceback (most recent call last)",
      "Input \u001b[1;32mIn [221]\u001b[0m, in \u001b[0;36m<cell line: 2>\u001b[1;34m()\u001b[0m\n\u001b[0;32m      1\u001b[0m openai\u001b[38;5;241m.\u001b[39mapi_key \u001b[38;5;241m=\u001b[39m \u001b[38;5;124m'\u001b[39m\u001b[38;5;124msk-5s6925YNf204lrmrnwSrT3BlbkFJh8FTOLZOqyBhSziEXeX9\u001b[39m\u001b[38;5;124m'\u001b[39m \u001b[38;5;66;03m#API access\u001b[39;00m\n\u001b[0;32m      2\u001b[0m \u001b[38;5;28;01mfor\u001b[39;00m tweet \u001b[38;5;129;01min\u001b[39;00m tqdm(df1[\u001b[38;5;124m'\u001b[39m\u001b[38;5;124mText\u001b[39m\u001b[38;5;124m'\u001b[39m][\u001b[38;5;241m553\u001b[39m:]):\n\u001b[1;32m----> 3\u001b[0m     sentiment \u001b[38;5;241m=\u001b[39m \u001b[43msentiment_gpt\u001b[49m\u001b[43m(\u001b[49m\u001b[43mtweet\u001b[49m\u001b[43m)\u001b[49m\n\u001b[0;32m      4\u001b[0m     sentiments_2\u001b[38;5;241m.\u001b[39mappend(sentiment)\n\u001b[0;32m      5\u001b[0m     time\u001b[38;5;241m.\u001b[39msleep(\u001b[38;5;241m0.5\u001b[39m)\n",
      "Input \u001b[1;32mIn [132]\u001b[0m, in \u001b[0;36msentiment_gpt\u001b[1;34m(tweet)\u001b[0m\n\u001b[0;32m      1\u001b[0m \u001b[38;5;28;01mdef\u001b[39;00m \u001b[38;5;21msentiment_gpt\u001b[39m(tweet):\n\u001b[0;32m      3\u001b[0m     prompt\u001b[38;5;241m=\u001b[39m\u001b[38;5;124mf\u001b[39m\u001b[38;5;124m\"\u001b[39m\u001b[38;5;124mGiven that there is an ongoing conflict between Russia and Ukraine and that Putin is the president of Russia while Zelensky is the president of Ukraine, classify the sentiment of a given text as either supporting Ukraine, opposing Ukraine, or neutral. The text may discuss topics related to Russia or Ukraine as a whole, such as their presidents or cities in the country. If the text expresses support for Ukraine or opposition/dismay towards Russia, classify it as \u001b[39m\u001b[38;5;124m'\u001b[39m\u001b[38;5;124m1\u001b[39m\u001b[38;5;124m'\u001b[39m\u001b[38;5;124m. If the text expresses opposition to Ukraine or support for Russia, classify it as \u001b[39m\u001b[38;5;124m'\u001b[39m\u001b[38;5;124m-1\u001b[39m\u001b[38;5;124m'\u001b[39m\u001b[38;5;124m. If the text does not express a clear sentiment for or against Ukraine or Russia, classify it as \u001b[39m\u001b[38;5;124m'\u001b[39m\u001b[38;5;124m0\u001b[39m\u001b[38;5;124m'\u001b[39m\u001b[38;5;124m. \u001b[39m\u001b[38;5;130;01m\\n\u001b[39;00m\u001b[38;5;130;01m\\n\u001b[39;00m\u001b[38;5;124mText: \u001b[39m\u001b[38;5;132;01m{\u001b[39;00mtweet\u001b[38;5;132;01m}\u001b[39;00m\u001b[38;5;130;01m\\n\u001b[39;00m\u001b[38;5;130;01m\\n\u001b[39;00m\u001b[38;5;124mClassify: ###\u001b[39m\u001b[38;5;124m\"\u001b[39m\n\u001b[1;32m----> 4\u001b[0m     response \u001b[38;5;241m=\u001b[39m \u001b[43mopenai\u001b[49m\u001b[38;5;241;43m.\u001b[39;49m\u001b[43mCompletion\u001b[49m\u001b[38;5;241;43m.\u001b[39;49m\u001b[43mcreate\u001b[49m\u001b[43m(\u001b[49m\n\u001b[0;32m      5\u001b[0m \u001b[43m        \u001b[49m\u001b[43mengine\u001b[49m\u001b[38;5;241;43m=\u001b[39;49m\u001b[38;5;124;43m\"\u001b[39;49m\u001b[38;5;124;43mtext-davinci-003\u001b[39;49m\u001b[38;5;124;43m\"\u001b[39;49m\u001b[43m,\u001b[49m\n\u001b[0;32m      6\u001b[0m \u001b[43m        \u001b[49m\u001b[43mprompt\u001b[49m\u001b[38;5;241;43m=\u001b[39;49m\u001b[43mprompt\u001b[49m\u001b[43m,\u001b[49m\n\u001b[0;32m      7\u001b[0m \u001b[43m        \u001b[49m\u001b[43mmax_tokens\u001b[49m\u001b[38;5;241;43m=\u001b[39;49m\u001b[38;5;241;43m1024\u001b[39;49m\u001b[43m,\u001b[49m\n\u001b[0;32m      8\u001b[0m \u001b[43m        \u001b[49m\u001b[43mn\u001b[49m\u001b[38;5;241;43m=\u001b[39;49m\u001b[38;5;241;43m1\u001b[39;49m\u001b[43m,\u001b[49m\n\u001b[0;32m      9\u001b[0m \u001b[43m        \u001b[49m\u001b[43mstop\u001b[49m\u001b[38;5;241;43m=\u001b[39;49m\u001b[38;5;124;43m'\u001b[39;49m\u001b[38;5;124;43m###\u001b[39;49m\u001b[38;5;124;43m'\u001b[39;49m\u001b[43m,\u001b[49m\n\u001b[0;32m     10\u001b[0m \u001b[43m        \u001b[49m\u001b[43mtemperature\u001b[49m\u001b[38;5;241;43m=\u001b[39;49m\u001b[38;5;241;43m0.2\u001b[39;49m\u001b[43m,\u001b[49m\n\u001b[0;32m     11\u001b[0m \u001b[43m    \u001b[49m\u001b[43m)\u001b[49m\n\u001b[0;32m     12\u001b[0m     output \u001b[38;5;241m=\u001b[39m response[\u001b[38;5;124m\"\u001b[39m\u001b[38;5;124mchoices\u001b[39m\u001b[38;5;124m\"\u001b[39m][\u001b[38;5;241m0\u001b[39m][\u001b[38;5;124m\"\u001b[39m\u001b[38;5;124mtext\u001b[39m\u001b[38;5;124m\"\u001b[39m]\n\u001b[0;32m     13\u001b[0m     \u001b[38;5;28;01mreturn\u001b[39;00m output\n",
      "File \u001b[1;32m~\\anaconda3\\lib\\site-packages\\openai\\api_resources\\completion.py:25\u001b[0m, in \u001b[0;36mCompletion.create\u001b[1;34m(cls, *args, **kwargs)\u001b[0m\n\u001b[0;32m     23\u001b[0m \u001b[38;5;28;01mwhile\u001b[39;00m \u001b[38;5;28;01mTrue\u001b[39;00m:\n\u001b[0;32m     24\u001b[0m     \u001b[38;5;28;01mtry\u001b[39;00m:\n\u001b[1;32m---> 25\u001b[0m         \u001b[38;5;28;01mreturn\u001b[39;00m \u001b[38;5;28msuper\u001b[39m()\u001b[38;5;241m.\u001b[39mcreate(\u001b[38;5;241m*\u001b[39margs, \u001b[38;5;241m*\u001b[39m\u001b[38;5;241m*\u001b[39mkwargs)\n\u001b[0;32m     26\u001b[0m     \u001b[38;5;28;01mexcept\u001b[39;00m TryAgain \u001b[38;5;28;01mas\u001b[39;00m e:\n\u001b[0;32m     27\u001b[0m         \u001b[38;5;28;01mif\u001b[39;00m timeout \u001b[38;5;129;01mis\u001b[39;00m \u001b[38;5;129;01mnot\u001b[39;00m \u001b[38;5;28;01mNone\u001b[39;00m \u001b[38;5;129;01mand\u001b[39;00m time\u001b[38;5;241m.\u001b[39mtime() \u001b[38;5;241m>\u001b[39m start \u001b[38;5;241m+\u001b[39m timeout:\n",
      "File \u001b[1;32m~\\anaconda3\\lib\\site-packages\\openai\\api_resources\\abstract\\engine_api_resource.py:115\u001b[0m, in \u001b[0;36mEngineAPIResource.create\u001b[1;34m(cls, api_key, api_base, api_type, request_id, api_version, organization, **params)\u001b[0m\n\u001b[0;32m    107\u001b[0m requestor \u001b[38;5;241m=\u001b[39m api_requestor\u001b[38;5;241m.\u001b[39mAPIRequestor(\n\u001b[0;32m    108\u001b[0m     api_key,\n\u001b[0;32m    109\u001b[0m     api_base\u001b[38;5;241m=\u001b[39mapi_base,\n\u001b[1;32m   (...)\u001b[0m\n\u001b[0;32m    112\u001b[0m     organization\u001b[38;5;241m=\u001b[39morganization,\n\u001b[0;32m    113\u001b[0m )\n\u001b[0;32m    114\u001b[0m url \u001b[38;5;241m=\u001b[39m \u001b[38;5;28mcls\u001b[39m\u001b[38;5;241m.\u001b[39mclass_url(engine, api_type, api_version)\n\u001b[1;32m--> 115\u001b[0m response, _, api_key \u001b[38;5;241m=\u001b[39m \u001b[43mrequestor\u001b[49m\u001b[38;5;241;43m.\u001b[39;49m\u001b[43mrequest\u001b[49m\u001b[43m(\u001b[49m\n\u001b[0;32m    116\u001b[0m \u001b[43m    \u001b[49m\u001b[38;5;124;43m\"\u001b[39;49m\u001b[38;5;124;43mpost\u001b[39;49m\u001b[38;5;124;43m\"\u001b[39;49m\u001b[43m,\u001b[49m\n\u001b[0;32m    117\u001b[0m \u001b[43m    \u001b[49m\u001b[43murl\u001b[49m\u001b[43m,\u001b[49m\n\u001b[0;32m    118\u001b[0m \u001b[43m    \u001b[49m\u001b[43mparams\u001b[49m\u001b[38;5;241;43m=\u001b[39;49m\u001b[43mparams\u001b[49m\u001b[43m,\u001b[49m\n\u001b[0;32m    119\u001b[0m \u001b[43m    \u001b[49m\u001b[43mheaders\u001b[49m\u001b[38;5;241;43m=\u001b[39;49m\u001b[43mheaders\u001b[49m\u001b[43m,\u001b[49m\n\u001b[0;32m    120\u001b[0m \u001b[43m    \u001b[49m\u001b[43mstream\u001b[49m\u001b[38;5;241;43m=\u001b[39;49m\u001b[43mstream\u001b[49m\u001b[43m,\u001b[49m\n\u001b[0;32m    121\u001b[0m \u001b[43m    \u001b[49m\u001b[43mrequest_id\u001b[49m\u001b[38;5;241;43m=\u001b[39;49m\u001b[43mrequest_id\u001b[49m\u001b[43m,\u001b[49m\n\u001b[0;32m    122\u001b[0m \u001b[43m    \u001b[49m\u001b[43mrequest_timeout\u001b[49m\u001b[38;5;241;43m=\u001b[39;49m\u001b[43mrequest_timeout\u001b[49m\u001b[43m,\u001b[49m\n\u001b[0;32m    123\u001b[0m \u001b[43m\u001b[49m\u001b[43m)\u001b[49m\n\u001b[0;32m    125\u001b[0m \u001b[38;5;28;01mif\u001b[39;00m stream:\n\u001b[0;32m    126\u001b[0m     \u001b[38;5;66;03m# must be an iterator\u001b[39;00m\n\u001b[0;32m    127\u001b[0m     \u001b[38;5;28;01massert\u001b[39;00m \u001b[38;5;129;01mnot\u001b[39;00m \u001b[38;5;28misinstance\u001b[39m(response, OpenAIResponse)\n",
      "File \u001b[1;32m~\\anaconda3\\lib\\site-packages\\openai\\api_requestor.py:181\u001b[0m, in \u001b[0;36mAPIRequestor.request\u001b[1;34m(self, method, url, params, headers, files, stream, request_id, request_timeout)\u001b[0m\n\u001b[0;32m    160\u001b[0m \u001b[38;5;28;01mdef\u001b[39;00m \u001b[38;5;21mrequest\u001b[39m(\n\u001b[0;32m    161\u001b[0m     \u001b[38;5;28mself\u001b[39m,\n\u001b[0;32m    162\u001b[0m     method,\n\u001b[1;32m   (...)\u001b[0m\n\u001b[0;32m    169\u001b[0m     request_timeout: Optional[Union[\u001b[38;5;28mfloat\u001b[39m, Tuple[\u001b[38;5;28mfloat\u001b[39m, \u001b[38;5;28mfloat\u001b[39m]]] \u001b[38;5;241m=\u001b[39m \u001b[38;5;28;01mNone\u001b[39;00m,\n\u001b[0;32m    170\u001b[0m ) \u001b[38;5;241m-\u001b[39m\u001b[38;5;241m>\u001b[39m Tuple[Union[OpenAIResponse, Iterator[OpenAIResponse]], \u001b[38;5;28mbool\u001b[39m, \u001b[38;5;28mstr\u001b[39m]:\n\u001b[0;32m    171\u001b[0m     result \u001b[38;5;241m=\u001b[39m \u001b[38;5;28mself\u001b[39m\u001b[38;5;241m.\u001b[39mrequest_raw(\n\u001b[0;32m    172\u001b[0m         method\u001b[38;5;241m.\u001b[39mlower(),\n\u001b[0;32m    173\u001b[0m         url,\n\u001b[1;32m   (...)\u001b[0m\n\u001b[0;32m    179\u001b[0m         request_timeout\u001b[38;5;241m=\u001b[39mrequest_timeout,\n\u001b[0;32m    180\u001b[0m     )\n\u001b[1;32m--> 181\u001b[0m     resp, got_stream \u001b[38;5;241m=\u001b[39m \u001b[38;5;28;43mself\u001b[39;49m\u001b[38;5;241;43m.\u001b[39;49m\u001b[43m_interpret_response\u001b[49m\u001b[43m(\u001b[49m\u001b[43mresult\u001b[49m\u001b[43m,\u001b[49m\u001b[43m \u001b[49m\u001b[43mstream\u001b[49m\u001b[43m)\u001b[49m\n\u001b[0;32m    182\u001b[0m     \u001b[38;5;28;01mreturn\u001b[39;00m resp, got_stream, \u001b[38;5;28mself\u001b[39m\u001b[38;5;241m.\u001b[39mapi_key\n",
      "File \u001b[1;32m~\\anaconda3\\lib\\site-packages\\openai\\api_requestor.py:396\u001b[0m, in \u001b[0;36mAPIRequestor._interpret_response\u001b[1;34m(self, result, stream)\u001b[0m\n\u001b[0;32m    388\u001b[0m     \u001b[38;5;28;01mreturn\u001b[39;00m (\n\u001b[0;32m    389\u001b[0m         \u001b[38;5;28mself\u001b[39m\u001b[38;5;241m.\u001b[39m_interpret_response_line(\n\u001b[0;32m    390\u001b[0m             line, result\u001b[38;5;241m.\u001b[39mstatus_code, result\u001b[38;5;241m.\u001b[39mheaders, stream\u001b[38;5;241m=\u001b[39m\u001b[38;5;28;01mTrue\u001b[39;00m\n\u001b[0;32m    391\u001b[0m         )\n\u001b[0;32m    392\u001b[0m         \u001b[38;5;28;01mfor\u001b[39;00m line \u001b[38;5;129;01min\u001b[39;00m parse_stream(result\u001b[38;5;241m.\u001b[39miter_lines())\n\u001b[0;32m    393\u001b[0m     ), \u001b[38;5;28;01mTrue\u001b[39;00m\n\u001b[0;32m    394\u001b[0m \u001b[38;5;28;01melse\u001b[39;00m:\n\u001b[0;32m    395\u001b[0m     \u001b[38;5;28;01mreturn\u001b[39;00m (\n\u001b[1;32m--> 396\u001b[0m         \u001b[38;5;28;43mself\u001b[39;49m\u001b[38;5;241;43m.\u001b[39;49m\u001b[43m_interpret_response_line\u001b[49m\u001b[43m(\u001b[49m\n\u001b[0;32m    397\u001b[0m \u001b[43m            \u001b[49m\u001b[43mresult\u001b[49m\u001b[38;5;241;43m.\u001b[39;49m\u001b[43mcontent\u001b[49m\u001b[43m,\u001b[49m\u001b[43m \u001b[49m\u001b[43mresult\u001b[49m\u001b[38;5;241;43m.\u001b[39;49m\u001b[43mstatus_code\u001b[49m\u001b[43m,\u001b[49m\u001b[43m \u001b[49m\u001b[43mresult\u001b[49m\u001b[38;5;241;43m.\u001b[39;49m\u001b[43mheaders\u001b[49m\u001b[43m,\u001b[49m\u001b[43m \u001b[49m\u001b[43mstream\u001b[49m\u001b[38;5;241;43m=\u001b[39;49m\u001b[38;5;28;43;01mFalse\u001b[39;49;00m\n\u001b[0;32m    398\u001b[0m \u001b[43m        \u001b[49m\u001b[43m)\u001b[49m,\n\u001b[0;32m    399\u001b[0m         \u001b[38;5;28;01mFalse\u001b[39;00m,\n\u001b[0;32m    400\u001b[0m     )\n",
      "File \u001b[1;32m~\\anaconda3\\lib\\site-packages\\openai\\api_requestor.py:429\u001b[0m, in \u001b[0;36mAPIRequestor._interpret_response_line\u001b[1;34m(self, rbody, rcode, rheaders, stream)\u001b[0m\n\u001b[0;32m    427\u001b[0m stream_error \u001b[38;5;241m=\u001b[39m stream \u001b[38;5;129;01mand\u001b[39;00m \u001b[38;5;124m\"\u001b[39m\u001b[38;5;124merror\u001b[39m\u001b[38;5;124m\"\u001b[39m \u001b[38;5;129;01min\u001b[39;00m resp\u001b[38;5;241m.\u001b[39mdata\n\u001b[0;32m    428\u001b[0m \u001b[38;5;28;01mif\u001b[39;00m stream_error \u001b[38;5;129;01mor\u001b[39;00m \u001b[38;5;129;01mnot\u001b[39;00m \u001b[38;5;241m200\u001b[39m \u001b[38;5;241m<\u001b[39m\u001b[38;5;241m=\u001b[39m rcode \u001b[38;5;241m<\u001b[39m \u001b[38;5;241m300\u001b[39m:\n\u001b[1;32m--> 429\u001b[0m     \u001b[38;5;28;01mraise\u001b[39;00m \u001b[38;5;28mself\u001b[39m\u001b[38;5;241m.\u001b[39mhandle_error_response(\n\u001b[0;32m    430\u001b[0m         rbody, rcode, resp\u001b[38;5;241m.\u001b[39mdata, rheaders, stream_error\u001b[38;5;241m=\u001b[39mstream_error\n\u001b[0;32m    431\u001b[0m     )\n\u001b[0;32m    432\u001b[0m \u001b[38;5;28;01mreturn\u001b[39;00m resp\n",
      "\u001b[1;31mRateLimitError\u001b[0m: That model is currently overloaded with other requests. You can retry your request, or contact us through our help center at help.openai.com if the error persists. (Please include the request ID 076fb2523a01d63ec7dcdf6d6ea72d2d in your message.)"
     ]
    }
   ],
   "source": [
    "openai.api_key = api_access #API access\n",
    "for tweet in tqdm(df1['Text'][553:]):\n",
    "    sentiment = sentiment_gpt(tweet)\n",
    "    sentiments_2.append(sentiment)\n",
    "    time.sleep(0.5) #needed due to the limit on the API requests per minute"
   ]
  },
  {
   "cell_type": "code",
   "execution_count": 222,
   "id": "14d28129-5bc6-4d52-871f-301973be171c",
   "metadata": {},
   "outputs": [
    {
     "data": {
      "text/plain": [
       "838"
      ]
     },
     "execution_count": 222,
     "metadata": {},
     "output_type": "execute_result"
    }
   ],
   "source": [
    "len(sentiments_2)"
   ]
  },
  {
   "cell_type": "markdown",
   "id": "c582aaad-d6a2-4a1e-9888-2c368e028387",
   "metadata": {},
   "source": [
    "Unfortunately, only the first 838 tweets could be evaluated out of the 1000 from the sample. There was a problem with the API. We will simply evaluate the next 162 tweets left in df2. "
   ]
  },
  {
   "cell_type": "code",
   "execution_count": 223,
   "id": "16ef4d79-71ad-4ff5-ac18-5f3980cc3dd4",
   "metadata": {},
   "outputs": [
    {
     "name": "stderr",
     "output_type": "stream",
     "text": [
      "100%|██████████| 162/162 [01:45<00:00,  1.54it/s]\n"
     ]
    }
   ],
   "source": [
    "openai.api_key = api_access #API access\n",
    "for tweet in tqdm(df1['Text'][838:]):\n",
    "    sentiment = sentiment_gpt(tweet)\n",
    "    sentiments_2.append(sentiment)\n",
    "    "
   ]
  },
  {
   "cell_type": "code",
   "execution_count": 228,
   "id": "87535434-973a-4a74-9410-ebd2ec7e82c2",
   "metadata": {},
   "outputs": [],
   "source": [
    "#clean some of the data\n",
    "index_to_replace = sentiments_2.index(' Neutral (0)')\n",
    "sentiments_2[index_to_replace]='0'"
   ]
  },
  {
   "cell_type": "code",
   "execution_count": 230,
   "id": "f906743f-68a9-4e2a-aae4-e1044db67e14",
   "metadata": {},
   "outputs": [
    {
     "data": {
      "text/html": [
       "<div>\n",
       "<style scoped>\n",
       "    .dataframe tbody tr th:only-of-type {\n",
       "        vertical-align: middle;\n",
       "    }\n",
       "\n",
       "    .dataframe tbody tr th {\n",
       "        vertical-align: top;\n",
       "    }\n",
       "\n",
       "    .dataframe thead th {\n",
       "        text-align: right;\n",
       "    }\n",
       "</style>\n",
       "<table border=\"1\" class=\"dataframe\">\n",
       "  <thead>\n",
       "    <tr style=\"text-align: right;\">\n",
       "      <th></th>\n",
       "      <th>index</th>\n",
       "      <th>Tweet</th>\n",
       "      <th>Sentiment_llm</th>\n",
       "    </tr>\n",
       "  </thead>\n",
       "  <tbody>\n",
       "    <tr>\n",
       "      <th>0</th>\n",
       "      <td>30873</td>\n",
       "      <td>Carpe Diem,  Pluk de dag voordat je zelf in ee...</td>\n",
       "      <td>0</td>\n",
       "    </tr>\n",
       "    <tr>\n",
       "      <th>1</th>\n",
       "      <td>5648</td>\n",
       "      <td>Deputy Crime Minister &amp; Minister of Journalism...</td>\n",
       "      <td>0</td>\n",
       "    </tr>\n",
       "    <tr>\n",
       "      <th>2</th>\n",
       "      <td>26648</td>\n",
       "      <td>We Support 🇺🇦</td>\n",
       "      <td>1</td>\n",
       "    </tr>\n",
       "    <tr>\n",
       "      <th>3</th>\n",
       "      <td>6455</td>\n",
       "      <td>Pro-white Conservative entrepreneur \\n#God #US...</td>\n",
       "      <td>0</td>\n",
       "    </tr>\n",
       "    <tr>\n",
       "      <th>4</th>\n",
       "      <td>21885</td>\n",
       "      <td>Fuck Russia</td>\n",
       "      <td>-1</td>\n",
       "    </tr>\n",
       "    <tr>\n",
       "      <th>...</th>\n",
       "      <td>...</td>\n",
       "      <td>...</td>\n",
       "      <td>...</td>\n",
       "    </tr>\n",
       "    <tr>\n",
       "      <th>995</th>\n",
       "      <td>32358</td>\n",
       "      <td>Digital 2D artist | 24 y.o | Ukraine, Kharkiv ...</td>\n",
       "      <td>0</td>\n",
       "    </tr>\n",
       "    <tr>\n",
       "      <th>996</th>\n",
       "      <td>9109</td>\n",
       "      <td>🇺🇦 Ukraine News 🛰️ Reliable Credible\\n📢 Crimea...</td>\n",
       "      <td>0</td>\n",
       "    </tr>\n",
       "    <tr>\n",
       "      <th>997</th>\n",
       "      <td>526</td>\n",
       "      <td>Geopolitics - Foreign Policy -  International ...</td>\n",
       "      <td>0</td>\n",
       "    </tr>\n",
       "    <tr>\n",
       "      <th>998</th>\n",
       "      <td>32291</td>\n",
       "      <td>STOP À LA CENSURE DES HONNÊTES GENS QUI EXPRIM...</td>\n",
       "      <td>1</td>\n",
       "    </tr>\n",
       "    <tr>\n",
       "      <th>999</th>\n",
       "      <td>9021</td>\n",
       "      <td>Leeds United fan. Used to work there, but Cell...</td>\n",
       "      <td>0</td>\n",
       "    </tr>\n",
       "  </tbody>\n",
       "</table>\n",
       "<p>1000 rows × 3 columns</p>\n",
       "</div>"
      ],
      "text/plain": [
       "     index                                              Tweet  Sentiment_llm\n",
       "0    30873  Carpe Diem,  Pluk de dag voordat je zelf in ee...              0\n",
       "1     5648  Deputy Crime Minister & Minister of Journalism...              0\n",
       "2    26648                                      We Support 🇺🇦              1\n",
       "3     6455  Pro-white Conservative entrepreneur \\n#God #US...              0\n",
       "4    21885                                        Fuck Russia             -1\n",
       "..     ...                                                ...            ...\n",
       "995  32358  Digital 2D artist | 24 y.o | Ukraine, Kharkiv ...              0\n",
       "996   9109  🇺🇦 Ukraine News 🛰️ Reliable Credible\\n📢 Crimea...              0\n",
       "997    526  Geopolitics - Foreign Policy -  International ...              0\n",
       "998  32291  STOP À LA CENSURE DES HONNÊTES GENS QUI EXPRIM...              1\n",
       "999   9021  Leeds United fan. Used to work there, but Cell...              0\n",
       "\n",
       "[1000 rows x 3 columns]"
      ]
     },
     "execution_count": 230,
     "metadata": {},
     "output_type": "execute_result"
    }
   ],
   "source": [
    "sentiments_2 = [int(s) for s in sentiments_2]\n",
    "df3.loc[:, 'Sentiment_llm'] = sentiments_2\n",
    "df3"
   ]
  },
  {
   "cell_type": "code",
   "execution_count": 231,
   "id": "afb6ab90-ae66-4a43-b165-225377fe75f3",
   "metadata": {},
   "outputs": [],
   "source": [
    "#Save the df to a csv\n",
    "df3.to_csv('Data/part_2/sentiment_llm_2.csv', index=False)\n"
   ]
  },
  {
   "cell_type": "code",
   "execution_count": 232,
   "id": "7ab526b1-9cfa-4f97-b007-c93593c9be75",
   "metadata": {},
   "outputs": [],
   "source": [
    "#Reassign df1 to the csv we saved\n",
    "df3=pd.read_csv('Data/part_2/sentiment_llm_2.csv')"
   ]
  },
  {
   "cell_type": "code",
   "execution_count": 234,
   "id": "dcc78bf9-6ce7-433f-83e7-351c35c7d2b3",
   "metadata": {},
   "outputs": [
    {
     "name": "stdout",
     "output_type": "stream",
     "text": [
      " 0    672\n",
      " 1    268\n",
      "-1     60\n",
      "Name: Sentiment_llm, dtype: int64\n",
      " 0    0.672\n",
      " 1    0.268\n",
      "-1    0.060\n",
      "Name: Sentiment_llm, dtype: float64\n"
     ]
    },
    {
     "data": {
      "text/plain": [
       "<AxesSubplot:>"
      ]
     },
     "execution_count": 234,
     "metadata": {},
     "output_type": "execute_result"
    },
    {
     "data": {
      "image/png": "[encoded data removed]",
      "text/plain": [
       "<Figure size 432x288 with 1 Axes>"
      ]
     },
     "metadata": {
      "needs_background": "light"
     },
     "output_type": "display_data"
    }
   ],
   "source": [
    "counts = df3['Sentiment_llm'].value_counts()\n",
    "proportions = counts / len(df3)\n",
    "print(counts)\n",
    "print(proportions)\n",
    "counts.plot(kind='bar')"
   ]
  },
  {
   "cell_type": "markdown",
   "id": "eb9c3500-dfb7-4d60-932f-cf7f15659da1",
   "metadata": {},
   "source": [
    "As we can see above, most tweets seemed to be neutral. However, let's get an understanding for what neutral means to GPT-3 by seeing some examples of all classifications..."
   ]
  },
  {
   "cell_type": "markdown",
   "id": "aa62af56-4578-4a63-973e-0b25186a53df",
   "metadata": {},
   "source": [
    "Bellow we can see that the percentage of 1's is 26.8% of the data, while the percentage of -1's is 6%."
   ]
  },
  {
   "cell_type": "code",
   "execution_count": 243,
   "id": "0e713a9c-8208-4906-9710-01376944d2d3",
   "metadata": {},
   "outputs": [
    {
     "name": "stdout",
     "output_type": "stream",
     "text": [
      "Percentage of 1's: 26.8\n",
      "Number of tweets classified as '1': 268\n",
      "Percentage of -1's: 6.0\n",
      "Number of tweets classified as '-1': 60\n"
     ]
    }
   ],
   "source": [
    "print(f\"Percentage of 1's: {df3['Sentiment_llm'].value_counts()[1]/len(df3)*100}\")\n",
    "print(f\"Number of tweets classified as '1': {df3['Sentiment_llm'].value_counts()[1]}\")\n",
    "print(f\"Percentage of -1's: {df3['Sentiment_llm'].value_counts()[-1]/len(df3)*100}\")\n",
    "print(f\"Number of tweets classified as '-1': {df3['Sentiment_llm'].value_counts()[-1]}\")"
   ]
  },
  {
   "cell_type": "markdown",
   "id": "329af2f2-7640-408d-8b35-0966c8d0d9dc",
   "metadata": {},
   "source": [
    "# Comparing the Data"
   ]
  },
  {
   "cell_type": "markdown",
   "id": "f2a245c4-d731-42e4-8f53-ac1783acade4",
   "metadata": {},
   "source": [
    "## Part 1 Data"
   ]
  },
  {
   "cell_type": "code",
   "execution_count": 247,
   "id": "47548c0b-6153-43fd-b85b-1594f6587d1e",
   "metadata": {},
   "outputs": [
    {
     "name": "stdout",
     "output_type": "stream",
     "text": [
      "Percentage of 1's: 42.6\n",
      "Number of tweets classified as '1': 426\n",
      "Percentage of -1's: 10.6\n",
      "Number of tweets classified as '-1': 106\n"
     ]
    }
   ],
   "source": [
    "print(f\"Percentage of 1's: {df1['Sentiment_llm'].value_counts()[1]/len(df1)*100}\")\n",
    "print(f\"Number of tweets classified as '1': {df1['Sentiment_llm'].value_counts()[1]}\")\n",
    "print(f\"Percentage of -1's: {df1['Sentiment_llm'].value_counts()[-1]/len(df1)*100}\")\n",
    "print(f\"Number of tweets classified as '-1': {df1['Sentiment_llm'].value_counts()[-1]}\")"
   ]
  },
  {
   "cell_type": "markdown",
   "id": "bc2593a0-6ddb-46bb-a844-96936b5c3168",
   "metadata": {},
   "source": [
    "## Part 2 Data"
   ]
  },
  {
   "cell_type": "code",
   "execution_count": 246,
   "id": "f9b1edbe-e6d9-435a-886d-e5f11a5ce8d6",
   "metadata": {},
   "outputs": [
    {
     "name": "stdout",
     "output_type": "stream",
     "text": [
      "Percentage of 1's: 26.8\n",
      "Number of tweets classified as '1': 268\n",
      "Percentage of -1's: 6.0\n",
      "Number of tweets classified as '-1': 60\n"
     ]
    }
   ],
   "source": [
    "print(f\"Percentage of 1's: {df3['Sentiment_llm'].value_counts()[1]/len(df3)*100}\")\n",
    "print(f\"Number of tweets classified as '1': {df3['Sentiment_llm'].value_counts()[1]}\")\n",
    "print(f\"Percentage of -1's: {df3['Sentiment_llm'].value_counts()[-1]/len(df3)*100}\")\n",
    "print(f\"Number of tweets classified as '-1': {df3['Sentiment_llm'].value_counts()[-1]}\")"
   ]
  },
  {
   "cell_type": "markdown",
   "id": "4bfd1eb8-47a1-4b73-80cd-8648b1938c1d",
   "metadata": {},
   "source": [
    "### Apply data to our game"
   ]
  },
  {
   "cell_type": "markdown",
   "id": "73fc4d3a-76bf-41c5-870d-80563cad2d0f",
   "metadata": {},
   "source": [
    "We will assume that the % of tweets classified as '1' demonstrates the amount by which the EU population \"supports\" the Ukraine, while the % of tweets classified as '-1' demonstrates the amount by which the EU population \"supports\" Russia. Let's analyze the differences in % from Part 1 to Part 2."
   ]
  },
  {
   "cell_type": "code",
   "execution_count": 252,
   "id": "6314c099-a742-470a-ae6a-d4d84807adae",
   "metadata": {},
   "outputs": [
    {
     "name": "stdout",
     "output_type": "stream",
     "text": [
      "Percentage decrease in 1's: -15.8\n",
      "Percentage decrease in -1's: -4.6\n"
     ]
    }
   ],
   "source": [
    "#percent_change= (df1['Sentiment_llm'].value_counts()[1]-df3['Sentiment_llm'].value_counts()[1])/df1['Sentiment_llm'].value_counts()[1]*100\n",
    "percent_dec_1= df3['Sentiment_llm'].value_counts()[1]/len(df3)*100-df1['Sentiment_llm'].value_counts()[1]/len(df1)*100\n",
    "\n",
    "percent_dec_neg_1=df3['Sentiment_llm'].value_counts()[-1]/len(df3)*100-df1['Sentiment_llm'].value_counts()[-1]/len(df1)*100\n",
    "\n",
    "print(f\"Percentage decrease in 1's: {percent_dec_1}\")\n",
    "print(f\"Percentage decrease in -1's: {percent_dec_neg_1}\")\n"
   ]
  },
  {
   "cell_type": "markdown",
   "id": "4199e0aa-3b06-4412-938b-27d353b76e48",
   "metadata": {},
   "source": [
    "This shows that 15.8% less of the tweets showed support towards Ukraine. We also see that there was ~1.6x more support for Ukraine in time frame 1 compared to time frame 2. This will be the value we use to justify the difference in payoffs between certain end nodes for our \"public perception parameter\" in our game."
   ]
  },
  {
   "cell_type": "markdown",
   "id": "e630dccc-d662-4e6f-90de-c6f4217772fe",
   "metadata": {},
   "source": [
    "We will round 1.6 to 2 for the simplicity of our model. Hence, 2 will be our \"alpha\". The \"alpha\" parameter serves as a useful starting point for determining payoffs related to the public perception parameter. It offers a more meaningful and informed approach to calculating payoffs, thereby enabling us to make more accurate and nuanced decisions. By using the \"alpha\" parameter as a base reference, we can take into account the varying degrees of public perception and adjust our payoffs accordingly. This ensures that our decisions are grounded in a more realistic and representative understanding of the public sentiment towards the EU and Russia."
   ]
  },
  {
   "cell_type": "markdown",
   "id": "2063f5b3-eb7a-4c76-991f-8c1f2a89dcaf",
   "metadata": {},
   "source": [
    "## Beta constant"
   ]
  },
  {
   "cell_type": "markdown",
   "id": "0c54ddea-c257-4244-94f5-9232e4c60958",
   "metadata": {},
   "source": [
    "Our constant 'Beta' will be informed by this website: https://ec.europa.eu/eurostat/statistics-explained/index.php?title=Natural_gas_price_statistics#:~:text=Year%2Don%2Dyear%20non%2D,from%2067%25%20to%20271%25. It says gas prices increases across Europe ranged from 67% to 271%.\". Hence to get Beta we will simply take the average of 67% and 271% (which is 169%), and then round accordingly. This leaves 'Beta' equal to 2. We will use this value to infrom the payoffs of our economic parameter. Gas price changes is a good indicator to evaluate an economy's stability as gas is a very common cost of production for most firms, meaning volatility in this statistic gives a good indication for the health of an economy."
   ]
  }
 ],
 "metadata": {
  "kernelspec": {
   "display_name": "Python 3 (ipykernel)",
   "language": "python",
   "name": "python3"
  },
  "language_info": {
   "codemirror_mode": {
    "name": "ipython",
    "version": 3
   },
   "file_extension": ".py",
   "mimetype": "text/x-python",
   "name": "python",
   "nbconvert_exporter": "python",
   "pygments_lexer": "ipython3",
   "version": "3.9.12"
  }
 },
 "nbformat": 4,
 "nbformat_minor": 5
}
